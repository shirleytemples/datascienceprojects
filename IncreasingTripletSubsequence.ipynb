{
 "cells": [
  {
   "cell_type": "code",
   "execution_count": null,
   "id": "2bb6f4aa-3006-4b35-8f3f-a0d88eb94004",
   "metadata": {},
   "outputs": [],
   "source": [
    "def increasingTriplets(nums):\n",
    "    for i in nums:\n",
    "        if "
   ]
  },
  {
   "cell_type": "code",
   "execution_count": 96,
   "id": "242800c8-5cbf-45cc-b38b-7296815df6b0",
   "metadata": {
    "tags": []
   },
   "outputs": [],
   "source": [
    "nums = [20,100,10,12,5,13]"
   ]
  },
  {
   "cell_type": "code",
   "execution_count": 39,
   "id": "c0c02584-faeb-4827-98e3-63353294ea8f",
   "metadata": {
    "tags": []
   },
   "outputs": [
    {
     "name": "stdout",
     "output_type": "stream",
     "text": [
      "1\n",
      "2\n",
      "3\n"
     ]
    }
   ],
   "source": [
    "for i in nums:\n",
    "    if i < len(nums)-1:\n",
    "        print(nums[i-1])"
   ]
  },
  {
   "cell_type": "code",
   "execution_count": 57,
   "id": "2b9105d5-d01c-4baa-8048-fe2fe1499638",
   "metadata": {
    "tags": []
   },
   "outputs": [
    {
     "name": "stdout",
     "output_type": "stream",
     "text": [
      "13\n",
      "5\n",
      "12\n",
      "10\n",
      "100\n",
      "20\n"
     ]
    }
   ],
   "source": [
    "for i in range(len(nums)):\n",
    "    print(nums[::-1][i])"
   ]
  },
  {
   "cell_type": "code",
   "execution_count": 44,
   "id": "562ab38b-3380-475f-9c48-994d40601fa0",
   "metadata": {
    "tags": []
   },
   "outputs": [],
   "source": [
    "def increasingTriplets(nums):\n",
    "    x=0\n",
    "    for i in range(len(nums)-1):\n",
    "        if i< len(nums)-1 and nums[i] < nums[i+1]:\n",
    "            \n",
    "            return True\n",
    "    return False"
   ]
  },
  {
   "cell_type": "code",
   "execution_count": 45,
   "id": "b45ba6b7-562d-4677-a35a-81efc75939ba",
   "metadata": {
    "tags": []
   },
   "outputs": [
    {
     "data": {
      "text/plain": [
       "False"
      ]
     },
     "execution_count": 45,
     "metadata": {},
     "output_type": "execute_result"
    }
   ],
   "source": [
    "increasingTriplets(nums)"
   ]
  },
  {
   "cell_type": "code",
   "execution_count": null,
   "id": "bc17015c-583c-49c2-a534-a8cf24760257",
   "metadata": {},
   "outputs": [],
   "source": [
    "def increasingTriplets(nums):\n",
    "    for i in range(len(nums)-1):\n",
    "        if i< len(nums)-2 and nums[i] < nums[i+1] and nums[i+1] < nums[i+2]:\n",
    "            return True\n",
    "    return False"
   ]
  },
  {
   "cell_type": "code",
   "execution_count": 97,
   "id": "6cc77c99-94b2-4763-a9d3-4fa1fe9744cb",
   "metadata": {
    "tags": []
   },
   "outputs": [],
   "source": [
    "def increasingTriplets(nums):\n",
    "    for i in range(len(nums)-2):\n",
    "        print(i)\n",
    "    #for j in range(1, len(nums)-1):\n",
    "    #    print(j)\n",
    "    #for k in range(2, len(nums)):\n",
    "    #    print(k)"
   ]
  },
  {
   "cell_type": "code",
   "execution_count": 98,
   "id": "3a9713fc-1b90-4a48-912a-3f5f2ac97f09",
   "metadata": {
    "tags": []
   },
   "outputs": [
    {
     "name": "stdout",
     "output_type": "stream",
     "text": [
      "0\n",
      "1\n",
      "2\n",
      "3\n"
     ]
    }
   ],
   "source": [
    "increasingTriplets(nums)"
   ]
  },
  {
   "cell_type": "code",
   "execution_count": 100,
   "id": "81acc532",
   "metadata": {
    "tags": []
   },
   "outputs": [],
   "source": [
    "def increasingTriplets(nums):\n",
    "    #for i in range(len(nums)-2):\n",
    "    #    print(i)\n",
    "    for j in range(1, len(nums)-1):\n",
    "        print(j)\n",
    "    #for k in range(2, len(nums)):\n",
    "    #    print(k)"
   ]
  },
  {
   "cell_type": "code",
   "execution_count": 101,
   "id": "610ecf17-07fc-4156-b669-bb339a5bd90e",
   "metadata": {
    "tags": []
   },
   "outputs": [
    {
     "name": "stdout",
     "output_type": "stream",
     "text": [
      "1\n",
      "2\n",
      "3\n",
      "4\n"
     ]
    }
   ],
   "source": [
    "increasingTriplets(nums)"
   ]
  },
  {
   "cell_type": "code",
   "execution_count": 102,
   "id": "0822f84e-374e-45fc-93c5-6efc7e66ea63",
   "metadata": {
    "tags": []
   },
   "outputs": [],
   "source": [
    "def increasingTriplets(nums):\n",
    "    #for i in range(len(nums)-2):\n",
    "    #    print(i)\n",
    "    #for j in range(1, len(nums)-1):\n",
    "    #    print(j)\n",
    "    for k in range(2, len(nums)):\n",
    "        print(k)"
   ]
  },
  {
   "cell_type": "code",
   "execution_count": 103,
   "id": "7d008a08-540e-4945-9ee7-4afddda565f0",
   "metadata": {
    "tags": []
   },
   "outputs": [
    {
     "name": "stdout",
     "output_type": "stream",
     "text": [
      "2\n",
      "3\n",
      "4\n",
      "5\n"
     ]
    }
   ],
   "source": [
    "increasingTriplets(nums)"
   ]
  },
  {
   "cell_type": "code",
   "execution_count": 178,
   "id": "b6453946-c0d2-4701-a717-26406d810d5a",
   "metadata": {
    "tags": []
   },
   "outputs": [],
   "source": [
    "nums=[20,100,10,12,5,13]"
   ]
  },
  {
   "cell_type": "code",
   "execution_count": 137,
   "id": "0dd3f860-d96a-4fbd-9c0c-bf06f932e1e5",
   "metadata": {
    "tags": []
   },
   "outputs": [],
   "source": [
    "def increasingTriplets(nums):\n",
    "    for i in range(len(nums)-2):\n",
    "        print('i- identity')\n",
    "        print(i)\n",
    "        print('nums[i]:',nums[i])\n",
    "        for j in range(1,len(nums)-1):\n",
    "            print('j- joke')\n",
    "            print(j)\n",
    "            print('nums[j]:',nums[j])\n",
    "            for k in range(2,len(nums)):\n",
    "                print('k - krabs')\n",
    "                print(k)\n",
    "                print('nums[k]:',nums[k])\n",
    "                if nums[i] < nums[j] < nums[k]:\n",
    "                    return True\n",
    "                return False\n",
    "        return False\n",
    "    return False"
   ]
  },
  {
   "cell_type": "code",
   "execution_count": 179,
   "id": "a2df66b2-3a23-4ac8-b693-4bfd6577994c",
   "metadata": {
    "tags": []
   },
   "outputs": [],
   "source": [
    "def increasingTriplets(nums):\n",
    "    for i in range(len(nums)-2):\n",
    "        print('i- identity')\n",
    "        print(i)\n",
    "        print('nums[i]:',nums[i])\n",
    "        for j in range(1,len(nums)-1):\n",
    "            print('j- joke')\n",
    "            print(j)\n",
    "            print('nums[j]:',nums[j])\n",
    "            for k in range(2,len(nums)):\n",
    "                print('k - krabs')\n",
    "                print(k)\n",
    "                print('nums[k]:',nums[k])\n",
    "            \n",
    "                if i<j<k and nums[i] < nums[j] < nums[k]:\n",
    "                    return True\n",
    "                \n",
    "        \n",
    "    return False"
   ]
  },
  {
   "cell_type": "code",
   "execution_count": 180,
   "id": "efd99ddb-51a1-4fc2-9e61-70ed530368cb",
   "metadata": {
    "tags": []
   },
   "outputs": [
    {
     "name": "stdout",
     "output_type": "stream",
     "text": [
      "i- identity\n",
      "0\n",
      "nums[i]: 20\n",
      "j- joke\n",
      "1\n",
      "nums[j]: 100\n",
      "k - krabs\n",
      "2\n",
      "nums[k]: 10\n",
      "k - krabs\n",
      "3\n",
      "nums[k]: 12\n",
      "k - krabs\n",
      "4\n",
      "nums[k]: 5\n",
      "k - krabs\n",
      "5\n",
      "nums[k]: 13\n",
      "j- joke\n",
      "2\n",
      "nums[j]: 10\n",
      "k - krabs\n",
      "2\n",
      "nums[k]: 10\n",
      "k - krabs\n",
      "3\n",
      "nums[k]: 12\n",
      "k - krabs\n",
      "4\n",
      "nums[k]: 5\n",
      "k - krabs\n",
      "5\n",
      "nums[k]: 13\n",
      "j- joke\n",
      "3\n",
      "nums[j]: 12\n",
      "k - krabs\n",
      "2\n",
      "nums[k]: 10\n",
      "k - krabs\n",
      "3\n",
      "nums[k]: 12\n",
      "k - krabs\n",
      "4\n",
      "nums[k]: 5\n",
      "k - krabs\n",
      "5\n",
      "nums[k]: 13\n",
      "j- joke\n",
      "4\n",
      "nums[j]: 5\n",
      "k - krabs\n",
      "2\n",
      "nums[k]: 10\n",
      "k - krabs\n",
      "3\n",
      "nums[k]: 12\n",
      "k - krabs\n",
      "4\n",
      "nums[k]: 5\n",
      "k - krabs\n",
      "5\n",
      "nums[k]: 13\n",
      "i- identity\n",
      "1\n",
      "nums[i]: 100\n",
      "j- joke\n",
      "1\n",
      "nums[j]: 100\n",
      "k - krabs\n",
      "2\n",
      "nums[k]: 10\n",
      "k - krabs\n",
      "3\n",
      "nums[k]: 12\n",
      "k - krabs\n",
      "4\n",
      "nums[k]: 5\n",
      "k - krabs\n",
      "5\n",
      "nums[k]: 13\n",
      "j- joke\n",
      "2\n",
      "nums[j]: 10\n",
      "k - krabs\n",
      "2\n",
      "nums[k]: 10\n",
      "k - krabs\n",
      "3\n",
      "nums[k]: 12\n",
      "k - krabs\n",
      "4\n",
      "nums[k]: 5\n",
      "k - krabs\n",
      "5\n",
      "nums[k]: 13\n",
      "j- joke\n",
      "3\n",
      "nums[j]: 12\n",
      "k - krabs\n",
      "2\n",
      "nums[k]: 10\n",
      "k - krabs\n",
      "3\n",
      "nums[k]: 12\n",
      "k - krabs\n",
      "4\n",
      "nums[k]: 5\n",
      "k - krabs\n",
      "5\n",
      "nums[k]: 13\n",
      "j- joke\n",
      "4\n",
      "nums[j]: 5\n",
      "k - krabs\n",
      "2\n",
      "nums[k]: 10\n",
      "k - krabs\n",
      "3\n",
      "nums[k]: 12\n",
      "k - krabs\n",
      "4\n",
      "nums[k]: 5\n",
      "k - krabs\n",
      "5\n",
      "nums[k]: 13\n",
      "i- identity\n",
      "2\n",
      "nums[i]: 10\n",
      "j- joke\n",
      "1\n",
      "nums[j]: 100\n",
      "k - krabs\n",
      "2\n",
      "nums[k]: 10\n",
      "k - krabs\n",
      "3\n",
      "nums[k]: 12\n",
      "k - krabs\n",
      "4\n",
      "nums[k]: 5\n",
      "k - krabs\n",
      "5\n",
      "nums[k]: 13\n",
      "j- joke\n",
      "2\n",
      "nums[j]: 10\n",
      "k - krabs\n",
      "2\n",
      "nums[k]: 10\n",
      "k - krabs\n",
      "3\n",
      "nums[k]: 12\n",
      "k - krabs\n",
      "4\n",
      "nums[k]: 5\n",
      "k - krabs\n",
      "5\n",
      "nums[k]: 13\n",
      "j- joke\n",
      "3\n",
      "nums[j]: 12\n",
      "k - krabs\n",
      "2\n",
      "nums[k]: 10\n",
      "k - krabs\n",
      "3\n",
      "nums[k]: 12\n",
      "k - krabs\n",
      "4\n",
      "nums[k]: 5\n",
      "k - krabs\n",
      "5\n",
      "nums[k]: 13\n"
     ]
    },
    {
     "data": {
      "text/plain": [
       "True"
      ]
     },
     "execution_count": 180,
     "metadata": {},
     "output_type": "execute_result"
    }
   ],
   "source": [
    "increasingTriplets(nums)"
   ]
  },
  {
   "cell_type": "code",
   "execution_count": null,
   "id": "35601d82-b23d-41cb-b0d3-cc5a7c7f5d1a",
   "metadata": {},
   "outputs": [],
   "source": [
    "for i in range(len(nums)-2):\n",
    "    for j in range(1,len(nums)-1):\n",
    "        for k in range(2,len(nums)):\n",
    "            if nums[i] < nums[j] < nums[k]:\n",
    "                return True\n",
    "            return False\n",
    "    return False"
   ]
  },
  {
   "cell_type": "code",
   "execution_count": 186,
   "id": "9db9e106-d9b6-4ed9-b2da-2e4a25c13e98",
   "metadata": {
    "tags": []
   },
   "outputs": [],
   "source": [
    "nums=[20,100,10,12,5,13]"
   ]
  },
  {
   "cell_type": "code",
   "execution_count": 187,
   "id": "48cd02e8-dc4a-449f-a94b-688146fa7ad7",
   "metadata": {
    "tags": []
   },
   "outputs": [],
   "source": [
    "def increasingTriplet(nums):\n",
    "    first = second = float('inf')\n",
    "    for num in nums:\n",
    "        if num <= first:\n",
    "            first = num\n",
    "            print(first)\n",
    "        elif num <= second:\n",
    "            second = num\n",
    "            print(second)\n",
    "        else:\n",
    "            return True\n",
    "    return False"
   ]
  },
  {
   "cell_type": "code",
   "execution_count": 188,
   "id": "5443096d-bfbc-415a-85a8-7abc4c4a8fa1",
   "metadata": {
    "tags": []
   },
   "outputs": [
    {
     "name": "stdout",
     "output_type": "stream",
     "text": [
      "20\n",
      "100\n",
      "10\n",
      "12\n",
      "5\n"
     ]
    },
    {
     "data": {
      "text/plain": [
       "True"
      ]
     },
     "execution_count": 188,
     "metadata": {},
     "output_type": "execute_result"
    }
   ],
   "source": [
    "increasingTriplet(nums)"
   ]
  },
  {
   "cell_type": "code",
   "execution_count": null,
   "id": "e958afd8-4796-4f16-9d47-ff85f3060f76",
   "metadata": {},
   "outputs": [],
   "source": []
  }
 ],
 "metadata": {
  "kernelspec": {
   "display_name": "Python 3 (ipykernel)",
   "language": "python",
   "name": "python3"
  },
  "language_info": {
   "codemirror_mode": {
    "name": "ipython",
    "version": 3
   },
   "file_extension": ".py",
   "mimetype": "text/x-python",
   "name": "python",
   "nbconvert_exporter": "python",
   "pygments_lexer": "ipython3",
   "version": "3.11.5"
  }
 },
 "nbformat": 4,
 "nbformat_minor": 5
}
