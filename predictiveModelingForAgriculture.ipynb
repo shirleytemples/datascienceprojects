{
 "cells": [
  {
   "cell_type": "markdown",
   "id": "1287a82e-c8d7-4204-9a71-0b1d9e5038d9",
   "metadata": {},
   "source": [
    "# Sowing Success: How Machine Learning Helps Farmers Select the Best Crops\n",
    "![Farmer in a field](farmer_in_a_field.jpg) \n",
    "\n",
    "Measuring essential soil metrics such as nitrogen, phosphorous, potassium levels, and pH value is an important aspect of assessing soil condition. However, it can be an expensive and time-consuming process, which can cause farmers to prioritize which metrics to measure based on their budget constraints.\n",
    "\n",
    "Farmers have various options when it comes to deciding which crop to plant each season. Their primary objective is to maximize the yield of their crops, taking into account different factors. One crucial factor that affects crop growth is the condition of the soil in the field, which can be assessed by measuring basic elements such as nitrogen and potassium levels. Each crop has an ideal soil condition that ensures optimal growth and maximum yield.\n",
    "\n",
    "A farmer reached out to you as a machine learning expert for assistance in selecting the best crop for his field. They've provided you with a dataset called soil_measures.csv, which contains:\n",
    "\n",
    "    \"N\": Nitrogen content ratio in the soil\n",
    "    \"P\": Phosphorous content ratio in the soil\n",
    "    \"K\": Potassium content ratio in the soil\n",
    "    \"pH\" value of the soil\n",
    "    \"crop\": categorical values that contain various crops (target variable).\n",
    "Each row in this dataset represents various measures of the soil in a particular field. Based on these measurements, the crop specified in the \"crop\" column is the optimal choice for that field.\n",
    "\n",
    "In this project, you will build multi-class classification models to predict the type of \"crop\" and identify the single most importance feature for predictive performance."
   ]
  },
  {
   "cell_type": "code",
   "execution_count": 1,
   "id": "a52df5cf-0e77-431a-9bfd-8ce352f76940",
   "metadata": {
    "tags": []
   },
   "outputs": [],
   "source": [
    "# All required libraries are imported here for you.\n",
    "import pandas as pd\n",
    "from sklearn.linear_model import LogisticRegression\n",
    "from sklearn.model_selection import train_test_split\n",
    "from sklearn import metrics\n",
    "\n",
    "# Load the dataset\n",
    "crops = pd.read_csv(\"./data/soil_measures.csv\")\n",
    "\n",
    "# Write your code here"
   ]
  },
  {
   "cell_type": "markdown",
   "id": "621958db-e72d-418e-877d-92c88ddd39d0",
   "metadata": {},
   "source": [
    "## Steps\n",
    "How to approach the project\n",
    "1. Read the data into a pandas DataFrame and perform exploratory data analysis\n",
    "\n",
    "2. Split the data\n",
    "\n",
    "3. Evaluate feature performance\n",
    "\n",
    "4. Create the best_predictive_feature variable"
   ]
  },
  {
   "cell_type": "markdown",
   "id": "c6081229-f64c-45ca-890c-48a9ca94466d",
   "metadata": {},
   "source": [
    "## Step 1: Read the data into a pandas DataFrame and perform exploratory data analysis"
   ]
  },
  {
   "cell_type": "code",
   "execution_count": 2,
   "id": "0d7fb62f-7f30-46a3-9f01-54c2290cd767",
   "metadata": {
    "tags": []
   },
   "outputs": [
    {
     "data": {
      "text/html": [
       "<div>\n",
       "<style scoped>\n",
       "    .dataframe tbody tr th:only-of-type {\n",
       "        vertical-align: middle;\n",
       "    }\n",
       "\n",
       "    .dataframe tbody tr th {\n",
       "        vertical-align: top;\n",
       "    }\n",
       "\n",
       "    .dataframe thead th {\n",
       "        text-align: right;\n",
       "    }\n",
       "</style>\n",
       "<table border=\"1\" class=\"dataframe\">\n",
       "  <thead>\n",
       "    <tr style=\"text-align: right;\">\n",
       "      <th></th>\n",
       "      <th>N</th>\n",
       "      <th>P</th>\n",
       "      <th>K</th>\n",
       "      <th>ph</th>\n",
       "      <th>crop</th>\n",
       "    </tr>\n",
       "  </thead>\n",
       "  <tbody>\n",
       "    <tr>\n",
       "      <th>0</th>\n",
       "      <td>90</td>\n",
       "      <td>42</td>\n",
       "      <td>43</td>\n",
       "      <td>6.502985</td>\n",
       "      <td>rice</td>\n",
       "    </tr>\n",
       "    <tr>\n",
       "      <th>1</th>\n",
       "      <td>85</td>\n",
       "      <td>58</td>\n",
       "      <td>41</td>\n",
       "      <td>7.038096</td>\n",
       "      <td>rice</td>\n",
       "    </tr>\n",
       "    <tr>\n",
       "      <th>2</th>\n",
       "      <td>60</td>\n",
       "      <td>55</td>\n",
       "      <td>44</td>\n",
       "      <td>7.840207</td>\n",
       "      <td>rice</td>\n",
       "    </tr>\n",
       "    <tr>\n",
       "      <th>3</th>\n",
       "      <td>74</td>\n",
       "      <td>35</td>\n",
       "      <td>40</td>\n",
       "      <td>6.980401</td>\n",
       "      <td>rice</td>\n",
       "    </tr>\n",
       "    <tr>\n",
       "      <th>4</th>\n",
       "      <td>78</td>\n",
       "      <td>42</td>\n",
       "      <td>42</td>\n",
       "      <td>7.628473</td>\n",
       "      <td>rice</td>\n",
       "    </tr>\n",
       "  </tbody>\n",
       "</table>\n",
       "</div>"
      ],
      "text/plain": [
       "    N   P   K        ph  crop\n",
       "0  90  42  43  6.502985  rice\n",
       "1  85  58  41  7.038096  rice\n",
       "2  60  55  44  7.840207  rice\n",
       "3  74  35  40  6.980401  rice\n",
       "4  78  42  42  7.628473  rice"
      ]
     },
     "execution_count": 2,
     "metadata": {},
     "output_type": "execute_result"
    }
   ],
   "source": [
    "crops.head()"
   ]
  },
  {
   "cell_type": "code",
   "execution_count": 3,
   "id": "6e9943ca-70f4-4dd2-b876-6afb40a276ab",
   "metadata": {
    "tags": []
   },
   "outputs": [
    {
     "data": {
      "text/html": [
       "<div>\n",
       "<style scoped>\n",
       "    .dataframe tbody tr th:only-of-type {\n",
       "        vertical-align: middle;\n",
       "    }\n",
       "\n",
       "    .dataframe tbody tr th {\n",
       "        vertical-align: top;\n",
       "    }\n",
       "\n",
       "    .dataframe thead th {\n",
       "        text-align: right;\n",
       "    }\n",
       "</style>\n",
       "<table border=\"1\" class=\"dataframe\">\n",
       "  <thead>\n",
       "    <tr style=\"text-align: right;\">\n",
       "      <th></th>\n",
       "      <th>N</th>\n",
       "      <th>P</th>\n",
       "      <th>K</th>\n",
       "      <th>ph</th>\n",
       "      <th>crop</th>\n",
       "    </tr>\n",
       "  </thead>\n",
       "  <tbody>\n",
       "    <tr>\n",
       "      <th>2195</th>\n",
       "      <td>107</td>\n",
       "      <td>34</td>\n",
       "      <td>32</td>\n",
       "      <td>6.780064</td>\n",
       "      <td>coffee</td>\n",
       "    </tr>\n",
       "    <tr>\n",
       "      <th>2196</th>\n",
       "      <td>99</td>\n",
       "      <td>15</td>\n",
       "      <td>27</td>\n",
       "      <td>6.086922</td>\n",
       "      <td>coffee</td>\n",
       "    </tr>\n",
       "    <tr>\n",
       "      <th>2197</th>\n",
       "      <td>118</td>\n",
       "      <td>33</td>\n",
       "      <td>30</td>\n",
       "      <td>6.362608</td>\n",
       "      <td>coffee</td>\n",
       "    </tr>\n",
       "    <tr>\n",
       "      <th>2198</th>\n",
       "      <td>117</td>\n",
       "      <td>32</td>\n",
       "      <td>34</td>\n",
       "      <td>6.758793</td>\n",
       "      <td>coffee</td>\n",
       "    </tr>\n",
       "    <tr>\n",
       "      <th>2199</th>\n",
       "      <td>104</td>\n",
       "      <td>18</td>\n",
       "      <td>30</td>\n",
       "      <td>6.779833</td>\n",
       "      <td>coffee</td>\n",
       "    </tr>\n",
       "  </tbody>\n",
       "</table>\n",
       "</div>"
      ],
      "text/plain": [
       "        N   P   K        ph    crop\n",
       "2195  107  34  32  6.780064  coffee\n",
       "2196   99  15  27  6.086922  coffee\n",
       "2197  118  33  30  6.362608  coffee\n",
       "2198  117  32  34  6.758793  coffee\n",
       "2199  104  18  30  6.779833  coffee"
      ]
     },
     "execution_count": 3,
     "metadata": {},
     "output_type": "execute_result"
    }
   ],
   "source": [
    "crops.tail()"
   ]
  },
  {
   "cell_type": "code",
   "execution_count": 4,
   "id": "9248fba8-e1d2-4375-9bf2-ef1ce4a0dfa9",
   "metadata": {
    "tags": []
   },
   "outputs": [
    {
     "name": "stdout",
     "output_type": "stream",
     "text": [
      "N       0\n",
      "P       0\n",
      "K       0\n",
      "ph      0\n",
      "crop    0\n",
      "dtype: int64\n"
     ]
    }
   ],
   "source": [
    "# 1.2 Check for missing values\n",
    "# You can chain the pandas DataFrame methods isna().sum() to count the number of null values in each column, helping you decide whether you need to drop or impute missing values.\n",
    "print(crops.isna().sum().sort_values())"
   ]
  },
  {
   "cell_type": "code",
   "execution_count": 5,
   "id": "ff07464d-9ea0-42a7-83ac-ff1e14a6b6c0",
   "metadata": {
    "tags": []
   },
   "outputs": [],
   "source": [
    "# No missing values"
   ]
  },
  {
   "cell_type": "code",
   "execution_count": 6,
   "id": "102d3ba2-4ab3-49b4-b193-bd29e27d04a5",
   "metadata": {
    "tags": []
   },
   "outputs": [
    {
     "data": {
      "text/plain": [
       "array(['rice', 'maize', 'chickpea', 'kidneybeans', 'pigeonpeas',\n",
       "       'mothbeans', 'mungbean', 'blackgram', 'lentil', 'pomegranate',\n",
       "       'banana', 'mango', 'grapes', 'watermelon', 'muskmelon', 'apple',\n",
       "       'orange', 'papaya', 'coconut', 'cotton', 'jute', 'coffee'],\n",
       "      dtype=object)"
      ]
     },
     "execution_count": 6,
     "metadata": {},
     "output_type": "execute_result"
    }
   ],
   "source": [
    "# 1.3 Check for crop types\n",
    "# To confirm if \"crop\" is a binary or multi-label feature you can use the pandas Series .unique() method to display all unique values in that column.\n",
    "crops[\"crop\"].unique()"
   ]
  },
  {
   "cell_type": "code",
   "execution_count": 7,
   "id": "909dc857-7b21-4824-bd37-c3e06ddf6a54",
   "metadata": {
    "tags": []
   },
   "outputs": [],
   "source": [
    "# crop is a multi-label feature"
   ]
  },
  {
   "cell_type": "markdown",
   "id": "83f5f987-d824-4baf-8dd1-cc56f0cac1f4",
   "metadata": {},
   "source": [
    "## 2. Split the data\n",
    "### Create training and test sets using all features."
   ]
  },
  {
   "cell_type": "code",
   "execution_count": 8,
   "id": "b7693cb3-229d-4eab-acaa-cf46e1590482",
   "metadata": {
    "tags": []
   },
   "outputs": [],
   "source": [
    "# 2.1 Features and target variables\n",
    "X = crops.drop(columns=\"crop\")\n",
    "y = crops[\"crop\"]"
   ]
  },
  {
   "cell_type": "code",
   "execution_count": 9,
   "id": "2892330e-d63a-4ae6-8e3b-8d4fd0d00a28",
   "metadata": {
    "tags": []
   },
   "outputs": [],
   "source": [
    "# 2.2 Use train_test_split()\n",
    "X_train, X_test, y_train, y_test = train_test_split(X, y, test_size = 0.3, random_state = 42)"
   ]
  },
  {
   "cell_type": "markdown",
   "id": "d7ed983e-df1d-4add-a96b-b1940cd9b104",
   "metadata": {},
   "source": [
    "## 3. Evaluate feature performance\n",
    "### Predict the crop using each feature individually. You should build a model for each feature. That means you will build four models."
   ]
  },
  {
   "cell_type": "code",
   "execution_count": 10,
   "id": "028bcb7d-c6a0-4656-8ce5-0b5205176fd8",
   "metadata": {
    "tags": []
   },
   "outputs": [],
   "source": [
    "# 3.1 Create a dictionary to store each features predictive performance\n",
    "feature_performance = {}"
   ]
  },
  {
   "cell_type": "code",
   "execution_count": 11,
   "id": "4f905abb-a147-4658-a412-0ff317ce17c2",
   "metadata": {
    "tags": []
   },
   "outputs": [
    {
     "name": "stderr",
     "output_type": "stream",
     "text": [
      "C:\\Users\\LISX135\\AppData\\Local\\anaconda3\\Lib\\site-packages\\sklearn\\linear_model\\_logistic.py:460: ConvergenceWarning: lbfgs failed to converge (status=1):\n",
      "STOP: TOTAL NO. of ITERATIONS REACHED LIMIT.\n",
      "\n",
      "Increase the number of iterations (max_iter) or scale the data as shown in:\n",
      "    https://scikit-learn.org/stable/modules/preprocessing.html\n",
      "Please also refer to the documentation for alternative solver options:\n",
      "    https://scikit-learn.org/stable/modules/linear_model.html#logistic-regression\n",
      "  n_iter_i = _check_optimize_result(\n",
      "C:\\Users\\LISX135\\AppData\\Local\\anaconda3\\Lib\\site-packages\\sklearn\\linear_model\\_logistic.py:460: ConvergenceWarning: lbfgs failed to converge (status=1):\n",
      "STOP: TOTAL NO. of ITERATIONS REACHED LIMIT.\n",
      "\n",
      "Increase the number of iterations (max_iter) or scale the data as shown in:\n",
      "    https://scikit-learn.org/stable/modules/preprocessing.html\n",
      "Please also refer to the documentation for alternative solver options:\n",
      "    https://scikit-learn.org/stable/modules/linear_model.html#logistic-regression\n",
      "  n_iter_i = _check_optimize_result(\n",
      "C:\\Users\\LISX135\\AppData\\Local\\anaconda3\\Lib\\site-packages\\sklearn\\linear_model\\_logistic.py:460: ConvergenceWarning: lbfgs failed to converge (status=1):\n",
      "STOP: TOTAL NO. of ITERATIONS REACHED LIMIT.\n",
      "\n",
      "Increase the number of iterations (max_iter) or scale the data as shown in:\n",
      "    https://scikit-learn.org/stable/modules/preprocessing.html\n",
      "Please also refer to the documentation for alternative solver options:\n",
      "    https://scikit-learn.org/stable/modules/linear_model.html#logistic-regression\n",
      "  n_iter_i = _check_optimize_result(\n"
     ]
    },
    {
     "name": "stdout",
     "output_type": "stream",
     "text": [
      "F1-score for N: 0.0958820234581546\n",
      "F1-score for P: 0.12438342721494797\n",
      "F1-score for K: 0.22750559286232128\n",
      "F1-score for ph: 0.06787631271947597\n"
     ]
    }
   ],
   "source": [
    "# 3.2 loop through the features\n",
    "for feature in [\"N\", \"P\", \"K\", \"ph\"]:\n",
    "    # 3.3 training a multi-class classifier algorithm\n",
    "    log_reg = LogisticRegression(multi_class=\"multinomial\")\n",
    "    log_reg.fit(X_train[[feature]], y_train)\n",
    "    y_pred = log_reg.predict(X_test[[feature]])\n",
    "    f1 = metrics.f1_score(y_test,y_pred,average='weighted')\n",
    "    feature_performance[feature] = f1\n",
    "    print(f\"F1-score for {feature}: {f1}\")"
   ]
  },
  {
   "cell_type": "markdown",
   "id": "dc451f99-1d5c-4ce3-87ca-a5308ffe4919",
   "metadata": {},
   "source": [
    "## Create the best_predictive_feature variable"
   ]
  },
  {
   "cell_type": "code",
   "execution_count": 12,
   "id": "c888fa01-71ce-452f-bab6-5d903b335881",
   "metadata": {
    "tags": []
   },
   "outputs": [],
   "source": [
    "best_predictive_feature = {}"
   ]
  },
  {
   "cell_type": "code",
   "execution_count": 13,
   "id": "fb1c1141-208a-409d-8c26-2614591c7cb2",
   "metadata": {
    "tags": []
   },
   "outputs": [
    {
     "data": {
      "text/plain": [
       "{'N': 0.0958820234581546,\n",
       " 'P': 0.12438342721494797,\n",
       " 'K': 0.22750559286232128,\n",
       " 'ph': 0.06787631271947597}"
      ]
     },
     "execution_count": 13,
     "metadata": {},
     "output_type": "execute_result"
    }
   ],
   "source": [
    "feature_performance"
   ]
  },
  {
   "cell_type": "code",
   "execution_count": 14,
   "id": "d10de683-d116-4d96-8da7-8f0b1866c006",
   "metadata": {
    "tags": []
   },
   "outputs": [],
   "source": [
    "best_predictive_feature = max(zip(feature_performance.values(), feature_performance.keys()))[1]"
   ]
  },
  {
   "cell_type": "code",
   "execution_count": 15,
   "id": "fa9c9e92-f6a0-42ca-b7bd-79d3b36a9037",
   "metadata": {
    "tags": []
   },
   "outputs": [
    {
     "data": {
      "text/plain": [
       "'K'"
      ]
     },
     "execution_count": 15,
     "metadata": {},
     "output_type": "execute_result"
    }
   ],
   "source": [
    "best_predictive_feature"
   ]
  },
  {
   "cell_type": "markdown",
   "id": "909187ab-3979-45d7-9cce-6887337896d7",
   "metadata": {},
   "source": [
    "### From evaluating the feature performance, the best predictive feature of what type of crop the farm has is the 'K' or Potassium content ratio in the soil."
   ]
  }
 ],
 "metadata": {
  "kernelspec": {
   "display_name": "Python 3 (ipykernel)",
   "language": "python",
   "name": "python3"
  },
  "language_info": {
   "codemirror_mode": {
    "name": "ipython",
    "version": 3
   },
   "file_extension": ".py",
   "mimetype": "text/x-python",
   "name": "python",
   "nbconvert_exporter": "python",
   "pygments_lexer": "ipython3",
   "version": "3.9.13"
  }
 },
 "nbformat": 4,
 "nbformat_minor": 5
}
