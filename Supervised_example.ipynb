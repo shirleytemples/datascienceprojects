{
 "cells": [
  {
   "cell_type": "code",
   "execution_count": 1,
   "id": "7bc5e21a-e40d-4919-987c-070179b6d56d",
   "metadata": {
    "tags": []
   },
   "outputs": [],
   "source": [
    "import pandas as pd\n",
    "import numpy as np\n",
    "from functools import reduce"
   ]
  },
  {
   "cell_type": "code",
   "execution_count": 2,
   "id": "001967bc-aa02-40fa-ac5c-a8eea130e39c",
   "metadata": {
    "tags": []
   },
   "outputs": [],
   "source": [
    "import matplotlib.pyplot as plt"
   ]
  },
  {
   "cell_type": "code",
   "execution_count": 3,
   "id": "ba562254-6ef9-4e64-93a3-f2773953cba4",
   "metadata": {
    "tags": []
   },
   "outputs": [],
   "source": [
    "the = pd.read_csv('Real_GDP_per_capita.csv',thousands=',')"
   ]
  },
  {
   "cell_type": "code",
   "execution_count": 4,
   "id": "7d544010-099b-4c4e-892e-4e583083f7fd",
   "metadata": {
    "tags": []
   },
   "outputs": [],
   "source": [
    "the['value'] = the['value'].replace('[\\$,]', '', regex=True).astype(float)"
   ]
  },
  {
   "cell_type": "code",
   "execution_count": 5,
   "id": "a6d6363b-667e-493a-8de0-b68e2feafe36",
   "metadata": {
    "tags": []
   },
   "outputs": [],
   "source": [
    "gdp = the.drop(columns=[\"slug\",\"date_of_information\",\"region\",\"ranking\"])"
   ]
  },
  {
   "cell_type": "code",
   "execution_count": 6,
   "id": "36dda61a-d334-4c24-b7e1-b0a22dbf01f6",
   "metadata": {
    "tags": []
   },
   "outputs": [],
   "source": [
    "gdp.rename(columns={'value': 'gdp'}, inplace=True)"
   ]
  },
  {
   "cell_type": "code",
   "execution_count": 7,
   "id": "41218bd2-e82b-4471-9516-b9867588bd0b",
   "metadata": {
    "tags": []
   },
   "outputs": [
    {
     "data": {
      "text/html": [
       "<div>\n",
       "<style scoped>\n",
       "    .dataframe tbody tr th:only-of-type {\n",
       "        vertical-align: middle;\n",
       "    }\n",
       "\n",
       "    .dataframe tbody tr th {\n",
       "        vertical-align: top;\n",
       "    }\n",
       "\n",
       "    .dataframe thead th {\n",
       "        text-align: right;\n",
       "    }\n",
       "</style>\n",
       "<table border=\"1\" class=\"dataframe\">\n",
       "  <thead>\n",
       "    <tr style=\"text-align: right;\">\n",
       "      <th></th>\n",
       "      <th>name</th>\n",
       "      <th>gdp</th>\n",
       "    </tr>\n",
       "  </thead>\n",
       "  <tbody>\n",
       "    <tr>\n",
       "      <th>0</th>\n",
       "      <td>Liechtenstein</td>\n",
       "      <td>139100.0</td>\n",
       "    </tr>\n",
       "    <tr>\n",
       "      <th>1</th>\n",
       "      <td>Monaco</td>\n",
       "      <td>115700.0</td>\n",
       "    </tr>\n",
       "    <tr>\n",
       "      <th>2</th>\n",
       "      <td>Luxembourg</td>\n",
       "      <td>115700.0</td>\n",
       "    </tr>\n",
       "    <tr>\n",
       "      <th>3</th>\n",
       "      <td>Singapore</td>\n",
       "      <td>106000.0</td>\n",
       "    </tr>\n",
       "    <tr>\n",
       "      <th>4</th>\n",
       "      <td>Ireland</td>\n",
       "      <td>102500.0</td>\n",
       "    </tr>\n",
       "    <tr>\n",
       "      <th>5</th>\n",
       "      <td>Qatar</td>\n",
       "      <td>92900.0</td>\n",
       "    </tr>\n",
       "    <tr>\n",
       "      <th>6</th>\n",
       "      <td>Isle of Man</td>\n",
       "      <td>84600.0</td>\n",
       "    </tr>\n",
       "    <tr>\n",
       "      <th>7</th>\n",
       "      <td>Bermuda</td>\n",
       "      <td>80300.0</td>\n",
       "    </tr>\n",
       "    <tr>\n",
       "      <th>8</th>\n",
       "      <td>Switzerland</td>\n",
       "      <td>71000.0</td>\n",
       "    </tr>\n",
       "    <tr>\n",
       "      <th>9</th>\n",
       "      <td>Falkland Islands (Islas Malvinas)</td>\n",
       "      <td>70800.0</td>\n",
       "    </tr>\n",
       "    <tr>\n",
       "      <th>10</th>\n",
       "      <td>United Arab Emirates</td>\n",
       "      <td>69700.0</td>\n",
       "    </tr>\n",
       "    <tr>\n",
       "      <th>11</th>\n",
       "      <td>Cayman Islands</td>\n",
       "      <td>67500.0</td>\n",
       "    </tr>\n",
       "    <tr>\n",
       "      <th>12</th>\n",
       "      <td>Norway</td>\n",
       "      <td>67500.0</td>\n",
       "    </tr>\n",
       "    <tr>\n",
       "      <th>13</th>\n",
       "      <td>Macau</td>\n",
       "      <td>64800.0</td>\n",
       "    </tr>\n",
       "    <tr>\n",
       "      <th>14</th>\n",
       "      <td>United States</td>\n",
       "      <td>63700.0</td>\n",
       "    </tr>\n",
       "  </tbody>\n",
       "</table>\n",
       "</div>"
      ],
      "text/plain": [
       "                                 name       gdp\n",
       "0                       Liechtenstein  139100.0\n",
       "1                              Monaco  115700.0\n",
       "2                          Luxembourg  115700.0\n",
       "3                           Singapore  106000.0\n",
       "4                             Ireland  102500.0\n",
       "5                               Qatar   92900.0\n",
       "6                         Isle of Man   84600.0\n",
       "7                             Bermuda   80300.0\n",
       "8                         Switzerland   71000.0\n",
       "9   Falkland Islands (Islas Malvinas)   70800.0\n",
       "10               United Arab Emirates   69700.0\n",
       "11                     Cayman Islands   67500.0\n",
       "12                             Norway   67500.0\n",
       "13                              Macau   64800.0\n",
       "14                      United States   63700.0"
      ]
     },
     "execution_count": 7,
     "metadata": {},
     "output_type": "execute_result"
    }
   ],
   "source": [
    "gdp.head(15)"
   ]
  },
  {
   "cell_type": "code",
   "execution_count": 8,
   "id": "3a15738b-7a0b-4a6e-9bc7-c883637821d7",
   "metadata": {
    "tags": []
   },
   "outputs": [],
   "source": [
    "life = pd.read_csv('Life_expectancy_at_birth.csv')"
   ]
  },
  {
   "cell_type": "code",
   "execution_count": 3,
   "id": "0802496d-e88b-413e-9a02-994299c387de",
   "metadata": {
    "tags": []
   },
   "outputs": [
    {
     "ename": "NameError",
     "evalue": "name 'life' is not defined",
     "output_type": "error",
     "traceback": [
      "\u001b[1;31m---------------------------------------------------------------------------\u001b[0m",
      "\u001b[1;31mNameError\u001b[0m                                 Traceback (most recent call last)",
      "Cell \u001b[1;32mIn[3], line 1\u001b[0m\n\u001b[1;32m----> 1\u001b[0m life\u001b[38;5;241m.\u001b[39mhead(\u001b[38;5;241m100\u001b[39m)\n",
      "\u001b[1;31mNameError\u001b[0m: name 'life' is not defined"
     ]
    }
   ],
   "source": [
    "life.head(100)"
   ]
  },
  {
   "cell_type": "code",
   "execution_count": 10,
   "id": "5368825e-42f6-47de-bb4b-888f0a24be94",
   "metadata": {
    "tags": []
   },
   "outputs": [],
   "source": [
    "real_gdp = pd.read_csv(\"Real_GDP.csv\")\n",
    "real_gdp['value'] = real_gdp['value'].replace('[\\$,]', '', regex=True).astype(float)\n",
    "total_gdp = real_gdp.drop(columns=[\"slug\",\"date_of_information\",\"region\",\"ranking\"])\n",
    "total_gdp.rename(columns={'value': 'total_gdp'}, inplace=True)"
   ]
  },
  {
   "cell_type": "code",
   "execution_count": 11,
   "id": "62c86cde-1a93-41a8-a9fe-8dbe3bec7382",
   "metadata": {
    "tags": []
   },
   "outputs": [
    {
     "data": {
      "text/html": [
       "<div>\n",
       "<style scoped>\n",
       "    .dataframe tbody tr th:only-of-type {\n",
       "        vertical-align: middle;\n",
       "    }\n",
       "\n",
       "    .dataframe tbody tr th {\n",
       "        vertical-align: top;\n",
       "    }\n",
       "\n",
       "    .dataframe thead th {\n",
       "        text-align: right;\n",
       "    }\n",
       "</style>\n",
       "<table border=\"1\" class=\"dataframe\">\n",
       "  <thead>\n",
       "    <tr style=\"text-align: right;\">\n",
       "      <th></th>\n",
       "      <th>name</th>\n",
       "      <th>total_gdp</th>\n",
       "    </tr>\n",
       "  </thead>\n",
       "  <tbody>\n",
       "    <tr>\n",
       "      <th>0</th>\n",
       "      <td>China</td>\n",
       "      <td>2.486100e+13</td>\n",
       "    </tr>\n",
       "    <tr>\n",
       "      <th>1</th>\n",
       "      <td>United States</td>\n",
       "      <td>2.113200e+13</td>\n",
       "    </tr>\n",
       "    <tr>\n",
       "      <th>2</th>\n",
       "      <td>India</td>\n",
       "      <td>9.279000e+12</td>\n",
       "    </tr>\n",
       "    <tr>\n",
       "      <th>3</th>\n",
       "      <td>Japan</td>\n",
       "      <td>5.126000e+12</td>\n",
       "    </tr>\n",
       "    <tr>\n",
       "      <th>4</th>\n",
       "      <td>Germany</td>\n",
       "      <td>4.523000e+12</td>\n",
       "    </tr>\n",
       "  </tbody>\n",
       "</table>\n",
       "</div>"
      ],
      "text/plain": [
       "            name     total_gdp\n",
       "0          China  2.486100e+13\n",
       "1  United States  2.113200e+13\n",
       "2          India  9.279000e+12\n",
       "3          Japan  5.126000e+12\n",
       "4        Germany  4.523000e+12"
      ]
     },
     "execution_count": 11,
     "metadata": {},
     "output_type": "execute_result"
    }
   ],
   "source": [
    "total_gdp.head()"
   ]
  },
  {
   "cell_type": "code",
   "execution_count": 12,
   "id": "a867c610-832b-42e2-84af-95ade1918c51",
   "metadata": {
    "tags": []
   },
   "outputs": [],
   "source": [
    "unemployment = pd.read_csv(\"Unemployment_rate.csv\")"
   ]
  },
  {
   "cell_type": "code",
   "execution_count": 13,
   "id": "d1a2e463-815e-4c20-bf7b-dfaa2afc948d",
   "metadata": {
    "tags": []
   },
   "outputs": [],
   "source": [
    "un = unemployment.drop(columns=[\"slug\",\"date_of_information\",\"region\",\"ranking\"])"
   ]
  },
  {
   "cell_type": "code",
   "execution_count": 14,
   "id": "654f3b35-1ac3-4fd5-910a-4d75983bea9a",
   "metadata": {
    "tags": []
   },
   "outputs": [
    {
     "data": {
      "text/html": [
       "<div>\n",
       "<style scoped>\n",
       "    .dataframe tbody tr th:only-of-type {\n",
       "        vertical-align: middle;\n",
       "    }\n",
       "\n",
       "    .dataframe tbody tr th {\n",
       "        vertical-align: top;\n",
       "    }\n",
       "\n",
       "    .dataframe thead th {\n",
       "        text-align: right;\n",
       "    }\n",
       "</style>\n",
       "<table border=\"1\" class=\"dataframe\">\n",
       "  <thead>\n",
       "    <tr style=\"text-align: right;\">\n",
       "      <th></th>\n",
       "      <th>name</th>\n",
       "      <th>%</th>\n",
       "    </tr>\n",
       "  </thead>\n",
       "  <tbody>\n",
       "    <tr>\n",
       "      <th>0</th>\n",
       "      <td>Cocos (Keeling) Islands</td>\n",
       "      <td>0.10</td>\n",
       "    </tr>\n",
       "    <tr>\n",
       "      <th>1</th>\n",
       "      <td>Qatar</td>\n",
       "      <td>0.26</td>\n",
       "    </tr>\n",
       "    <tr>\n",
       "      <th>2</th>\n",
       "      <td>Cambodia</td>\n",
       "      <td>0.61</td>\n",
       "    </tr>\n",
       "    <tr>\n",
       "      <th>3</th>\n",
       "      <td>Niger</td>\n",
       "      <td>0.75</td>\n",
       "    </tr>\n",
       "    <tr>\n",
       "      <th>4</th>\n",
       "      <td>Falkland Islands (Islas Malvinas)</td>\n",
       "      <td>1.00</td>\n",
       "    </tr>\n",
       "  </tbody>\n",
       "</table>\n",
       "</div>"
      ],
      "text/plain": [
       "                                name     %\n",
       "0            Cocos (Keeling) Islands  0.10\n",
       "1                              Qatar  0.26\n",
       "2                           Cambodia  0.61\n",
       "3                              Niger  0.75\n",
       "4  Falkland Islands (Islas Malvinas)  1.00"
      ]
     },
     "execution_count": 14,
     "metadata": {},
     "output_type": "execute_result"
    }
   ],
   "source": [
    "un.head()"
   ]
  },
  {
   "cell_type": "code",
   "execution_count": 15,
   "id": "65f5427f-8eca-4dc6-8915-454fd02929f2",
   "metadata": {
    "tags": []
   },
   "outputs": [],
   "source": [
    "debt_external = pd.read_csv(\"debt_external.csv\")\n",
    "debt_external['value'] = debt_external['value'].replace('[\\$,]', '', regex=True).astype(float)\n",
    "debt = debt_external.drop(columns=[\"slug\",\"date_of_information\",\"region\",\"ranking\"])\n",
    "debt.rename(columns={'value': 'debt'}, inplace=True)"
   ]
  },
  {
   "cell_type": "code",
   "execution_count": 16,
   "id": "2b8ae6d6-e4e3-4caf-8715-347820271133",
   "metadata": {
    "tags": []
   },
   "outputs": [
    {
     "data": {
      "text/html": [
       "<div>\n",
       "<style scoped>\n",
       "    .dataframe tbody tr th:only-of-type {\n",
       "        vertical-align: middle;\n",
       "    }\n",
       "\n",
       "    .dataframe tbody tr th {\n",
       "        vertical-align: top;\n",
       "    }\n",
       "\n",
       "    .dataframe thead th {\n",
       "        text-align: right;\n",
       "    }\n",
       "</style>\n",
       "<table border=\"1\" class=\"dataframe\">\n",
       "  <thead>\n",
       "    <tr style=\"text-align: right;\">\n",
       "      <th></th>\n",
       "      <th>name</th>\n",
       "      <th>debt</th>\n",
       "    </tr>\n",
       "  </thead>\n",
       "  <tbody>\n",
       "    <tr>\n",
       "      <th>0</th>\n",
       "      <td>United States</td>\n",
       "      <td>2.027595e+13</td>\n",
       "    </tr>\n",
       "    <tr>\n",
       "      <th>1</th>\n",
       "      <td>United Kingdom</td>\n",
       "      <td>8.722000e+12</td>\n",
       "    </tr>\n",
       "    <tr>\n",
       "      <th>2</th>\n",
       "      <td>France</td>\n",
       "      <td>6.356000e+12</td>\n",
       "    </tr>\n",
       "    <tr>\n",
       "      <th>3</th>\n",
       "      <td>Germany</td>\n",
       "      <td>5.671463e+12</td>\n",
       "    </tr>\n",
       "    <tr>\n",
       "      <th>4</th>\n",
       "      <td>Netherlands</td>\n",
       "      <td>4.345413e+12</td>\n",
       "    </tr>\n",
       "  </tbody>\n",
       "</table>\n",
       "</div>"
      ],
      "text/plain": [
       "             name          debt\n",
       "0   United States  2.027595e+13\n",
       "1  United Kingdom  8.722000e+12\n",
       "2          France  6.356000e+12\n",
       "3         Germany  5.671463e+12\n",
       "4     Netherlands  4.345413e+12"
      ]
     },
     "execution_count": 16,
     "metadata": {},
     "output_type": "execute_result"
    }
   ],
   "source": [
    "debt.head()"
   ]
  },
  {
   "cell_type": "code",
   "execution_count": 50,
   "id": "4db57f9e-6ea4-482b-8fb6-cb4c40ab4ade",
   "metadata": {
    "tags": []
   },
   "outputs": [],
   "source": [
    "people = pd.read_csv(\"population.csv\")\n",
    "population = people.drop(columns=[\"slug\",\"date_of_information\",\"region\",\"ranking\"])\n",
    "population.rename(columns={'value': 'population'}, inplace=True)"
   ]
  },
  {
   "cell_type": "code",
   "execution_count": 52,
   "id": "f954a5ae-c4f6-4453-afa2-21a034376c9c",
   "metadata": {
    "tags": []
   },
   "outputs": [],
   "source": [
    "population['population'] = population['population'].replace('[\\$,]', '', regex=True).astype(float)"
   ]
  },
  {
   "cell_type": "code",
   "execution_count": 53,
   "id": "5dcf047b-e354-4a46-879d-19b445158e2d",
   "metadata": {
    "tags": []
   },
   "outputs": [
    {
     "data": {
      "text/html": [
       "<div>\n",
       "<style scoped>\n",
       "    .dataframe tbody tr th:only-of-type {\n",
       "        vertical-align: middle;\n",
       "    }\n",
       "\n",
       "    .dataframe tbody tr th {\n",
       "        vertical-align: top;\n",
       "    }\n",
       "\n",
       "    .dataframe thead th {\n",
       "        text-align: right;\n",
       "    }\n",
       "</style>\n",
       "<table border=\"1\" class=\"dataframe\">\n",
       "  <thead>\n",
       "    <tr style=\"text-align: right;\">\n",
       "      <th></th>\n",
       "      <th>name</th>\n",
       "      <th>population</th>\n",
       "    </tr>\n",
       "  </thead>\n",
       "  <tbody>\n",
       "    <tr>\n",
       "      <th>0</th>\n",
       "      <td>China</td>\n",
       "      <td>1.413143e+09</td>\n",
       "    </tr>\n",
       "    <tr>\n",
       "      <th>1</th>\n",
       "      <td>India</td>\n",
       "      <td>1.399180e+09</td>\n",
       "    </tr>\n",
       "    <tr>\n",
       "      <th>2</th>\n",
       "      <td>United States</td>\n",
       "      <td>3.396651e+08</td>\n",
       "    </tr>\n",
       "    <tr>\n",
       "      <th>3</th>\n",
       "      <td>Indonesia</td>\n",
       "      <td>2.794763e+08</td>\n",
       "    </tr>\n",
       "    <tr>\n",
       "      <th>4</th>\n",
       "      <td>Pakistan</td>\n",
       "      <td>2.476536e+08</td>\n",
       "    </tr>\n",
       "  </tbody>\n",
       "</table>\n",
       "</div>"
      ],
      "text/plain": [
       "            name    population\n",
       "0          China  1.413143e+09\n",
       "1          India  1.399180e+09\n",
       "2  United States  3.396651e+08\n",
       "3      Indonesia  2.794763e+08\n",
       "4       Pakistan  2.476536e+08"
      ]
     },
     "execution_count": 53,
     "metadata": {},
     "output_type": "execute_result"
    }
   ],
   "source": [
    "population.head()"
   ]
  },
  {
   "cell_type": "code",
   "execution_count": 54,
   "id": "e2246560-c83a-402a-93ba-0f96b7737ac6",
   "metadata": {
    "tags": []
   },
   "outputs": [
    {
     "data": {
      "text/html": [
       "<div>\n",
       "<style scoped>\n",
       "    .dataframe tbody tr th:only-of-type {\n",
       "        vertical-align: middle;\n",
       "    }\n",
       "\n",
       "    .dataframe tbody tr th {\n",
       "        vertical-align: top;\n",
       "    }\n",
       "\n",
       "    .dataframe thead th {\n",
       "        text-align: right;\n",
       "    }\n",
       "</style>\n",
       "<table border=\"1\" class=\"dataframe\">\n",
       "  <thead>\n",
       "    <tr style=\"text-align: right;\">\n",
       "      <th></th>\n",
       "      <th>name</th>\n",
       "      <th>slug</th>\n",
       "      <th>% of GDP</th>\n",
       "      <th>date_of_information</th>\n",
       "      <th>ranking</th>\n",
       "      <th>region</th>\n",
       "    </tr>\n",
       "  </thead>\n",
       "  <tbody>\n",
       "    <tr>\n",
       "      <th>0</th>\n",
       "      <td>Marshall Islands</td>\n",
       "      <td>marshall-islands</td>\n",
       "      <td>13.6</td>\n",
       "      <td>2020</td>\n",
       "      <td>1</td>\n",
       "      <td>Australia and Oceania</td>\n",
       "    </tr>\n",
       "    <tr>\n",
       "      <th>1</th>\n",
       "      <td>Solomon Islands</td>\n",
       "      <td>solomon-islands</td>\n",
       "      <td>12.8</td>\n",
       "      <td>2020</td>\n",
       "      <td>2</td>\n",
       "      <td>Australia and Oceania</td>\n",
       "    </tr>\n",
       "    <tr>\n",
       "      <th>2</th>\n",
       "      <td>Kiribati</td>\n",
       "      <td>kiribati</td>\n",
       "      <td>12.4</td>\n",
       "      <td>2019</td>\n",
       "      <td>3</td>\n",
       "      <td>Australia and Oceania</td>\n",
       "    </tr>\n",
       "    <tr>\n",
       "      <th>3</th>\n",
       "      <td>Greenland</td>\n",
       "      <td>greenland</td>\n",
       "      <td>10.2</td>\n",
       "      <td>2019</td>\n",
       "      <td>4</td>\n",
       "      <td>North America</td>\n",
       "    </tr>\n",
       "    <tr>\n",
       "      <th>4</th>\n",
       "      <td>Bolivia</td>\n",
       "      <td>bolivia</td>\n",
       "      <td>9.8</td>\n",
       "      <td>2020</td>\n",
       "      <td>5</td>\n",
       "      <td>South America</td>\n",
       "    </tr>\n",
       "  </tbody>\n",
       "</table>\n",
       "</div>"
      ],
      "text/plain": [
       "               name              slug  % of GDP  date_of_information  ranking  \\\n",
       "0  Marshall Islands  marshall-islands      13.6                 2020        1   \n",
       "1   Solomon Islands   solomon-islands      12.8                 2020        2   \n",
       "2          Kiribati          kiribati      12.4                 2019        3   \n",
       "3         Greenland         greenland      10.2                 2019        4   \n",
       "4           Bolivia           bolivia       9.8                 2020        5   \n",
       "\n",
       "                  region  \n",
       "0  Australia and Oceania  \n",
       "1  Australia and Oceania  \n",
       "2  Australia and Oceania  \n",
       "3          North America  \n",
       "4          South America  "
      ]
     },
     "execution_count": 54,
     "metadata": {},
     "output_type": "execute_result"
    }
   ],
   "source": [
    "education_expenditures = pd.read_csv(\"education_expenditures.csv\")\n",
    "education_expenditures.head()"
   ]
  },
  {
   "cell_type": "code",
   "execution_count": 55,
   "id": "eb920193-02ab-4b0f-8a8d-6e67b0509c72",
   "metadata": {
    "tags": []
   },
   "outputs": [],
   "source": [
    "education_expenditures = pd.read_csv(\"education_expenditures.csv\")\n",
    "edu_exp = education_expenditures.drop(columns=[\"slug\",\"date_of_information\",\"region\",\"ranking\"])\n",
    "edu_exp.rename(columns={'% of GDP': 'education_expenditures % of GDP'}, inplace=True)"
   ]
  },
  {
   "cell_type": "code",
   "execution_count": 56,
   "id": "5adae7eb-1dde-4a2b-8678-a9a8257d2986",
   "metadata": {
    "tags": []
   },
   "outputs": [
    {
     "data": {
      "text/html": [
       "<div>\n",
       "<style scoped>\n",
       "    .dataframe tbody tr th:only-of-type {\n",
       "        vertical-align: middle;\n",
       "    }\n",
       "\n",
       "    .dataframe tbody tr th {\n",
       "        vertical-align: top;\n",
       "    }\n",
       "\n",
       "    .dataframe thead th {\n",
       "        text-align: right;\n",
       "    }\n",
       "</style>\n",
       "<table border=\"1\" class=\"dataframe\">\n",
       "  <thead>\n",
       "    <tr style=\"text-align: right;\">\n",
       "      <th></th>\n",
       "      <th>name</th>\n",
       "      <th>education_expenditures % of GDP</th>\n",
       "    </tr>\n",
       "  </thead>\n",
       "  <tbody>\n",
       "    <tr>\n",
       "      <th>0</th>\n",
       "      <td>Marshall Islands</td>\n",
       "      <td>13.6</td>\n",
       "    </tr>\n",
       "    <tr>\n",
       "      <th>1</th>\n",
       "      <td>Solomon Islands</td>\n",
       "      <td>12.8</td>\n",
       "    </tr>\n",
       "    <tr>\n",
       "      <th>2</th>\n",
       "      <td>Kiribati</td>\n",
       "      <td>12.4</td>\n",
       "    </tr>\n",
       "    <tr>\n",
       "      <th>3</th>\n",
       "      <td>Greenland</td>\n",
       "      <td>10.2</td>\n",
       "    </tr>\n",
       "    <tr>\n",
       "      <th>4</th>\n",
       "      <td>Bolivia</td>\n",
       "      <td>9.8</td>\n",
       "    </tr>\n",
       "  </tbody>\n",
       "</table>\n",
       "</div>"
      ],
      "text/plain": [
       "               name  education_expenditures % of GDP\n",
       "0  Marshall Islands                             13.6\n",
       "1   Solomon Islands                             12.8\n",
       "2          Kiribati                             12.4\n",
       "3         Greenland                             10.2\n",
       "4           Bolivia                              9.8"
      ]
     },
     "execution_count": 56,
     "metadata": {},
     "output_type": "execute_result"
    }
   ],
   "source": [
    "edu_exp.head()"
   ]
  },
  {
   "cell_type": "code",
   "execution_count": 57,
   "id": "2e0495fe-334a-4a28-8fdd-0fae7c7ee731",
   "metadata": {
    "tags": []
   },
   "outputs": [],
   "source": [
    "dfs = [gdp,life,total_gdp,un,debt,population,edu_exp]"
   ]
  },
  {
   "cell_type": "code",
   "execution_count": 58,
   "id": "0a898aec-dda6-4f0b-9900-c0e30d1ec936",
   "metadata": {
    "tags": []
   },
   "outputs": [],
   "source": [
    "merge_df = reduce(lambda left, right:pd.merge(left,right, on='name',how='inner'),dfs)"
   ]
  },
  {
   "cell_type": "code",
   "execution_count": 59,
   "id": "585d07ec-84c4-48c5-931f-e41c48d29b1b",
   "metadata": {
    "tags": []
   },
   "outputs": [
    {
     "data": {
      "text/html": [
       "<div>\n",
       "<style scoped>\n",
       "    .dataframe tbody tr th:only-of-type {\n",
       "        vertical-align: middle;\n",
       "    }\n",
       "\n",
       "    .dataframe tbody tr th {\n",
       "        vertical-align: top;\n",
       "    }\n",
       "\n",
       "    .dataframe thead th {\n",
       "        text-align: right;\n",
       "    }\n",
       "</style>\n",
       "<table border=\"1\" class=\"dataframe\">\n",
       "  <thead>\n",
       "    <tr style=\"text-align: right;\">\n",
       "      <th></th>\n",
       "      <th>name</th>\n",
       "      <th>gdp</th>\n",
       "      <th>slug</th>\n",
       "      <th>years</th>\n",
       "      <th>date_of_information</th>\n",
       "      <th>ranking</th>\n",
       "      <th>region</th>\n",
       "      <th>total_gdp</th>\n",
       "      <th>%</th>\n",
       "      <th>debt</th>\n",
       "      <th>population</th>\n",
       "      <th>education_expenditures % of GDP</th>\n",
       "    </tr>\n",
       "  </thead>\n",
       "  <tbody>\n",
       "    <tr>\n",
       "      <th>0</th>\n",
       "      <td>Liechtenstein</td>\n",
       "      <td>139100.0</td>\n",
       "      <td>liechtenstein</td>\n",
       "      <td>82.8</td>\n",
       "      <td>2023</td>\n",
       "      <td>21</td>\n",
       "      <td>Europe</td>\n",
       "      <td>4.978000e+09</td>\n",
       "      <td>2.40</td>\n",
       "      <td>0.000000e+00</td>\n",
       "      <td>39993.0</td>\n",
       "      <td>2.6</td>\n",
       "    </tr>\n",
       "    <tr>\n",
       "      <th>1</th>\n",
       "      <td>Luxembourg</td>\n",
       "      <td>115700.0</td>\n",
       "      <td>luxembourg</td>\n",
       "      <td>83.2</td>\n",
       "      <td>2023</td>\n",
       "      <td>14</td>\n",
       "      <td>Europe</td>\n",
       "      <td>7.404500e+10</td>\n",
       "      <td>5.23</td>\n",
       "      <td>4.266792e+12</td>\n",
       "      <td>660924.0</td>\n",
       "      <td>5.0</td>\n",
       "    </tr>\n",
       "    <tr>\n",
       "      <th>2</th>\n",
       "      <td>Singapore</td>\n",
       "      <td>106000.0</td>\n",
       "      <td>singapore</td>\n",
       "      <td>86.5</td>\n",
       "      <td>2023</td>\n",
       "      <td>2</td>\n",
       "      <td>East and Southeast Asia</td>\n",
       "      <td>5.782540e+11</td>\n",
       "      <td>3.62</td>\n",
       "      <td>1.557646e+12</td>\n",
       "      <td>5975383.0</td>\n",
       "      <td>2.8</td>\n",
       "    </tr>\n",
       "    <tr>\n",
       "      <th>3</th>\n",
       "      <td>Ireland</td>\n",
       "      <td>102500.0</td>\n",
       "      <td>ireland</td>\n",
       "      <td>82.2</td>\n",
       "      <td>2023</td>\n",
       "      <td>29</td>\n",
       "      <td>Europe</td>\n",
       "      <td>5.158800e+11</td>\n",
       "      <td>6.63</td>\n",
       "      <td>2.829000e+12</td>\n",
       "      <td>5323991.0</td>\n",
       "      <td>3.1</td>\n",
       "    </tr>\n",
       "    <tr>\n",
       "      <th>4</th>\n",
       "      <td>Qatar</td>\n",
       "      <td>92900.0</td>\n",
       "      <td>qatar</td>\n",
       "      <td>80.0</td>\n",
       "      <td>2023</td>\n",
       "      <td>54</td>\n",
       "      <td>Middle East</td>\n",
       "      <td>2.496360e+11</td>\n",
       "      <td>0.26</td>\n",
       "      <td>1.678000e+11</td>\n",
       "      <td>2532104.0</td>\n",
       "      <td>3.2</td>\n",
       "    </tr>\n",
       "    <tr>\n",
       "      <th>5</th>\n",
       "      <td>Bermuda</td>\n",
       "      <td>80300.0</td>\n",
       "      <td>bermuda</td>\n",
       "      <td>82.3</td>\n",
       "      <td>2023</td>\n",
       "      <td>28</td>\n",
       "      <td>North America</td>\n",
       "      <td>5.127000e+09</td>\n",
       "      <td>7.00</td>\n",
       "      <td>2.515000e+09</td>\n",
       "      <td>72576.0</td>\n",
       "      <td>1.9</td>\n",
       "    </tr>\n",
       "    <tr>\n",
       "      <th>6</th>\n",
       "      <td>Switzerland</td>\n",
       "      <td>71000.0</td>\n",
       "      <td>switzerland</td>\n",
       "      <td>83.8</td>\n",
       "      <td>2023</td>\n",
       "      <td>7</td>\n",
       "      <td>Europe</td>\n",
       "      <td>6.182280e+11</td>\n",
       "      <td>5.32</td>\n",
       "      <td>1.909000e+12</td>\n",
       "      <td>8563760.0</td>\n",
       "      <td>5.2</td>\n",
       "    </tr>\n",
       "    <tr>\n",
       "      <th>7</th>\n",
       "      <td>United Arab Emirates</td>\n",
       "      <td>69700.0</td>\n",
       "      <td>united-arab-emirates</td>\n",
       "      <td>79.8</td>\n",
       "      <td>2023</td>\n",
       "      <td>58</td>\n",
       "      <td>Middle East</td>\n",
       "      <td>6.530670e+11</td>\n",
       "      <td>3.36</td>\n",
       "      <td>2.376000e+11</td>\n",
       "      <td>9973449.0</td>\n",
       "      <td>3.9</td>\n",
       "    </tr>\n",
       "    <tr>\n",
       "      <th>8</th>\n",
       "      <td>Norway</td>\n",
       "      <td>67500.0</td>\n",
       "      <td>norway</td>\n",
       "      <td>83.0</td>\n",
       "      <td>2023</td>\n",
       "      <td>16</td>\n",
       "      <td>Europe</td>\n",
       "      <td>3.681510e+11</td>\n",
       "      <td>4.99</td>\n",
       "      <td>6.510400e+11</td>\n",
       "      <td>5597924.0</td>\n",
       "      <td>5.9</td>\n",
       "    </tr>\n",
       "    <tr>\n",
       "      <th>9</th>\n",
       "      <td>Macau</td>\n",
       "      <td>64800.0</td>\n",
       "      <td>macau</td>\n",
       "      <td>85.2</td>\n",
       "      <td>2023</td>\n",
       "      <td>3</td>\n",
       "      <td>East and Southeast Asia</td>\n",
       "      <td>4.449000e+10</td>\n",
       "      <td>3.01</td>\n",
       "      <td>0.000000e+00</td>\n",
       "      <td>639971.0</td>\n",
       "      <td>6.3</td>\n",
       "    </tr>\n",
       "    <tr>\n",
       "      <th>10</th>\n",
       "      <td>United States</td>\n",
       "      <td>63700.0</td>\n",
       "      <td>united-states</td>\n",
       "      <td>80.8</td>\n",
       "      <td>2023</td>\n",
       "      <td>48</td>\n",
       "      <td>North America</td>\n",
       "      <td>2.113200e+13</td>\n",
       "      <td>5.46</td>\n",
       "      <td>2.027595e+13</td>\n",
       "      <td>339665118.0</td>\n",
       "      <td>6.1</td>\n",
       "    </tr>\n",
       "    <tr>\n",
       "      <th>11</th>\n",
       "      <td>Brunei</td>\n",
       "      <td>60100.0</td>\n",
       "      <td>brunei</td>\n",
       "      <td>78.6</td>\n",
       "      <td>2023</td>\n",
       "      <td>71</td>\n",
       "      <td>East and Southeast Asia</td>\n",
       "      <td>2.677900e+10</td>\n",
       "      <td>7.65</td>\n",
       "      <td>0.000000e+00</td>\n",
       "      <td>484991.0</td>\n",
       "      <td>4.4</td>\n",
       "    </tr>\n",
       "    <tr>\n",
       "      <th>12</th>\n",
       "      <td>Hong Kong</td>\n",
       "      <td>60000.0</td>\n",
       "      <td>hong-kong</td>\n",
       "      <td>83.8</td>\n",
       "      <td>2023</td>\n",
       "      <td>8</td>\n",
       "      <td>East and Southeast Asia</td>\n",
       "      <td>4.446240e+11</td>\n",
       "      <td>5.32</td>\n",
       "      <td>1.648409e+12</td>\n",
       "      <td>7288167.0</td>\n",
       "      <td>4.0</td>\n",
       "    </tr>\n",
       "    <tr>\n",
       "      <th>13</th>\n",
       "      <td>Denmark</td>\n",
       "      <td>59900.0</td>\n",
       "      <td>denmark</td>\n",
       "      <td>81.9</td>\n",
       "      <td>2023</td>\n",
       "      <td>36</td>\n",
       "      <td>Europe</td>\n",
       "      <td>3.537990e+11</td>\n",
       "      <td>4.80</td>\n",
       "      <td>5.048080e+11</td>\n",
       "      <td>5946984.0</td>\n",
       "      <td>6.4</td>\n",
       "    </tr>\n",
       "    <tr>\n",
       "      <th>14</th>\n",
       "      <td>Netherlands</td>\n",
       "      <td>56600.0</td>\n",
       "      <td>netherlands</td>\n",
       "      <td>81.7</td>\n",
       "      <td>2023</td>\n",
       "      <td>39</td>\n",
       "      <td>Europe</td>\n",
       "      <td>9.926750e+11</td>\n",
       "      <td>4.01</td>\n",
       "      <td>4.345413e+12</td>\n",
       "      <td>17463930.0</td>\n",
       "      <td>5.3</td>\n",
       "    </tr>\n",
       "  </tbody>\n",
       "</table>\n",
       "</div>"
      ],
      "text/plain": [
       "                    name       gdp                  slug   years  \\\n",
       "0          Liechtenstein  139100.0         liechtenstein    82.8   \n",
       "1             Luxembourg  115700.0            luxembourg    83.2   \n",
       "2              Singapore  106000.0             singapore    86.5   \n",
       "3                Ireland  102500.0               ireland    82.2   \n",
       "4                  Qatar   92900.0                 qatar    80.0   \n",
       "5                Bermuda   80300.0               bermuda    82.3   \n",
       "6            Switzerland   71000.0           switzerland    83.8   \n",
       "7   United Arab Emirates   69700.0  united-arab-emirates    79.8   \n",
       "8                 Norway   67500.0                norway    83.0   \n",
       "9                  Macau   64800.0                 macau    85.2   \n",
       "10         United States   63700.0         united-states    80.8   \n",
       "11                Brunei   60100.0                brunei    78.6   \n",
       "12             Hong Kong   60000.0             hong-kong    83.8   \n",
       "13               Denmark   59900.0               denmark    81.9   \n",
       "14           Netherlands   56600.0           netherlands    81.7   \n",
       "\n",
       "    date_of_information  ranking                   region     total_gdp     %  \\\n",
       "0                  2023       21                   Europe  4.978000e+09  2.40   \n",
       "1                  2023       14                   Europe  7.404500e+10  5.23   \n",
       "2                  2023        2  East and Southeast Asia  5.782540e+11  3.62   \n",
       "3                  2023       29                   Europe  5.158800e+11  6.63   \n",
       "4                  2023       54              Middle East  2.496360e+11  0.26   \n",
       "5                  2023       28            North America  5.127000e+09  7.00   \n",
       "6                  2023        7                   Europe  6.182280e+11  5.32   \n",
       "7                  2023       58              Middle East  6.530670e+11  3.36   \n",
       "8                  2023       16                   Europe  3.681510e+11  4.99   \n",
       "9                  2023        3  East and Southeast Asia  4.449000e+10  3.01   \n",
       "10                 2023       48            North America  2.113200e+13  5.46   \n",
       "11                 2023       71  East and Southeast Asia  2.677900e+10  7.65   \n",
       "12                 2023        8  East and Southeast Asia  4.446240e+11  5.32   \n",
       "13                 2023       36                   Europe  3.537990e+11  4.80   \n",
       "14                 2023       39                   Europe  9.926750e+11  4.01   \n",
       "\n",
       "            debt   population  education_expenditures % of GDP  \n",
       "0   0.000000e+00      39993.0                              2.6  \n",
       "1   4.266792e+12     660924.0                              5.0  \n",
       "2   1.557646e+12    5975383.0                              2.8  \n",
       "3   2.829000e+12    5323991.0                              3.1  \n",
       "4   1.678000e+11    2532104.0                              3.2  \n",
       "5   2.515000e+09      72576.0                              1.9  \n",
       "6   1.909000e+12    8563760.0                              5.2  \n",
       "7   2.376000e+11    9973449.0                              3.9  \n",
       "8   6.510400e+11    5597924.0                              5.9  \n",
       "9   0.000000e+00     639971.0                              6.3  \n",
       "10  2.027595e+13  339665118.0                              6.1  \n",
       "11  0.000000e+00     484991.0                              4.4  \n",
       "12  1.648409e+12    7288167.0                              4.0  \n",
       "13  5.048080e+11    5946984.0                              6.4  \n",
       "14  4.345413e+12   17463930.0                              5.3  "
      ]
     },
     "execution_count": 59,
     "metadata": {},
     "output_type": "execute_result"
    }
   ],
   "source": [
    "merge_df.head(15)"
   ]
  },
  {
   "cell_type": "code",
   "execution_count": 60,
   "id": "bb5a0e7f-61e5-4edd-b50e-185c7c30390e",
   "metadata": {
    "tags": []
   },
   "outputs": [
    {
     "name": "stdout",
     "output_type": "stream",
     "text": [
      "Index(['name', 'gdp', 'slug', ' years', 'date_of_information', 'ranking',\n",
      "       'region', 'total_gdp', '%', 'debt', 'population',\n",
      "       'education_expenditures % of GDP'],\n",
      "      dtype='object')\n"
     ]
    }
   ],
   "source": [
    "print(merge_df.columns)"
   ]
  },
  {
   "cell_type": "code",
   "execution_count": 61,
   "id": "2eee43fe-d765-45d3-b189-8d6e2637f63a",
   "metadata": {
    "tags": []
   },
   "outputs": [],
   "source": [
    "df = merge_df.drop(columns = ['name','slug', 'date_of_information', 'region'])"
   ]
  },
  {
   "cell_type": "code",
   "execution_count": 62,
   "id": "77d32d84-1c6a-4cfe-b04b-b2ad32293dde",
   "metadata": {
    "tags": []
   },
   "outputs": [],
   "source": [
    "independent = df['gdp']"
   ]
  },
  {
   "cell_type": "code",
   "execution_count": 63,
   "id": "90eaf14b-ca46-4fce-bf20-20cfd10c06d0",
   "metadata": {
    "tags": []
   },
   "outputs": [],
   "source": [
    "dependent = df[' years']"
   ]
  },
  {
   "cell_type": "code",
   "execution_count": 64,
   "id": "876f83ed-83ac-4e6c-8fe7-873796984f16",
   "metadata": {
    "tags": []
   },
   "outputs": [],
   "source": [
    "X = independent.values.reshape(-1,1)"
   ]
  },
  {
   "cell_type": "code",
   "execution_count": 65,
   "id": "0a2b7efd-c00a-4cb6-8046-261b4757928c",
   "metadata": {
    "tags": []
   },
   "outputs": [],
   "source": [
    "y = dependent.values.reshape(-1,1)"
   ]
  },
  {
   "cell_type": "code",
   "execution_count": 66,
   "id": "2442436a-1c7f-40be-970a-73374494d7e6",
   "metadata": {
    "tags": []
   },
   "outputs": [],
   "source": [
    "#data1 = data[data['class'] =='Abnormal']"
   ]
  },
  {
   "cell_type": "code",
   "execution_count": 67,
   "id": "062472bd-830e-4788-afb7-f5c02a1246dd",
   "metadata": {
    "tags": []
   },
   "outputs": [],
   "source": [
    "#X = X.flatten() if isinstance(X, np.ndarray) else X\n",
    "#y = y.flatten() if isinstance(y, np.ndarray) else y"
   ]
  },
  {
   "cell_type": "code",
   "execution_count": 68,
   "id": "ef8b43f4-3f59-4a64-9451-ecc66a0c2cf6",
   "metadata": {
    "tags": []
   },
   "outputs": [
    {
     "data": {
      "image/png": "[encoded data removed]",
      "text/plain": [
       "<Figure size 500x500 with 1 Axes>"
      ]
     },
     "metadata": {},
     "output_type": "display_data"
    }
   ],
   "source": [
    "plt.figure(figsize=[5,5])\n",
    "plt.scatter(x=X,y=y)\n",
    "plt.xlabel('GDP per capita')\n",
    "plt.ylabel('life expectancy')\n",
    "plt.show()"
   ]
  },
  {
   "cell_type": "code",
   "execution_count": 69,
   "id": "645cad15-57db-4e9f-9227-1a5a8cec85a9",
   "metadata": {
    "tags": []
   },
   "outputs": [],
   "source": [
    "from sklearn.linear_model import LinearRegression"
   ]
  },
  {
   "cell_type": "code",
   "execution_count": 70,
   "id": "b78064ae-f188-4836-8710-32ff94217e10",
   "metadata": {
    "tags": []
   },
   "outputs": [],
   "source": [
    "reg = LinearRegression()"
   ]
  },
  {
   "cell_type": "code",
   "execution_count": 71,
   "id": "b8bf8c11-1109-4750-afd7-60b9cdacebd4",
   "metadata": {
    "tags": []
   },
   "outputs": [
    {
     "data": {
      "text/html": [
       "<style>#sk-container-id-2 {color: black;}#sk-container-id-2 pre{padding: 0;}#sk-container-id-2 div.sk-toggleable {background-color: white;}#sk-container-id-2 label.sk-toggleable__label {cursor: pointer;display: block;width: 100%;margin-bottom: 0;padding: 0.3em;box-sizing: border-box;text-align: center;}#sk-container-id-2 label.sk-toggleable__label-arrow:before {content: \"▸\";float: left;margin-right: 0.25em;color: #696969;}#sk-container-id-2 label.sk-toggleable__label-arrow:hover:before {color: black;}#sk-container-id-2 div.sk-estimator:hover label.sk-toggleable__label-arrow:before {color: black;}#sk-container-id-2 div.sk-toggleable__content {max-height: 0;max-width: 0;overflow: hidden;text-align: left;background-color: #f0f8ff;}#sk-container-id-2 div.sk-toggleable__content pre {margin: 0.2em;color: black;border-radius: 0.25em;background-color: #f0f8ff;}#sk-container-id-2 input.sk-toggleable__control:checked~div.sk-toggleable__content {max-height: 200px;max-width: 100%;overflow: auto;}#sk-container-id-2 input.sk-toggleable__control:checked~label.sk-toggleable__label-arrow:before {content: \"▾\";}#sk-container-id-2 div.sk-estimator input.sk-toggleable__control:checked~label.sk-toggleable__label {background-color: #d4ebff;}#sk-container-id-2 div.sk-label input.sk-toggleable__control:checked~label.sk-toggleable__label {background-color: #d4ebff;}#sk-container-id-2 input.sk-hidden--visually {border: 0;clip: rect(1px 1px 1px 1px);clip: rect(1px, 1px, 1px, 1px);height: 1px;margin: -1px;overflow: hidden;padding: 0;position: absolute;width: 1px;}#sk-container-id-2 div.sk-estimator {font-family: monospace;background-color: #f0f8ff;border: 1px dotted black;border-radius: 0.25em;box-sizing: border-box;margin-bottom: 0.5em;}#sk-container-id-2 div.sk-estimator:hover {background-color: #d4ebff;}#sk-container-id-2 div.sk-parallel-item::after {content: \"\";width: 100%;border-bottom: 1px solid gray;flex-grow: 1;}#sk-container-id-2 div.sk-label:hover label.sk-toggleable__label {background-color: #d4ebff;}#sk-container-id-2 div.sk-serial::before {content: \"\";position: absolute;border-left: 1px solid gray;box-sizing: border-box;top: 0;bottom: 0;left: 50%;z-index: 0;}#sk-container-id-2 div.sk-serial {display: flex;flex-direction: column;align-items: center;background-color: white;padding-right: 0.2em;padding-left: 0.2em;position: relative;}#sk-container-id-2 div.sk-item {position: relative;z-index: 1;}#sk-container-id-2 div.sk-parallel {display: flex;align-items: stretch;justify-content: center;background-color: white;position: relative;}#sk-container-id-2 div.sk-item::before, #sk-container-id-2 div.sk-parallel-item::before {content: \"\";position: absolute;border-left: 1px solid gray;box-sizing: border-box;top: 0;bottom: 0;left: 50%;z-index: -1;}#sk-container-id-2 div.sk-parallel-item {display: flex;flex-direction: column;z-index: 1;position: relative;background-color: white;}#sk-container-id-2 div.sk-parallel-item:first-child::after {align-self: flex-end;width: 50%;}#sk-container-id-2 div.sk-parallel-item:last-child::after {align-self: flex-start;width: 50%;}#sk-container-id-2 div.sk-parallel-item:only-child::after {width: 0;}#sk-container-id-2 div.sk-dashed-wrapped {border: 1px dashed gray;margin: 0 0.4em 0.5em 0.4em;box-sizing: border-box;padding-bottom: 0.4em;background-color: white;}#sk-container-id-2 div.sk-label label {font-family: monospace;font-weight: bold;display: inline-block;line-height: 1.2em;}#sk-container-id-2 div.sk-label-container {text-align: center;}#sk-container-id-2 div.sk-container {/* jupyter's `normalize.less` sets `[hidden] { display: none; }` but bootstrap.min.css set `[hidden] { display: none !important; }` so we also need the `!important` here to be able to override the default hidden behavior on the sphinx rendered scikit-learn.org. See: https://github.com/scikit-learn/scikit-learn/issues/21755 */display: inline-block !important;position: relative;}#sk-container-id-2 div.sk-text-repr-fallback {display: none;}</style><div id=\"sk-container-id-2\" class=\"sk-top-container\"><div class=\"sk-text-repr-fallback\"><pre>LinearRegression()</pre><b>In a Jupyter environment, please rerun this cell to show the HTML representation or trust the notebook. <br />On GitHub, the HTML representation is unable to render, please try loading this page with nbviewer.org.</b></div><div class=\"sk-container\" hidden><div class=\"sk-item\"><div class=\"sk-estimator sk-toggleable\"><input class=\"sk-toggleable__control sk-hidden--visually\" id=\"sk-estimator-id-2\" type=\"checkbox\" checked><label for=\"sk-estimator-id-2\" class=\"sk-toggleable__label sk-toggleable__label-arrow\">LinearRegression</label><div class=\"sk-toggleable__content\"><pre>LinearRegression()</pre></div></div></div></div></div>"
      ],
      "text/plain": [
       "LinearRegression()"
      ]
     },
     "execution_count": 71,
     "metadata": {},
     "output_type": "execute_result"
    }
   ],
   "source": [
    "reg.fit(X,y)"
   ]
  },
  {
   "cell_type": "code",
   "execution_count": 72,
   "id": "b48f6f75-bdd5-43d6-80e2-a5ef996786e2",
   "metadata": {
    "tags": []
   },
   "outputs": [],
   "source": [
    "predictions = reg.predict(X)"
   ]
  },
  {
   "cell_type": "code",
   "execution_count": 73,
   "id": "a5856ff5-04c4-488c-aeb5-d19411a1c9c8",
   "metadata": {
    "tags": []
   },
   "outputs": [
    {
     "data": {
      "image/png": "[encoded data removed]",
      "text/plain": [
       "<Figure size 640x480 with 1 Axes>"
      ]
     },
     "metadata": {},
     "output_type": "display_data"
    }
   ],
   "source": [
    "plt.scatter(X,y)\n",
    "plt.plot(X, predictions)\n",
    "plt.ylabel(\"life expectancy (years)\")\n",
    "plt.xlabel(\"GDP per capita ($)\")\n",
    "plt.show()"
   ]
  },
  {
   "cell_type": "code",
   "execution_count": 74,
   "id": "54ead417-cdf6-4305-b81a-bf1deac8c3f9",
   "metadata": {
    "tags": []
   },
   "outputs": [],
   "source": [
    "X = df.drop(\" years\", axis=1).values\n",
    "y = df[\" years\"].values"
   ]
  },
  {
   "cell_type": "markdown",
   "id": "6316d8cd-a870-4e4c-b52c-42972963f30c",
   "metadata": {},
   "source": [
    "### Linear Regression Using All Features"
   ]
  },
  {
   "cell_type": "code",
   "execution_count": 75,
   "id": "6fa2716c-c809-4f64-b73d-9fb655141a3d",
   "metadata": {
    "tags": []
   },
   "outputs": [],
   "source": [
    "from sklearn.model_selection import train_test_split"
   ]
  },
  {
   "cell_type": "code",
   "execution_count": 76,
   "id": "af73439f-2fbd-4dca-ac65-21aa369c5aec",
   "metadata": {
    "tags": []
   },
   "outputs": [],
   "source": [
    "X_train, X_test, y_train, y_test = train_test_split(X, y, test_size=0.3, random_state=42)"
   ]
  },
  {
   "cell_type": "code",
   "execution_count": 77,
   "id": "89227b1e-8c59-499e-be9a-141b4ac2cefe",
   "metadata": {
    "tags": []
   },
   "outputs": [],
   "source": [
    "reg_all = LinearRegression()"
   ]
  },
  {
   "cell_type": "code",
   "execution_count": 78,
   "id": "f7be1d92-d50c-4ab5-97a5-9f93f8129098",
   "metadata": {
    "tags": []
   },
   "outputs": [
    {
     "data": {
      "text/html": [
       "<style>#sk-container-id-3 {color: black;}#sk-container-id-3 pre{padding: 0;}#sk-container-id-3 div.sk-toggleable {background-color: white;}#sk-container-id-3 label.sk-toggleable__label {cursor: pointer;display: block;width: 100%;margin-bottom: 0;padding: 0.3em;box-sizing: border-box;text-align: center;}#sk-container-id-3 label.sk-toggleable__label-arrow:before {content: \"▸\";float: left;margin-right: 0.25em;color: #696969;}#sk-container-id-3 label.sk-toggleable__label-arrow:hover:before {color: black;}#sk-container-id-3 div.sk-estimator:hover label.sk-toggleable__label-arrow:before {color: black;}#sk-container-id-3 div.sk-toggleable__content {max-height: 0;max-width: 0;overflow: hidden;text-align: left;background-color: #f0f8ff;}#sk-container-id-3 div.sk-toggleable__content pre {margin: 0.2em;color: black;border-radius: 0.25em;background-color: #f0f8ff;}#sk-container-id-3 input.sk-toggleable__control:checked~div.sk-toggleable__content {max-height: 200px;max-width: 100%;overflow: auto;}#sk-container-id-3 input.sk-toggleable__control:checked~label.sk-toggleable__label-arrow:before {content: \"▾\";}#sk-container-id-3 div.sk-estimator input.sk-toggleable__control:checked~label.sk-toggleable__label {background-color: #d4ebff;}#sk-container-id-3 div.sk-label input.sk-toggleable__control:checked~label.sk-toggleable__label {background-color: #d4ebff;}#sk-container-id-3 input.sk-hidden--visually {border: 0;clip: rect(1px 1px 1px 1px);clip: rect(1px, 1px, 1px, 1px);height: 1px;margin: -1px;overflow: hidden;padding: 0;position: absolute;width: 1px;}#sk-container-id-3 div.sk-estimator {font-family: monospace;background-color: #f0f8ff;border: 1px dotted black;border-radius: 0.25em;box-sizing: border-box;margin-bottom: 0.5em;}#sk-container-id-3 div.sk-estimator:hover {background-color: #d4ebff;}#sk-container-id-3 div.sk-parallel-item::after {content: \"\";width: 100%;border-bottom: 1px solid gray;flex-grow: 1;}#sk-container-id-3 div.sk-label:hover label.sk-toggleable__label {background-color: #d4ebff;}#sk-container-id-3 div.sk-serial::before {content: \"\";position: absolute;border-left: 1px solid gray;box-sizing: border-box;top: 0;bottom: 0;left: 50%;z-index: 0;}#sk-container-id-3 div.sk-serial {display: flex;flex-direction: column;align-items: center;background-color: white;padding-right: 0.2em;padding-left: 0.2em;position: relative;}#sk-container-id-3 div.sk-item {position: relative;z-index: 1;}#sk-container-id-3 div.sk-parallel {display: flex;align-items: stretch;justify-content: center;background-color: white;position: relative;}#sk-container-id-3 div.sk-item::before, #sk-container-id-3 div.sk-parallel-item::before {content: \"\";position: absolute;border-left: 1px solid gray;box-sizing: border-box;top: 0;bottom: 0;left: 50%;z-index: -1;}#sk-container-id-3 div.sk-parallel-item {display: flex;flex-direction: column;z-index: 1;position: relative;background-color: white;}#sk-container-id-3 div.sk-parallel-item:first-child::after {align-self: flex-end;width: 50%;}#sk-container-id-3 div.sk-parallel-item:last-child::after {align-self: flex-start;width: 50%;}#sk-container-id-3 div.sk-parallel-item:only-child::after {width: 0;}#sk-container-id-3 div.sk-dashed-wrapped {border: 1px dashed gray;margin: 0 0.4em 0.5em 0.4em;box-sizing: border-box;padding-bottom: 0.4em;background-color: white;}#sk-container-id-3 div.sk-label label {font-family: monospace;font-weight: bold;display: inline-block;line-height: 1.2em;}#sk-container-id-3 div.sk-label-container {text-align: center;}#sk-container-id-3 div.sk-container {/* jupyter's `normalize.less` sets `[hidden] { display: none; }` but bootstrap.min.css set `[hidden] { display: none !important; }` so we also need the `!important` here to be able to override the default hidden behavior on the sphinx rendered scikit-learn.org. See: https://github.com/scikit-learn/scikit-learn/issues/21755 */display: inline-block !important;position: relative;}#sk-container-id-3 div.sk-text-repr-fallback {display: none;}</style><div id=\"sk-container-id-3\" class=\"sk-top-container\"><div class=\"sk-text-repr-fallback\"><pre>LinearRegression()</pre><b>In a Jupyter environment, please rerun this cell to show the HTML representation or trust the notebook. <br />On GitHub, the HTML representation is unable to render, please try loading this page with nbviewer.org.</b></div><div class=\"sk-container\" hidden><div class=\"sk-item\"><div class=\"sk-estimator sk-toggleable\"><input class=\"sk-toggleable__control sk-hidden--visually\" id=\"sk-estimator-id-3\" type=\"checkbox\" checked><label for=\"sk-estimator-id-3\" class=\"sk-toggleable__label sk-toggleable__label-arrow\">LinearRegression</label><div class=\"sk-toggleable__content\"><pre>LinearRegression()</pre></div></div></div></div></div>"
      ],
      "text/plain": [
       "LinearRegression()"
      ]
     },
     "execution_count": 78,
     "metadata": {},
     "output_type": "execute_result"
    }
   ],
   "source": [
    "reg_all.fit(X_train, y_train)"
   ]
  },
  {
   "cell_type": "code",
   "execution_count": 101,
   "id": "1fb18d3d-cc19-4068-b337-7f5f07f289c9",
   "metadata": {
    "tags": []
   },
   "outputs": [],
   "source": [
    "y_pred = reg_all.predict(X_test)"
   ]
  },
  {
   "cell_type": "markdown",
   "id": "b9043c85-afe0-4ed5-b8c3-a72c3d481461",
   "metadata": {},
   "source": [
    "### R-squared (one way to access regression model)\n",
    "Quantifies the variance in target values explained by the features\n",
    "- Values range from 0 to 1\n",
    "- High R^2 means low variance\n",
    "- Low R^2 means high variance in target values explained by the features\n"
   ]
  },
  {
   "cell_type": "code",
   "execution_count": 103,
   "id": "34bfd978-431c-49d0-9c89-40e4cbe12e96",
   "metadata": {
    "tags": []
   },
   "outputs": [],
   "source": [
    "# R-Squared in scikit-learn\n",
    "r_squared = reg_all.score(X_test, y_test)"
   ]
  },
  {
   "cell_type": "markdown",
   "id": "450ff4ba-7c71-4eea-8229-905b69d5ccc1",
   "metadata": {},
   "source": [
    "### Mean squared error and root mean squared error\n",
    "- MSE = 1/n i=1n(yi-yi)^2\n",
    "- Measured in target units, squared\n",
    "- RMSE = square root of MSE\n",
    "- Measure RMSE in same units at the target variable"
   ]
  },
  {
   "cell_type": "code",
   "execution_count": 104,
   "id": "80af3090-4dfd-4a64-8819-db2a172dadc8",
   "metadata": {
    "tags": []
   },
   "outputs": [],
   "source": [
    "# Import mean_squared_error\n",
    "from sklearn.metrics import mean_squared_error"
   ]
  },
  {
   "cell_type": "code",
   "execution_count": 105,
   "id": "59c51993-52bf-4317-ace7-f3d23ee4e122",
   "metadata": {
    "tags": []
   },
   "outputs": [],
   "source": [
    "rmse = mean_squared_error(y_test, y_pred, squared=False)"
   ]
  },
  {
   "cell_type": "code",
   "execution_count": 106,
   "id": "852594ed-0c12-4c09-a060-1a155a834578",
   "metadata": {
    "tags": []
   },
   "outputs": [
    {
     "name": "stdout",
     "output_type": "stream",
     "text": [
      "R^2: 0.9007922330062297\n",
      "RMSE: 1.9579531368933667\n"
     ]
    }
   ],
   "source": [
    "# Print the metrics\n",
    "print(\"R^2: {}\".format(r_squared))\n",
    "print(\"RMSE: {}\".format(rmse))"
   ]
  },
  {
   "cell_type": "markdown",
   "id": "9f2cd289-0d01-42ac-8899-c8bf33cc4d8b",
   "metadata": {},
   "source": [
    "### Cross-validation\n",
    "- Model performance is dependent on the way we split up the data\n",
    "- Not representative of the model’s ability to generalize to unseen data\n",
    "- Solution: cross-validation\n",
    "\n",
    "Cross-validation and model performance\n",
    "- 5 folds = 5-fold CV\n",
    "- 10 folds = 10-fold CV\n",
    "- K folds = k-fold CV\n",
    "- More folds = more computationally expensive\n"
   ]
  },
  {
   "cell_type": "code",
   "execution_count": 107,
   "id": "17578d69-ef45-424d-bca0-495fd9d6151c",
   "metadata": {
    "tags": []
   },
   "outputs": [],
   "source": [
    "# Import the necessary modules\n",
    "from sklearn.model_selection import cross_val_score, KFold"
   ]
  },
  {
   "cell_type": "code",
   "execution_count": 108,
   "id": "52e6f63d-8c41-41cd-a881-51d32e73085f",
   "metadata": {
    "tags": []
   },
   "outputs": [],
   "source": [
    "# Create a KFold object\n",
    "kf = KFold(n_splits=6, shuffle=True, random_state=5)"
   ]
  },
  {
   "cell_type": "code",
   "execution_count": 112,
   "id": "133563b7-7b6c-4d6a-92ec-ce4211b1acd6",
   "metadata": {
    "tags": []
   },
   "outputs": [],
   "source": [
    "# Compute 6-fold cross-validation scores\n",
    "cv_results = cross_val_score(reg_all, X, y, cv=kf)"
   ]
  },
  {
   "cell_type": "code",
   "execution_count": 113,
   "id": "137338ea-d6bc-4287-a02a-079b4159755b",
   "metadata": {
    "tags": []
   },
   "outputs": [
    {
     "name": "stdout",
     "output_type": "stream",
     "text": [
      "[0.94436762 0.9216964  0.93964588 0.91515013 0.87777015 0.90348089]\n"
     ]
    }
   ],
   "source": [
    "# Print scores\n",
    "print(cv_results)"
   ]
  },
  {
   "cell_type": "markdown",
   "id": "0a3cebc4-0ffb-4677-958f-321cf9764462",
   "metadata": {},
   "source": [
    "### Evaluating cross-validation performance"
   ]
  },
  {
   "cell_type": "code",
   "execution_count": 114,
   "id": "d52c1e77-c985-4474-bc66-3cb3e5403605",
   "metadata": {
    "tags": []
   },
   "outputs": [
    {
     "name": "stdout",
     "output_type": "stream",
     "text": [
      "0.9170185113095322\n",
      "0.022394369512705122\n",
      "[0.88098399 0.9437774 ]\n"
     ]
    }
   ],
   "source": [
    "# Print the mean\n",
    "print(np.mean(cv_results))\n",
    "\n",
    "\n",
    "# Print the standard deviation\n",
    "print(np.std(cv_results))\n",
    "\n",
    "\n",
    "# Print the 95% confidence interval\n",
    "print(np.quantile(cv_results, [0.025, 0.975]))"
   ]
  },
  {
   "cell_type": "markdown",
   "id": "bc67cef9-4c12-48bc-9de2-2030ca280920",
   "metadata": {},
   "source": [
    "## Regularized regression\n",
    "- Recall: linear regression minimizes a loss function\n",
    "- It chooses a coefficient, a, for for each feature variable, plus b\n",
    "- Large coefficients can lead to overfitting\n",
    "- Regularization: penalize large coefficients\n",
    "\n",
    "## Ridge regression\n",
    "- Loss function = Ordinary Least Squares loss function + *i=1ai2\n",
    "- Ridge penalizes large positive or negative coefficients\n",
    "- alpha : parameter we need to choose\n",
    "- Pricking  for ridge is similar to picking k in knn \n",
    "- Hyperparameter: variable used to optimize model parameters\n",
    " controls model complexity\n",
    " - alpha = 0 = Ordinary Least Squares (can lead to overfitting) when large coefficients are not penalized\n"
   ]
  },
  {
   "cell_type": "code",
   "execution_count": 115,
   "id": "af5a065b-df13-4cee-b903-2faba3a74381",
   "metadata": {
    "tags": []
   },
   "outputs": [],
   "source": [
    "# Import Ridge\n",
    "from sklearn.linear_model import Ridge"
   ]
  },
  {
   "cell_type": "code",
   "execution_count": 118,
   "id": "d6eb0515-a5e6-470b-895f-690c2b516cf3",
   "metadata": {
    "tags": []
   },
   "outputs": [],
   "source": [
    "alphas = [0.1, 1.0, 10.0, 100.0, 1000.0, 10000.0]\n",
    "ridge_scores = []"
   ]
  },
  {
   "cell_type": "code",
   "execution_count": 119,
   "id": "2114b36c-9f37-4db8-868d-fce6d42ce423",
   "metadata": {
    "tags": []
   },
   "outputs": [
    {
     "name": "stdout",
     "output_type": "stream",
     "text": [
      "[0.9007950417352133, 0.9008265412494425, 0.9011340522724214, 0.903606549391742, 0.9110806812577107, 0.9200764112812143]\n"
     ]
    },
    {
     "name": "stderr",
     "output_type": "stream",
     "text": [
      "C:\\Users\\LISX135\\AppData\\Local\\anaconda3\\Lib\\site-packages\\sklearn\\linear_model\\_ridge.py:211: LinAlgWarning: Ill-conditioned matrix (rcond=4.19145e-25): result may not be accurate.\n",
      "  return linalg.solve(A, Xy, assume_a=\"pos\", overwrite_a=True).T\n",
      "C:\\Users\\LISX135\\AppData\\Local\\anaconda3\\Lib\\site-packages\\sklearn\\linear_model\\_ridge.py:211: LinAlgWarning: Ill-conditioned matrix (rcond=4.1989e-25): result may not be accurate.\n",
      "  return linalg.solve(A, Xy, assume_a=\"pos\", overwrite_a=True).T\n",
      "C:\\Users\\LISX135\\AppData\\Local\\anaconda3\\Lib\\site-packages\\sklearn\\linear_model\\_ridge.py:211: LinAlgWarning: Ill-conditioned matrix (rcond=4.27336e-25): result may not be accurate.\n",
      "  return linalg.solve(A, Xy, assume_a=\"pos\", overwrite_a=True).T\n",
      "C:\\Users\\LISX135\\AppData\\Local\\anaconda3\\Lib\\site-packages\\sklearn\\linear_model\\_ridge.py:211: LinAlgWarning: Ill-conditioned matrix (rcond=5.01888e-25): result may not be accurate.\n",
      "  return linalg.solve(A, Xy, assume_a=\"pos\", overwrite_a=True).T\n",
      "C:\\Users\\LISX135\\AppData\\Local\\anaconda3\\Lib\\site-packages\\sklearn\\linear_model\\_ridge.py:211: LinAlgWarning: Ill-conditioned matrix (rcond=1.25497e-24): result may not be accurate.\n",
      "  return linalg.solve(A, Xy, assume_a=\"pos\", overwrite_a=True).T\n",
      "C:\\Users\\LISX135\\AppData\\Local\\anaconda3\\Lib\\site-packages\\sklearn\\linear_model\\_ridge.py:211: LinAlgWarning: Ill-conditioned matrix (rcond=9.06734e-24): result may not be accurate.\n",
      "  return linalg.solve(A, Xy, assume_a=\"pos\", overwrite_a=True).T\n"
     ]
    }
   ],
   "source": [
    "for alpha in alphas:\n",
    "    # Create a Ridge regression model\n",
    "  ridge = Ridge(alpha=alpha)\n",
    "  \n",
    "  # Fit the data\n",
    "  ridge.fit(X_train, y_train)\n",
    "  \n",
    "  # Obtain R-squared\n",
    "  score = ridge.score(X_test, y_test)\n",
    "  ridge_scores.append(score)\n",
    "print(ridge_scores)"
   ]
  },
  {
   "cell_type": "markdown",
   "id": "5c6f58fa-8173-4d32-9e18-ae2c5204d5c2",
   "metadata": {
    "tags": []
   },
   "source": [
    "### Lasso regression for feature selection\n",
    "\n",
    "Lasso can select important features of a dataset\n",
    "- Shrinks the coefficients of less important features to zero\n",
    "- Features not shrunk to zero are selected by lasso\n",
    "- Lasso regression for feature selection in scikit-learn\n"
   ]
  },
  {
   "cell_type": "code",
   "execution_count": 85,
   "id": "f5ec26a4-823b-46a4-acba-17d91c3f1435",
   "metadata": {
    "tags": []
   },
   "outputs": [],
   "source": [
    "from sklearn.linear_model import Lasso"
   ]
  },
  {
   "cell_type": "code",
   "execution_count": 86,
   "id": "568f4e5d-08b1-4070-a861-3a1b64947ccb",
   "metadata": {
    "tags": []
   },
   "outputs": [],
   "source": [
    "# Instantiate a lasso regression model\n",
    "lasso = Lasso(alpha=0.3)"
   ]
  },
  {
   "cell_type": "code",
   "execution_count": 87,
   "id": "53af2571-f737-49d8-b5e0-11524bc78802",
   "metadata": {
    "tags": []
   },
   "outputs": [
    {
     "data": {
      "text/html": [
       "<style>#sk-container-id-4 {color: black;}#sk-container-id-4 pre{padding: 0;}#sk-container-id-4 div.sk-toggleable {background-color: white;}#sk-container-id-4 label.sk-toggleable__label {cursor: pointer;display: block;width: 100%;margin-bottom: 0;padding: 0.3em;box-sizing: border-box;text-align: center;}#sk-container-id-4 label.sk-toggleable__label-arrow:before {content: \"▸\";float: left;margin-right: 0.25em;color: #696969;}#sk-container-id-4 label.sk-toggleable__label-arrow:hover:before {color: black;}#sk-container-id-4 div.sk-estimator:hover label.sk-toggleable__label-arrow:before {color: black;}#sk-container-id-4 div.sk-toggleable__content {max-height: 0;max-width: 0;overflow: hidden;text-align: left;background-color: #f0f8ff;}#sk-container-id-4 div.sk-toggleable__content pre {margin: 0.2em;color: black;border-radius: 0.25em;background-color: #f0f8ff;}#sk-container-id-4 input.sk-toggleable__control:checked~div.sk-toggleable__content {max-height: 200px;max-width: 100%;overflow: auto;}#sk-container-id-4 input.sk-toggleable__control:checked~label.sk-toggleable__label-arrow:before {content: \"▾\";}#sk-container-id-4 div.sk-estimator input.sk-toggleable__control:checked~label.sk-toggleable__label {background-color: #d4ebff;}#sk-container-id-4 div.sk-label input.sk-toggleable__control:checked~label.sk-toggleable__label {background-color: #d4ebff;}#sk-container-id-4 input.sk-hidden--visually {border: 0;clip: rect(1px 1px 1px 1px);clip: rect(1px, 1px, 1px, 1px);height: 1px;margin: -1px;overflow: hidden;padding: 0;position: absolute;width: 1px;}#sk-container-id-4 div.sk-estimator {font-family: monospace;background-color: #f0f8ff;border: 1px dotted black;border-radius: 0.25em;box-sizing: border-box;margin-bottom: 0.5em;}#sk-container-id-4 div.sk-estimator:hover {background-color: #d4ebff;}#sk-container-id-4 div.sk-parallel-item::after {content: \"\";width: 100%;border-bottom: 1px solid gray;flex-grow: 1;}#sk-container-id-4 div.sk-label:hover label.sk-toggleable__label {background-color: #d4ebff;}#sk-container-id-4 div.sk-serial::before {content: \"\";position: absolute;border-left: 1px solid gray;box-sizing: border-box;top: 0;bottom: 0;left: 50%;z-index: 0;}#sk-container-id-4 div.sk-serial {display: flex;flex-direction: column;align-items: center;background-color: white;padding-right: 0.2em;padding-left: 0.2em;position: relative;}#sk-container-id-4 div.sk-item {position: relative;z-index: 1;}#sk-container-id-4 div.sk-parallel {display: flex;align-items: stretch;justify-content: center;background-color: white;position: relative;}#sk-container-id-4 div.sk-item::before, #sk-container-id-4 div.sk-parallel-item::before {content: \"\";position: absolute;border-left: 1px solid gray;box-sizing: border-box;top: 0;bottom: 0;left: 50%;z-index: -1;}#sk-container-id-4 div.sk-parallel-item {display: flex;flex-direction: column;z-index: 1;position: relative;background-color: white;}#sk-container-id-4 div.sk-parallel-item:first-child::after {align-self: flex-end;width: 50%;}#sk-container-id-4 div.sk-parallel-item:last-child::after {align-self: flex-start;width: 50%;}#sk-container-id-4 div.sk-parallel-item:only-child::after {width: 0;}#sk-container-id-4 div.sk-dashed-wrapped {border: 1px dashed gray;margin: 0 0.4em 0.5em 0.4em;box-sizing: border-box;padding-bottom: 0.4em;background-color: white;}#sk-container-id-4 div.sk-label label {font-family: monospace;font-weight: bold;display: inline-block;line-height: 1.2em;}#sk-container-id-4 div.sk-label-container {text-align: center;}#sk-container-id-4 div.sk-container {/* jupyter's `normalize.less` sets `[hidden] { display: none; }` but bootstrap.min.css set `[hidden] { display: none !important; }` so we also need the `!important` here to be able to override the default hidden behavior on the sphinx rendered scikit-learn.org. See: https://github.com/scikit-learn/scikit-learn/issues/21755 */display: inline-block !important;position: relative;}#sk-container-id-4 div.sk-text-repr-fallback {display: none;}</style><div id=\"sk-container-id-4\" class=\"sk-top-container\"><div class=\"sk-text-repr-fallback\"><pre>Lasso(alpha=0.3)</pre><b>In a Jupyter environment, please rerun this cell to show the HTML representation or trust the notebook. <br />On GitHub, the HTML representation is unable to render, please try loading this page with nbviewer.org.</b></div><div class=\"sk-container\" hidden><div class=\"sk-item\"><div class=\"sk-estimator sk-toggleable\"><input class=\"sk-toggleable__control sk-hidden--visually\" id=\"sk-estimator-id-4\" type=\"checkbox\" checked><label for=\"sk-estimator-id-4\" class=\"sk-toggleable__label sk-toggleable__label-arrow\">Lasso</label><div class=\"sk-toggleable__content\"><pre>Lasso(alpha=0.3)</pre></div></div></div></div></div>"
      ],
      "text/plain": [
       "Lasso(alpha=0.3)"
      ]
     },
     "execution_count": 87,
     "metadata": {},
     "output_type": "execute_result"
    }
   ],
   "source": [
    "# Fit the model to the data\n",
    "lasso.fit(X, y)"
   ]
  },
  {
   "cell_type": "code",
   "execution_count": 88,
   "id": "9394f19b-ab9b-4f35-be88-4fd2c5809b35",
   "metadata": {
    "tags": []
   },
   "outputs": [],
   "source": [
    "# Compute and print the coefficients\n",
    "lasso_coef = lasso.fit(X, y).coef_"
   ]
  },
  {
   "cell_type": "code",
   "execution_count": 89,
   "id": "a7c07062-b654-475b-82ce-96c4cb91081a",
   "metadata": {
    "tags": []
   },
   "outputs": [
    {
     "name": "stdout",
     "output_type": "stream",
     "text": [
      "[-2.21366061e-05 -1.06177724e-01  8.79349298e-14 -6.02065482e-03\n",
      " -1.50089345e-13 -5.37063799e-10  2.41045205e-02]\n"
     ]
    }
   ],
   "source": [
    "print(lasso_coef)"
   ]
  },
  {
   "cell_type": "markdown",
   "id": "718aff95-352b-4873-932f-a930e5019b7a",
   "metadata": {},
   "source": [
    "#### Useful for which factors are useful for physical phenomena"
   ]
  },
  {
   "cell_type": "code",
   "execution_count": 92,
   "id": "2023d5f9-4ee4-4b12-b713-81ac44636e69",
   "metadata": {
    "tags": []
   },
   "outputs": [],
   "source": [
    "names = df.drop(' years', axis=1).columns"
   ]
  },
  {
   "cell_type": "code",
   "execution_count": 95,
   "id": "ec737bc8-4850-43b7-9546-a7b6084e2666",
   "metadata": {
    "tags": []
   },
   "outputs": [
    {
     "data": {
      "image/png": "[encoded data removed]",
      "text/plain": [
       "<Figure size 640x480 with 1 Axes>"
      ]
     },
     "metadata": {},
     "output_type": "display_data"
    }
   ],
   "source": [
    "plt.bar(names, lasso_coef)\n",
    "plt.xticks(rotation=45)\n",
    "plt.show()"
   ]
  },
  {
   "cell_type": "markdown",
   "id": "90674afe-a69f-40f1-8a1f-eec88f9a0bc4",
   "metadata": {
    "tags": []
   },
   "source": [
    "- note that % means % of unemployment"
   ]
  },
  {
   "cell_type": "markdown",
   "id": "b2af5c51-95ca-4bae-a497-1e672c83bbdb",
   "metadata": {
    "tags": []
   },
   "source": [
    "### From here, we can see that ranking and % unemployment are inversely related to life expectancy at birth, meanwhile, education expenditures in measure using % of GDP is directly porprotional to the life expectancy at birth."
   ]
  }
 ],
 "metadata": {
  "kernelspec": {
   "display_name": "Python 3 (ipykernel)",
   "language": "python",
   "name": "python3"
  },
  "language_info": {
   "codemirror_mode": {
    "name": "ipython",
    "version": 3
   },
   "file_extension": ".py",
   "mimetype": "text/x-python",
   "name": "python",
   "nbconvert_exporter": "python",
   "pygments_lexer": "ipython3",
   "version": "3.9.13"
  }
 },
 "nbformat": 4,
 "nbformat_minor": 5
}
