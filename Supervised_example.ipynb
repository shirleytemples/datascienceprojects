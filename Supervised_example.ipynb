{
 "cells": [
  {
   "cell_type": "code",
<<<<<<< HEAD
   "execution_count": 26,
   "id": "7bc5e21a-e40d-4919-987c-070179b6d56d",
   "metadata": {},
   "outputs": [],
   "source": [
    "import pandas as pd\n",
    "import numpy as np"
=======
   "execution_count": 1,
   "id": "7bc5e21a-e40d-4919-987c-070179b6d56d",
   "metadata": {
    "tags": []
   },
   "outputs": [],
   "source": [
    "import pandas as pd\n",
    "import numpy as np\n",
    "from functools import reduce"
>>>>>>> ea9910d4e4537792dab95d27d06afd5174eec7b8
   ]
  },
  {
   "cell_type": "code",
   "execution_count": 2,
   "id": "001967bc-aa02-40fa-ac5c-a8eea130e39c",
<<<<<<< HEAD
   "metadata": {},
=======
   "metadata": {
    "tags": []
   },
>>>>>>> ea9910d4e4537792dab95d27d06afd5174eec7b8
   "outputs": [],
   "source": [
    "import matplotlib.pyplot as plt"
   ]
  },
  {
   "cell_type": "code",
<<<<<<< HEAD
   "execution_count": 30,
   "id": "ba562254-6ef9-4e64-93a3-f2773953cba4",
   "metadata": {},
   "outputs": [],
   "source": [
    "gdp = pd.read_csv('Real_GDP_per_capita.csv',thousands=',')"
=======
   "execution_count": 3,
   "id": "ba562254-6ef9-4e64-93a3-f2773953cba4",
   "metadata": {
    "tags": []
   },
   "outputs": [],
   "source": [
    "the = pd.read_csv('Real_GDP_per_capita.csv',thousands=',')"
>>>>>>> ea9910d4e4537792dab95d27d06afd5174eec7b8
   ]
  },
  {
   "cell_type": "code",
<<<<<<< HEAD
   "execution_count": 47,
   "id": "7d544010-099b-4c4e-892e-4e583083f7fd",
   "metadata": {},
   "outputs": [],
   "source": [
    "gdp['value'] = gdp['value'].replace('[\\$,]', '', regex=True).astype(float)"
=======
   "execution_count": 4,
   "id": "7d544010-099b-4c4e-892e-4e583083f7fd",
   "metadata": {
    "tags": []
   },
   "outputs": [],
   "source": [
    "the['value'] = the['value'].replace('[\\$,]', '', regex=True).astype(float)"
>>>>>>> ea9910d4e4537792dab95d27d06afd5174eec7b8
   ]
  },
  {
   "cell_type": "code",
<<<<<<< HEAD
   "execution_count": 48,
   "id": "41218bd2-e82b-4471-9516-b9867588bd0b",
   "metadata": {},
=======
   "execution_count": 5,
   "id": "a6d6363b-667e-493a-8de0-b68e2feafe36",
   "metadata": {
    "tags": []
   },
   "outputs": [],
   "source": [
    "gdp = the.drop(columns=[\"slug\",\"date_of_information\",\"region\",\"ranking\"])"
   ]
  },
  {
   "cell_type": "code",
   "execution_count": 71,
   "id": "36dda61a-d334-4c24-b7e1-b0a22dbf01f6",
   "metadata": {
    "tags": []
   },
   "outputs": [],
   "source": [
    "gdp.rename(columns={'value': 'gdp'}, inplace=True)"
   ]
  },
  {
   "cell_type": "code",
   "execution_count": 72,
   "id": "41218bd2-e82b-4471-9516-b9867588bd0b",
   "metadata": {
    "tags": []
   },
>>>>>>> ea9910d4e4537792dab95d27d06afd5174eec7b8
   "outputs": [
    {
     "data": {
      "text/html": [
       "<div>\n",
       "<style scoped>\n",
       "    .dataframe tbody tr th:only-of-type {\n",
       "        vertical-align: middle;\n",
       "    }\n",
       "\n",
       "    .dataframe tbody tr th {\n",
       "        vertical-align: top;\n",
       "    }\n",
       "\n",
       "    .dataframe thead th {\n",
       "        text-align: right;\n",
       "    }\n",
       "</style>\n",
       "<table border=\"1\" class=\"dataframe\">\n",
       "  <thead>\n",
       "    <tr style=\"text-align: right;\">\n",
       "      <th></th>\n",
       "      <th>name</th>\n",
<<<<<<< HEAD
       "      <th>slug</th>\n",
       "      <th>value</th>\n",
       "      <th>date_of_information</th>\n",
       "      <th>ranking</th>\n",
       "      <th>region</th>\n",
=======
       "      <th>gdp</th>\n",
>>>>>>> ea9910d4e4537792dab95d27d06afd5174eec7b8
       "    </tr>\n",
       "  </thead>\n",
       "  <tbody>\n",
       "    <tr>\n",
       "      <th>0</th>\n",
       "      <td>Liechtenstein</td>\n",
<<<<<<< HEAD
       "      <td>liechtenstein</td>\n",
       "      <td>139100.0</td>\n",
       "      <td>2009</td>\n",
       "      <td>1</td>\n",
       "      <td>Europe</td>\n",
=======
       "      <td>139100.0</td>\n",
>>>>>>> ea9910d4e4537792dab95d27d06afd5174eec7b8
       "    </tr>\n",
       "    <tr>\n",
       "      <th>1</th>\n",
       "      <td>Monaco</td>\n",
<<<<<<< HEAD
       "      <td>monaco</td>\n",
       "      <td>115700.0</td>\n",
       "      <td>2015</td>\n",
       "      <td>2</td>\n",
       "      <td>Europe</td>\n",
=======
       "      <td>115700.0</td>\n",
>>>>>>> ea9910d4e4537792dab95d27d06afd5174eec7b8
       "    </tr>\n",
       "    <tr>\n",
       "      <th>2</th>\n",
       "      <td>Luxembourg</td>\n",
<<<<<<< HEAD
       "      <td>luxembourg</td>\n",
       "      <td>115700.0</td>\n",
       "      <td>2021</td>\n",
       "      <td>3</td>\n",
       "      <td>Europe</td>\n",
=======
       "      <td>115700.0</td>\n",
>>>>>>> ea9910d4e4537792dab95d27d06afd5174eec7b8
       "    </tr>\n",
       "    <tr>\n",
       "      <th>3</th>\n",
       "      <td>Singapore</td>\n",
<<<<<<< HEAD
       "      <td>singapore</td>\n",
       "      <td>106000.0</td>\n",
       "      <td>2021</td>\n",
       "      <td>4</td>\n",
       "      <td>East and Southeast Asia</td>\n",
=======
       "      <td>106000.0</td>\n",
>>>>>>> ea9910d4e4537792dab95d27d06afd5174eec7b8
       "    </tr>\n",
       "    <tr>\n",
       "      <th>4</th>\n",
       "      <td>Ireland</td>\n",
<<<<<<< HEAD
       "      <td>ireland</td>\n",
       "      <td>102500.0</td>\n",
       "      <td>2021</td>\n",
       "      <td>5</td>\n",
       "      <td>Europe</td>\n",
=======
       "      <td>102500.0</td>\n",
       "    </tr>\n",
       "    <tr>\n",
       "      <th>5</th>\n",
       "      <td>Qatar</td>\n",
       "      <td>92900.0</td>\n",
       "    </tr>\n",
       "    <tr>\n",
       "      <th>6</th>\n",
       "      <td>Isle of Man</td>\n",
       "      <td>84600.0</td>\n",
       "    </tr>\n",
       "    <tr>\n",
       "      <th>7</th>\n",
       "      <td>Bermuda</td>\n",
       "      <td>80300.0</td>\n",
       "    </tr>\n",
       "    <tr>\n",
       "      <th>8</th>\n",
       "      <td>Switzerland</td>\n",
       "      <td>71000.0</td>\n",
       "    </tr>\n",
       "    <tr>\n",
       "      <th>9</th>\n",
       "      <td>Falkland Islands (Islas Malvinas)</td>\n",
       "      <td>70800.0</td>\n",
       "    </tr>\n",
       "    <tr>\n",
       "      <th>10</th>\n",
       "      <td>United Arab Emirates</td>\n",
       "      <td>69700.0</td>\n",
       "    </tr>\n",
       "    <tr>\n",
       "      <th>11</th>\n",
       "      <td>Cayman Islands</td>\n",
       "      <td>67500.0</td>\n",
       "    </tr>\n",
       "    <tr>\n",
       "      <th>12</th>\n",
       "      <td>Norway</td>\n",
       "      <td>67500.0</td>\n",
       "    </tr>\n",
       "    <tr>\n",
       "      <th>13</th>\n",
       "      <td>Macau</td>\n",
       "      <td>64800.0</td>\n",
       "    </tr>\n",
       "    <tr>\n",
       "      <th>14</th>\n",
       "      <td>United States</td>\n",
       "      <td>63700.0</td>\n",
>>>>>>> ea9910d4e4537792dab95d27d06afd5174eec7b8
       "    </tr>\n",
       "  </tbody>\n",
       "</table>\n",
       "</div>"
      ],
      "text/plain": [
<<<<<<< HEAD
       "            name           slug     value date_of_information  ranking  \\\n",
       "0  Liechtenstein  liechtenstein  139100.0                2009        1   \n",
       "1         Monaco         monaco  115700.0                2015        2   \n",
       "2     Luxembourg     luxembourg  115700.0                2021        3   \n",
       "3      Singapore      singapore  106000.0                2021        4   \n",
       "4        Ireland        ireland  102500.0                2021        5   \n",
       "\n",
       "                    region  \n",
       "0                   Europe  \n",
       "1                   Europe  \n",
       "2                   Europe  \n",
       "3  East and Southeast Asia  \n",
       "4                   Europe  "
      ]
     },
     "execution_count": 48,
=======
       "                                 name       gdp\n",
       "0                       Liechtenstein  139100.0\n",
       "1                              Monaco  115700.0\n",
       "2                          Luxembourg  115700.0\n",
       "3                           Singapore  106000.0\n",
       "4                             Ireland  102500.0\n",
       "5                               Qatar   92900.0\n",
       "6                         Isle of Man   84600.0\n",
       "7                             Bermuda   80300.0\n",
       "8                         Switzerland   71000.0\n",
       "9   Falkland Islands (Islas Malvinas)   70800.0\n",
       "10               United Arab Emirates   69700.0\n",
       "11                     Cayman Islands   67500.0\n",
       "12                             Norway   67500.0\n",
       "13                              Macau   64800.0\n",
       "14                      United States   63700.0"
      ]
     },
     "execution_count": 72,
>>>>>>> ea9910d4e4537792dab95d27d06afd5174eec7b8
     "metadata": {},
     "output_type": "execute_result"
    }
   ],
   "source": [
<<<<<<< HEAD
    "gdp.head()"
=======
    "gdp.head(15)"
>>>>>>> ea9910d4e4537792dab95d27d06afd5174eec7b8
   ]
  },
  {
   "cell_type": "code",
<<<<<<< HEAD
   "execution_count": 49,
   "id": "3a15738b-7a0b-4a6e-9bc7-c883637821d7",
   "metadata": {},
=======
   "execution_count": 73,
   "id": "3a15738b-7a0b-4a6e-9bc7-c883637821d7",
   "metadata": {
    "tags": []
   },
>>>>>>> ea9910d4e4537792dab95d27d06afd5174eec7b8
   "outputs": [],
   "source": [
    "life = pd.read_csv('Life_expectancy_at_birth.csv')"
   ]
  },
  {
   "cell_type": "code",
<<<<<<< HEAD
   "execution_count": 50,
   "id": "0802496d-e88b-413e-9a02-994299c387de",
   "metadata": {},
=======
   "execution_count": 74,
   "id": "0802496d-e88b-413e-9a02-994299c387de",
   "metadata": {
    "tags": []
   },
>>>>>>> ea9910d4e4537792dab95d27d06afd5174eec7b8
   "outputs": [
    {
     "data": {
      "text/html": [
       "<div>\n",
       "<style scoped>\n",
       "    .dataframe tbody tr th:only-of-type {\n",
       "        vertical-align: middle;\n",
       "    }\n",
       "\n",
       "    .dataframe tbody tr th {\n",
       "        vertical-align: top;\n",
       "    }\n",
       "\n",
       "    .dataframe thead th {\n",
       "        text-align: right;\n",
       "    }\n",
       "</style>\n",
       "<table border=\"1\" class=\"dataframe\">\n",
       "  <thead>\n",
       "    <tr style=\"text-align: right;\">\n",
       "      <th></th>\n",
       "      <th>name</th>\n",
       "      <th>slug</th>\n",
       "      <th>years</th>\n",
       "      <th>date_of_information</th>\n",
       "      <th>ranking</th>\n",
       "      <th>region</th>\n",
       "    </tr>\n",
       "  </thead>\n",
       "  <tbody>\n",
       "    <tr>\n",
       "      <th>0</th>\n",
       "      <td>Monaco</td>\n",
       "      <td>monaco</td>\n",
       "      <td>89.6</td>\n",
       "      <td>2023</td>\n",
       "      <td>1</td>\n",
       "      <td>Europe</td>\n",
       "    </tr>\n",
       "    <tr>\n",
       "      <th>1</th>\n",
       "      <td>Singapore</td>\n",
       "      <td>singapore</td>\n",
       "      <td>86.5</td>\n",
       "      <td>2023</td>\n",
       "      <td>2</td>\n",
       "      <td>East and Southeast Asia</td>\n",
       "    </tr>\n",
       "    <tr>\n",
       "      <th>2</th>\n",
       "      <td>Macau</td>\n",
       "      <td>macau</td>\n",
       "      <td>85.2</td>\n",
       "      <td>2023</td>\n",
       "      <td>3</td>\n",
       "      <td>East and Southeast Asia</td>\n",
       "    </tr>\n",
       "    <tr>\n",
       "      <th>3</th>\n",
       "      <td>Japan</td>\n",
       "      <td>japan</td>\n",
       "      <td>85.0</td>\n",
       "      <td>2023</td>\n",
       "      <td>4</td>\n",
       "      <td>East and Southeast Asia</td>\n",
       "    </tr>\n",
       "    <tr>\n",
       "      <th>4</th>\n",
       "      <td>San Marino</td>\n",
       "      <td>san-marino</td>\n",
       "      <td>84.1</td>\n",
       "      <td>2023</td>\n",
       "      <td>5</td>\n",
       "      <td>Europe</td>\n",
       "    </tr>\n",
       "  </tbody>\n",
       "</table>\n",
       "</div>"
      ],
      "text/plain": [
       "         name        slug   years  date_of_information  ranking  \\\n",
       "0      Monaco      monaco    89.6                 2023        1   \n",
       "1   Singapore   singapore    86.5                 2023        2   \n",
       "2       Macau       macau    85.2                 2023        3   \n",
       "3       Japan       japan    85.0                 2023        4   \n",
       "4  San Marino  san-marino    84.1                 2023        5   \n",
       "\n",
       "                    region  \n",
       "0                   Europe  \n",
       "1  East and Southeast Asia  \n",
       "2  East and Southeast Asia  \n",
       "3  East and Southeast Asia  \n",
       "4                   Europe  "
      ]
     },
<<<<<<< HEAD
     "execution_count": 50,
=======
     "execution_count": 74,
>>>>>>> ea9910d4e4537792dab95d27d06afd5174eec7b8
     "metadata": {},
     "output_type": "execute_result"
    }
   ],
   "source": [
    "life.head()"
   ]
  },
  {
   "cell_type": "code",
<<<<<<< HEAD
   "execution_count": 51,
   "id": "0a898aec-dda6-4f0b-9900-c0e30d1ec936",
   "metadata": {},
   "outputs": [],
   "source": [
    "merge_df = pd.merge(gdp,life,on='name',how='inner')"
=======
   "execution_count": 75,
   "id": "5368825e-42f6-47de-bb4b-888f0a24be94",
   "metadata": {
    "tags": []
   },
   "outputs": [],
   "source": [
    "real_gdp = pd.read_csv(\"Real_GDP.csv\")\n",
    "real_gdp['value'] = real_gdp['value'].replace('[\\$,]', '', regex=True).astype(float)\n",
    "total_gdp = real_gdp.drop(columns=[\"slug\",\"date_of_information\",\"region\",\"ranking\"])\n",
    "total_gdp.rename(columns={'value': 'total_gdp'}, inplace=True)"
>>>>>>> ea9910d4e4537792dab95d27d06afd5174eec7b8
   ]
  },
  {
   "cell_type": "code",
<<<<<<< HEAD
   "execution_count": 52,
   "id": "585d07ec-84c4-48c5-931f-e41c48d29b1b",
   "metadata": {},
=======
   "execution_count": 76,
   "id": "62c86cde-1a93-41a8-a9fe-8dbe3bec7382",
   "metadata": {
    "tags": []
   },
>>>>>>> ea9910d4e4537792dab95d27d06afd5174eec7b8
   "outputs": [
    {
     "data": {
      "text/html": [
       "<div>\n",
       "<style scoped>\n",
       "    .dataframe tbody tr th:only-of-type {\n",
       "        vertical-align: middle;\n",
       "    }\n",
       "\n",
       "    .dataframe tbody tr th {\n",
       "        vertical-align: top;\n",
       "    }\n",
       "\n",
       "    .dataframe thead th {\n",
       "        text-align: right;\n",
       "    }\n",
       "</style>\n",
       "<table border=\"1\" class=\"dataframe\">\n",
       "  <thead>\n",
       "    <tr style=\"text-align: right;\">\n",
       "      <th></th>\n",
       "      <th>name</th>\n",
<<<<<<< HEAD
       "      <th>slug_x</th>\n",
       "      <th>value</th>\n",
       "      <th>date_of_information_x</th>\n",
       "      <th>ranking_x</th>\n",
       "      <th>region_x</th>\n",
       "      <th>slug_y</th>\n",
       "      <th>years</th>\n",
       "      <th>date_of_information_y</th>\n",
       "      <th>ranking_y</th>\n",
       "      <th>region_y</th>\n",
=======
       "      <th>total_gdp</th>\n",
>>>>>>> ea9910d4e4537792dab95d27d06afd5174eec7b8
       "    </tr>\n",
       "  </thead>\n",
       "  <tbody>\n",
       "    <tr>\n",
       "      <th>0</th>\n",
<<<<<<< HEAD
       "      <td>Liechtenstein</td>\n",
       "      <td>liechtenstein</td>\n",
       "      <td>139100.0</td>\n",
       "      <td>2009</td>\n",
       "      <td>1</td>\n",
       "      <td>Europe</td>\n",
       "      <td>liechtenstein</td>\n",
       "      <td>82.8</td>\n",
       "      <td>2023</td>\n",
       "      <td>21</td>\n",
       "      <td>Europe</td>\n",
       "    </tr>\n",
       "    <tr>\n",
       "      <th>1</th>\n",
       "      <td>Monaco</td>\n",
       "      <td>monaco</td>\n",
       "      <td>115700.0</td>\n",
       "      <td>2015</td>\n",
       "      <td>2</td>\n",
       "      <td>Europe</td>\n",
       "      <td>monaco</td>\n",
       "      <td>89.6</td>\n",
       "      <td>2023</td>\n",
       "      <td>1</td>\n",
       "      <td>Europe</td>\n",
       "    </tr>\n",
       "    <tr>\n",
       "      <th>2</th>\n",
       "      <td>Luxembourg</td>\n",
       "      <td>luxembourg</td>\n",
       "      <td>115700.0</td>\n",
       "      <td>2021</td>\n",
       "      <td>3</td>\n",
       "      <td>Europe</td>\n",
       "      <td>luxembourg</td>\n",
       "      <td>83.2</td>\n",
       "      <td>2023</td>\n",
       "      <td>14</td>\n",
       "      <td>Europe</td>\n",
       "    </tr>\n",
       "    <tr>\n",
       "      <th>3</th>\n",
       "      <td>Singapore</td>\n",
       "      <td>singapore</td>\n",
       "      <td>106000.0</td>\n",
       "      <td>2021</td>\n",
       "      <td>4</td>\n",
       "      <td>East and Southeast Asia</td>\n",
       "      <td>singapore</td>\n",
       "      <td>86.5</td>\n",
       "      <td>2023</td>\n",
       "      <td>2</td>\n",
       "      <td>East and Southeast Asia</td>\n",
       "    </tr>\n",
       "    <tr>\n",
       "      <th>4</th>\n",
       "      <td>Ireland</td>\n",
       "      <td>ireland</td>\n",
       "      <td>102500.0</td>\n",
       "      <td>2021</td>\n",
       "      <td>5</td>\n",
       "      <td>Europe</td>\n",
       "      <td>ireland</td>\n",
       "      <td>82.2</td>\n",
       "      <td>2023</td>\n",
       "      <td>29</td>\n",
       "      <td>Europe</td>\n",
=======
       "      <td>China</td>\n",
       "      <td>2.486100e+13</td>\n",
       "    </tr>\n",
       "    <tr>\n",
       "      <th>1</th>\n",
       "      <td>United States</td>\n",
       "      <td>2.113200e+13</td>\n",
       "    </tr>\n",
       "    <tr>\n",
       "      <th>2</th>\n",
       "      <td>India</td>\n",
       "      <td>9.279000e+12</td>\n",
       "    </tr>\n",
       "    <tr>\n",
       "      <th>3</th>\n",
       "      <td>Japan</td>\n",
       "      <td>5.126000e+12</td>\n",
       "    </tr>\n",
       "    <tr>\n",
       "      <th>4</th>\n",
       "      <td>Germany</td>\n",
       "      <td>4.523000e+12</td>\n",
>>>>>>> ea9910d4e4537792dab95d27d06afd5174eec7b8
       "    </tr>\n",
       "  </tbody>\n",
       "</table>\n",
       "</div>"
      ],
      "text/plain": [
<<<<<<< HEAD
       "            name         slug_x     value date_of_information_x  ranking_x  \\\n",
       "0  Liechtenstein  liechtenstein  139100.0                  2009          1   \n",
       "1         Monaco         monaco  115700.0                  2015          2   \n",
       "2     Luxembourg     luxembourg  115700.0                  2021          3   \n",
       "3      Singapore      singapore  106000.0                  2021          4   \n",
       "4        Ireland        ireland  102500.0                  2021          5   \n",
       "\n",
       "                  region_x         slug_y   years  date_of_information_y  \\\n",
       "0                   Europe  liechtenstein    82.8                   2023   \n",
       "1                   Europe         monaco    89.6                   2023   \n",
       "2                   Europe     luxembourg    83.2                   2023   \n",
       "3  East and Southeast Asia      singapore    86.5                   2023   \n",
       "4                   Europe        ireland    82.2                   2023   \n",
       "\n",
       "   ranking_y                 region_y  \n",
       "0         21                   Europe  \n",
       "1          1                   Europe  \n",
       "2         14                   Europe  \n",
       "3          2  East and Southeast Asia  \n",
       "4         29                   Europe  "
      ]
     },
     "execution_count": 52,
=======
       "            name     total_gdp\n",
       "0          China  2.486100e+13\n",
       "1  United States  2.113200e+13\n",
       "2          India  9.279000e+12\n",
       "3          Japan  5.126000e+12\n",
       "4        Germany  4.523000e+12"
      ]
     },
     "execution_count": 76,
>>>>>>> ea9910d4e4537792dab95d27d06afd5174eec7b8
     "metadata": {},
     "output_type": "execute_result"
    }
   ],
   "source": [
<<<<<<< HEAD
    "merge_df.head()"
=======
    "total_gdp.head()"
>>>>>>> ea9910d4e4537792dab95d27d06afd5174eec7b8
   ]
  },
  {
   "cell_type": "code",
<<<<<<< HEAD
   "execution_count": 53,
   "id": "bb5a0e7f-61e5-4edd-b50e-185c7c30390e",
   "metadata": {},
=======
   "execution_count": 77,
   "id": "a867c610-832b-42e2-84af-95ade1918c51",
   "metadata": {
    "tags": []
   },
   "outputs": [],
   "source": [
    "unemployment = pd.read_csv(\"Unemployment_rate.csv\")"
   ]
  },
  {
   "cell_type": "code",
   "execution_count": 78,
   "id": "d1a2e463-815e-4c20-bf7b-dfaa2afc948d",
   "metadata": {
    "tags": []
   },
   "outputs": [],
   "source": [
    "un = unemployment.drop(columns=[\"slug\",\"date_of_information\",\"region\",\"ranking\"])"
   ]
  },
  {
   "cell_type": "code",
   "execution_count": 79,
   "id": "654f3b35-1ac3-4fd5-910a-4d75983bea9a",
   "metadata": {
    "tags": []
   },
   "outputs": [
    {
     "data": {
      "text/html": [
       "<div>\n",
       "<style scoped>\n",
       "    .dataframe tbody tr th:only-of-type {\n",
       "        vertical-align: middle;\n",
       "    }\n",
       "\n",
       "    .dataframe tbody tr th {\n",
       "        vertical-align: top;\n",
       "    }\n",
       "\n",
       "    .dataframe thead th {\n",
       "        text-align: right;\n",
       "    }\n",
       "</style>\n",
       "<table border=\"1\" class=\"dataframe\">\n",
       "  <thead>\n",
       "    <tr style=\"text-align: right;\">\n",
       "      <th></th>\n",
       "      <th>name</th>\n",
       "      <th>%</th>\n",
       "    </tr>\n",
       "  </thead>\n",
       "  <tbody>\n",
       "    <tr>\n",
       "      <th>0</th>\n",
       "      <td>Cocos (Keeling) Islands</td>\n",
       "      <td>0.10</td>\n",
       "    </tr>\n",
       "    <tr>\n",
       "      <th>1</th>\n",
       "      <td>Qatar</td>\n",
       "      <td>0.26</td>\n",
       "    </tr>\n",
       "    <tr>\n",
       "      <th>2</th>\n",
       "      <td>Cambodia</td>\n",
       "      <td>0.61</td>\n",
       "    </tr>\n",
       "    <tr>\n",
       "      <th>3</th>\n",
       "      <td>Niger</td>\n",
       "      <td>0.75</td>\n",
       "    </tr>\n",
       "    <tr>\n",
       "      <th>4</th>\n",
       "      <td>Falkland Islands (Islas Malvinas)</td>\n",
       "      <td>1.00</td>\n",
       "    </tr>\n",
       "  </tbody>\n",
       "</table>\n",
       "</div>"
      ],
      "text/plain": [
       "                                name     %\n",
       "0            Cocos (Keeling) Islands  0.10\n",
       "1                              Qatar  0.26\n",
       "2                           Cambodia  0.61\n",
       "3                              Niger  0.75\n",
       "4  Falkland Islands (Islas Malvinas)  1.00"
      ]
     },
     "execution_count": 79,
     "metadata": {},
     "output_type": "execute_result"
    }
   ],
   "source": [
    "un.head()"
   ]
  },
  {
   "cell_type": "code",
   "execution_count": 80,
   "id": "65f5427f-8eca-4dc6-8915-454fd02929f2",
   "metadata": {
    "tags": []
   },
   "outputs": [],
   "source": [
    "debt_external = pd.read_csv(\"debt_external.csv\")\n",
    "debt_external['value'] = debt_external['value'].replace('[\\$,]', '', regex=True).astype(float)\n",
    "debt = debt_external.drop(columns=[\"slug\",\"date_of_information\",\"region\",\"ranking\"])\n",
    "debt.rename(columns={'value': 'debt'}, inplace=True)"
   ]
  },
  {
   "cell_type": "code",
   "execution_count": 81,
   "id": "2b8ae6d6-e4e3-4caf-8715-347820271133",
   "metadata": {
    "tags": []
   },
   "outputs": [
    {
     "data": {
      "text/html": [
       "<div>\n",
       "<style scoped>\n",
       "    .dataframe tbody tr th:only-of-type {\n",
       "        vertical-align: middle;\n",
       "    }\n",
       "\n",
       "    .dataframe tbody tr th {\n",
       "        vertical-align: top;\n",
       "    }\n",
       "\n",
       "    .dataframe thead th {\n",
       "        text-align: right;\n",
       "    }\n",
       "</style>\n",
       "<table border=\"1\" class=\"dataframe\">\n",
       "  <thead>\n",
       "    <tr style=\"text-align: right;\">\n",
       "      <th></th>\n",
       "      <th>name</th>\n",
       "      <th>debt</th>\n",
       "    </tr>\n",
       "  </thead>\n",
       "  <tbody>\n",
       "    <tr>\n",
       "      <th>0</th>\n",
       "      <td>United States</td>\n",
       "      <td>2.027595e+13</td>\n",
       "    </tr>\n",
       "    <tr>\n",
       "      <th>1</th>\n",
       "      <td>United Kingdom</td>\n",
       "      <td>8.722000e+12</td>\n",
       "    </tr>\n",
       "    <tr>\n",
       "      <th>2</th>\n",
       "      <td>France</td>\n",
       "      <td>6.356000e+12</td>\n",
       "    </tr>\n",
       "    <tr>\n",
       "      <th>3</th>\n",
       "      <td>Germany</td>\n",
       "      <td>5.671463e+12</td>\n",
       "    </tr>\n",
       "    <tr>\n",
       "      <th>4</th>\n",
       "      <td>Netherlands</td>\n",
       "      <td>4.345413e+12</td>\n",
       "    </tr>\n",
       "  </tbody>\n",
       "</table>\n",
       "</div>"
      ],
      "text/plain": [
       "             name          debt\n",
       "0   United States  2.027595e+13\n",
       "1  United Kingdom  8.722000e+12\n",
       "2          France  6.356000e+12\n",
       "3         Germany  5.671463e+12\n",
       "4     Netherlands  4.345413e+12"
      ]
     },
     "execution_count": 81,
     "metadata": {},
     "output_type": "execute_result"
    }
   ],
   "source": [
    "debt.head()"
   ]
  },
  {
   "cell_type": "code",
   "execution_count": 82,
   "id": "4db57f9e-6ea4-482b-8fb6-cb4c40ab4ade",
   "metadata": {
    "tags": []
   },
   "outputs": [],
   "source": [
    "people = pd.read_csv(\"population.csv\")\n",
    "population = people.drop(columns=[\"slug\",\"date_of_information\",\"region\",\"ranking\"])\n",
    "population.rename(columns={'value': 'population'}, inplace=True)"
   ]
  },
  {
   "cell_type": "code",
   "execution_count": 83,
   "id": "5dcf047b-e354-4a46-879d-19b445158e2d",
   "metadata": {
    "tags": []
   },
   "outputs": [
    {
     "data": {
      "text/html": [
       "<div>\n",
       "<style scoped>\n",
       "    .dataframe tbody tr th:only-of-type {\n",
       "        vertical-align: middle;\n",
       "    }\n",
       "\n",
       "    .dataframe tbody tr th {\n",
       "        vertical-align: top;\n",
       "    }\n",
       "\n",
       "    .dataframe thead th {\n",
       "        text-align: right;\n",
       "    }\n",
       "</style>\n",
       "<table border=\"1\" class=\"dataframe\">\n",
       "  <thead>\n",
       "    <tr style=\"text-align: right;\">\n",
       "      <th></th>\n",
       "      <th>name</th>\n",
       "      <th>population</th>\n",
       "    </tr>\n",
       "  </thead>\n",
       "  <tbody>\n",
       "    <tr>\n",
       "      <th>0</th>\n",
       "      <td>China</td>\n",
       "      <td>1,413,142,846</td>\n",
       "    </tr>\n",
       "    <tr>\n",
       "      <th>1</th>\n",
       "      <td>India</td>\n",
       "      <td>1,399,179,585</td>\n",
       "    </tr>\n",
       "    <tr>\n",
       "      <th>2</th>\n",
       "      <td>United States</td>\n",
       "      <td>339,665,118</td>\n",
       "    </tr>\n",
       "    <tr>\n",
       "      <th>3</th>\n",
       "      <td>Indonesia</td>\n",
       "      <td>279,476,346</td>\n",
       "    </tr>\n",
       "    <tr>\n",
       "      <th>4</th>\n",
       "      <td>Pakistan</td>\n",
       "      <td>247,653,551</td>\n",
       "    </tr>\n",
       "  </tbody>\n",
       "</table>\n",
       "</div>"
      ],
      "text/plain": [
       "            name     population\n",
       "0          China  1,413,142,846\n",
       "1          India  1,399,179,585\n",
       "2  United States    339,665,118\n",
       "3      Indonesia    279,476,346\n",
       "4       Pakistan    247,653,551"
      ]
     },
     "execution_count": 83,
     "metadata": {},
     "output_type": "execute_result"
    }
   ],
   "source": [
    "population.head()"
   ]
  },
  {
   "cell_type": "code",
   "execution_count": 88,
   "id": "e2246560-c83a-402a-93ba-0f96b7737ac6",
   "metadata": {
    "tags": []
   },
   "outputs": [
    {
     "data": {
      "text/html": [
       "<div>\n",
       "<style scoped>\n",
       "    .dataframe tbody tr th:only-of-type {\n",
       "        vertical-align: middle;\n",
       "    }\n",
       "\n",
       "    .dataframe tbody tr th {\n",
       "        vertical-align: top;\n",
       "    }\n",
       "\n",
       "    .dataframe thead th {\n",
       "        text-align: right;\n",
       "    }\n",
       "</style>\n",
       "<table border=\"1\" class=\"dataframe\">\n",
       "  <thead>\n",
       "    <tr style=\"text-align: right;\">\n",
       "      <th></th>\n",
       "      <th>name</th>\n",
       "      <th>slug</th>\n",
       "      <th>% of GDP</th>\n",
       "      <th>date_of_information</th>\n",
       "      <th>ranking</th>\n",
       "      <th>region</th>\n",
       "    </tr>\n",
       "  </thead>\n",
       "  <tbody>\n",
       "    <tr>\n",
       "      <th>0</th>\n",
       "      <td>Marshall Islands</td>\n",
       "      <td>marshall-islands</td>\n",
       "      <td>13.6</td>\n",
       "      <td>2020</td>\n",
       "      <td>1</td>\n",
       "      <td>Australia and Oceania</td>\n",
       "    </tr>\n",
       "    <tr>\n",
       "      <th>1</th>\n",
       "      <td>Solomon Islands</td>\n",
       "      <td>solomon-islands</td>\n",
       "      <td>12.8</td>\n",
       "      <td>2020</td>\n",
       "      <td>2</td>\n",
       "      <td>Australia and Oceania</td>\n",
       "    </tr>\n",
       "    <tr>\n",
       "      <th>2</th>\n",
       "      <td>Kiribati</td>\n",
       "      <td>kiribati</td>\n",
       "      <td>12.4</td>\n",
       "      <td>2019</td>\n",
       "      <td>3</td>\n",
       "      <td>Australia and Oceania</td>\n",
       "    </tr>\n",
       "    <tr>\n",
       "      <th>3</th>\n",
       "      <td>Greenland</td>\n",
       "      <td>greenland</td>\n",
       "      <td>10.2</td>\n",
       "      <td>2019</td>\n",
       "      <td>4</td>\n",
       "      <td>North America</td>\n",
       "    </tr>\n",
       "    <tr>\n",
       "      <th>4</th>\n",
       "      <td>Bolivia</td>\n",
       "      <td>bolivia</td>\n",
       "      <td>9.8</td>\n",
       "      <td>2020</td>\n",
       "      <td>5</td>\n",
       "      <td>South America</td>\n",
       "    </tr>\n",
       "  </tbody>\n",
       "</table>\n",
       "</div>"
      ],
      "text/plain": [
       "               name              slug  % of GDP  date_of_information  ranking  \\\n",
       "0  Marshall Islands  marshall-islands      13.6                 2020        1   \n",
       "1   Solomon Islands   solomon-islands      12.8                 2020        2   \n",
       "2          Kiribati          kiribati      12.4                 2019        3   \n",
       "3         Greenland         greenland      10.2                 2019        4   \n",
       "4           Bolivia           bolivia       9.8                 2020        5   \n",
       "\n",
       "                  region  \n",
       "0  Australia and Oceania  \n",
       "1  Australia and Oceania  \n",
       "2  Australia and Oceania  \n",
       "3          North America  \n",
       "4          South America  "
      ]
     },
     "execution_count": 88,
     "metadata": {},
     "output_type": "execute_result"
    }
   ],
   "source": [
    "education_expenditures = pd.read_csv(\"education_expenditures.csv\")\n",
    "education_expenditures.head()"
   ]
  },
  {
   "cell_type": "code",
   "execution_count": 89,
   "id": "eb920193-02ab-4b0f-8a8d-6e67b0509c72",
   "metadata": {
    "tags": []
   },
   "outputs": [],
   "source": [
    "education_expenditures = pd.read_csv(\"education_expenditures.csv\")\n",
    "edu_exp = education_expenditures.drop(columns=[\"slug\",\"date_of_information\",\"region\",\"ranking\"])\n",
    "edu_exp.rename(columns={'% of GDP': 'education_expenditures % of GDP'}, inplace=True)"
   ]
  },
  {
   "cell_type": "code",
   "execution_count": 90,
   "id": "5adae7eb-1dde-4a2b-8678-a9a8257d2986",
   "metadata": {
    "tags": []
   },
   "outputs": [
    {
     "data": {
      "text/html": [
       "<div>\n",
       "<style scoped>\n",
       "    .dataframe tbody tr th:only-of-type {\n",
       "        vertical-align: middle;\n",
       "    }\n",
       "\n",
       "    .dataframe tbody tr th {\n",
       "        vertical-align: top;\n",
       "    }\n",
       "\n",
       "    .dataframe thead th {\n",
       "        text-align: right;\n",
       "    }\n",
       "</style>\n",
       "<table border=\"1\" class=\"dataframe\">\n",
       "  <thead>\n",
       "    <tr style=\"text-align: right;\">\n",
       "      <th></th>\n",
       "      <th>name</th>\n",
       "      <th>education_expenditures % of GDP</th>\n",
       "    </tr>\n",
       "  </thead>\n",
       "  <tbody>\n",
       "    <tr>\n",
       "      <th>0</th>\n",
       "      <td>Marshall Islands</td>\n",
       "      <td>13.6</td>\n",
       "    </tr>\n",
       "    <tr>\n",
       "      <th>1</th>\n",
       "      <td>Solomon Islands</td>\n",
       "      <td>12.8</td>\n",
       "    </tr>\n",
       "    <tr>\n",
       "      <th>2</th>\n",
       "      <td>Kiribati</td>\n",
       "      <td>12.4</td>\n",
       "    </tr>\n",
       "    <tr>\n",
       "      <th>3</th>\n",
       "      <td>Greenland</td>\n",
       "      <td>10.2</td>\n",
       "    </tr>\n",
       "    <tr>\n",
       "      <th>4</th>\n",
       "      <td>Bolivia</td>\n",
       "      <td>9.8</td>\n",
       "    </tr>\n",
       "  </tbody>\n",
       "</table>\n",
       "</div>"
      ],
      "text/plain": [
       "               name  education_expenditures % of GDP\n",
       "0  Marshall Islands                             13.6\n",
       "1   Solomon Islands                             12.8\n",
       "2          Kiribati                             12.4\n",
       "3         Greenland                             10.2\n",
       "4           Bolivia                              9.8"
      ]
     },
     "execution_count": 90,
     "metadata": {},
     "output_type": "execute_result"
    }
   ],
   "source": [
    "edu_exp.head()"
   ]
  },
  {
   "cell_type": "code",
   "execution_count": 94,
   "id": "2e0495fe-334a-4a28-8fdd-0fae7c7ee731",
   "metadata": {
    "tags": []
   },
   "outputs": [],
   "source": [
    "dfs = [gdp,life,total_gdp,un,debt,population,edu_exp]"
   ]
  },
  {
   "cell_type": "code",
   "execution_count": 95,
   "id": "0a898aec-dda6-4f0b-9900-c0e30d1ec936",
   "metadata": {
    "tags": []
   },
   "outputs": [],
   "source": [
    "merge_df = reduce(lambda left, right:pd.merge(left,right, on='name',how='inner'),dfs)"
   ]
  },
  {
   "cell_type": "code",
   "execution_count": 96,
   "id": "585d07ec-84c4-48c5-931f-e41c48d29b1b",
   "metadata": {
    "tags": []
   },
   "outputs": [
    {
     "data": {
      "text/html": [
       "<div>\n",
       "<style scoped>\n",
       "    .dataframe tbody tr th:only-of-type {\n",
       "        vertical-align: middle;\n",
       "    }\n",
       "\n",
       "    .dataframe tbody tr th {\n",
       "        vertical-align: top;\n",
       "    }\n",
       "\n",
       "    .dataframe thead th {\n",
       "        text-align: right;\n",
       "    }\n",
       "</style>\n",
       "<table border=\"1\" class=\"dataframe\">\n",
       "  <thead>\n",
       "    <tr style=\"text-align: right;\">\n",
       "      <th></th>\n",
       "      <th>name</th>\n",
       "      <th>gdp</th>\n",
       "      <th>slug</th>\n",
       "      <th>years</th>\n",
       "      <th>date_of_information</th>\n",
       "      <th>ranking</th>\n",
       "      <th>region</th>\n",
       "      <th>total_gdp</th>\n",
       "      <th>%</th>\n",
       "      <th>debt</th>\n",
       "      <th>population</th>\n",
       "      <th>education_expenditures % of GDP</th>\n",
       "    </tr>\n",
       "  </thead>\n",
       "  <tbody>\n",
       "    <tr>\n",
       "      <th>0</th>\n",
       "      <td>Liechtenstein</td>\n",
       "      <td>139100.0</td>\n",
       "      <td>liechtenstein</td>\n",
       "      <td>82.8</td>\n",
       "      <td>2023</td>\n",
       "      <td>21</td>\n",
       "      <td>Europe</td>\n",
       "      <td>4.978000e+09</td>\n",
       "      <td>2.40</td>\n",
       "      <td>0.000000e+00</td>\n",
       "      <td>39,993</td>\n",
       "      <td>2.6</td>\n",
       "    </tr>\n",
       "    <tr>\n",
       "      <th>1</th>\n",
       "      <td>Luxembourg</td>\n",
       "      <td>115700.0</td>\n",
       "      <td>luxembourg</td>\n",
       "      <td>83.2</td>\n",
       "      <td>2023</td>\n",
       "      <td>14</td>\n",
       "      <td>Europe</td>\n",
       "      <td>7.404500e+10</td>\n",
       "      <td>5.23</td>\n",
       "      <td>4.266792e+12</td>\n",
       "      <td>660,924</td>\n",
       "      <td>5.0</td>\n",
       "    </tr>\n",
       "    <tr>\n",
       "      <th>2</th>\n",
       "      <td>Singapore</td>\n",
       "      <td>106000.0</td>\n",
       "      <td>singapore</td>\n",
       "      <td>86.5</td>\n",
       "      <td>2023</td>\n",
       "      <td>2</td>\n",
       "      <td>East and Southeast Asia</td>\n",
       "      <td>5.782540e+11</td>\n",
       "      <td>3.62</td>\n",
       "      <td>1.557646e+12</td>\n",
       "      <td>5,975,383</td>\n",
       "      <td>2.8</td>\n",
       "    </tr>\n",
       "    <tr>\n",
       "      <th>3</th>\n",
       "      <td>Ireland</td>\n",
       "      <td>102500.0</td>\n",
       "      <td>ireland</td>\n",
       "      <td>82.2</td>\n",
       "      <td>2023</td>\n",
       "      <td>29</td>\n",
       "      <td>Europe</td>\n",
       "      <td>5.158800e+11</td>\n",
       "      <td>6.63</td>\n",
       "      <td>2.829000e+12</td>\n",
       "      <td>5,323,991</td>\n",
       "      <td>3.1</td>\n",
       "    </tr>\n",
       "    <tr>\n",
       "      <th>4</th>\n",
       "      <td>Qatar</td>\n",
       "      <td>92900.0</td>\n",
       "      <td>qatar</td>\n",
       "      <td>80.0</td>\n",
       "      <td>2023</td>\n",
       "      <td>54</td>\n",
       "      <td>Middle East</td>\n",
       "      <td>2.496360e+11</td>\n",
       "      <td>0.26</td>\n",
       "      <td>1.678000e+11</td>\n",
       "      <td>2,532,104</td>\n",
       "      <td>3.2</td>\n",
       "    </tr>\n",
       "    <tr>\n",
       "      <th>5</th>\n",
       "      <td>Bermuda</td>\n",
       "      <td>80300.0</td>\n",
       "      <td>bermuda</td>\n",
       "      <td>82.3</td>\n",
       "      <td>2023</td>\n",
       "      <td>28</td>\n",
       "      <td>North America</td>\n",
       "      <td>5.127000e+09</td>\n",
       "      <td>7.00</td>\n",
       "      <td>2.515000e+09</td>\n",
       "      <td>72,576</td>\n",
       "      <td>1.9</td>\n",
       "    </tr>\n",
       "    <tr>\n",
       "      <th>6</th>\n",
       "      <td>Switzerland</td>\n",
       "      <td>71000.0</td>\n",
       "      <td>switzerland</td>\n",
       "      <td>83.8</td>\n",
       "      <td>2023</td>\n",
       "      <td>7</td>\n",
       "      <td>Europe</td>\n",
       "      <td>6.182280e+11</td>\n",
       "      <td>5.32</td>\n",
       "      <td>1.909000e+12</td>\n",
       "      <td>8,563,760</td>\n",
       "      <td>5.2</td>\n",
       "    </tr>\n",
       "    <tr>\n",
       "      <th>7</th>\n",
       "      <td>United Arab Emirates</td>\n",
       "      <td>69700.0</td>\n",
       "      <td>united-arab-emirates</td>\n",
       "      <td>79.8</td>\n",
       "      <td>2023</td>\n",
       "      <td>58</td>\n",
       "      <td>Middle East</td>\n",
       "      <td>6.530670e+11</td>\n",
       "      <td>3.36</td>\n",
       "      <td>2.376000e+11</td>\n",
       "      <td>9,973,449</td>\n",
       "      <td>3.9</td>\n",
       "    </tr>\n",
       "    <tr>\n",
       "      <th>8</th>\n",
       "      <td>Norway</td>\n",
       "      <td>67500.0</td>\n",
       "      <td>norway</td>\n",
       "      <td>83.0</td>\n",
       "      <td>2023</td>\n",
       "      <td>16</td>\n",
       "      <td>Europe</td>\n",
       "      <td>3.681510e+11</td>\n",
       "      <td>4.99</td>\n",
       "      <td>6.510400e+11</td>\n",
       "      <td>5,597,924</td>\n",
       "      <td>5.9</td>\n",
       "    </tr>\n",
       "    <tr>\n",
       "      <th>9</th>\n",
       "      <td>Macau</td>\n",
       "      <td>64800.0</td>\n",
       "      <td>macau</td>\n",
       "      <td>85.2</td>\n",
       "      <td>2023</td>\n",
       "      <td>3</td>\n",
       "      <td>East and Southeast Asia</td>\n",
       "      <td>4.449000e+10</td>\n",
       "      <td>3.01</td>\n",
       "      <td>0.000000e+00</td>\n",
       "      <td>639,971</td>\n",
       "      <td>6.3</td>\n",
       "    </tr>\n",
       "    <tr>\n",
       "      <th>10</th>\n",
       "      <td>United States</td>\n",
       "      <td>63700.0</td>\n",
       "      <td>united-states</td>\n",
       "      <td>80.8</td>\n",
       "      <td>2023</td>\n",
       "      <td>48</td>\n",
       "      <td>North America</td>\n",
       "      <td>2.113200e+13</td>\n",
       "      <td>5.46</td>\n",
       "      <td>2.027595e+13</td>\n",
       "      <td>339,665,118</td>\n",
       "      <td>6.1</td>\n",
       "    </tr>\n",
       "    <tr>\n",
       "      <th>11</th>\n",
       "      <td>Brunei</td>\n",
       "      <td>60100.0</td>\n",
       "      <td>brunei</td>\n",
       "      <td>78.6</td>\n",
       "      <td>2023</td>\n",
       "      <td>71</td>\n",
       "      <td>East and Southeast Asia</td>\n",
       "      <td>2.677900e+10</td>\n",
       "      <td>7.65</td>\n",
       "      <td>0.000000e+00</td>\n",
       "      <td>484,991</td>\n",
       "      <td>4.4</td>\n",
       "    </tr>\n",
       "    <tr>\n",
       "      <th>12</th>\n",
       "      <td>Hong Kong</td>\n",
       "      <td>60000.0</td>\n",
       "      <td>hong-kong</td>\n",
       "      <td>83.8</td>\n",
       "      <td>2023</td>\n",
       "      <td>8</td>\n",
       "      <td>East and Southeast Asia</td>\n",
       "      <td>4.446240e+11</td>\n",
       "      <td>5.32</td>\n",
       "      <td>1.648409e+12</td>\n",
       "      <td>7,288,167</td>\n",
       "      <td>4.0</td>\n",
       "    </tr>\n",
       "    <tr>\n",
       "      <th>13</th>\n",
       "      <td>Denmark</td>\n",
       "      <td>59900.0</td>\n",
       "      <td>denmark</td>\n",
       "      <td>81.9</td>\n",
       "      <td>2023</td>\n",
       "      <td>36</td>\n",
       "      <td>Europe</td>\n",
       "      <td>3.537990e+11</td>\n",
       "      <td>4.80</td>\n",
       "      <td>5.048080e+11</td>\n",
       "      <td>5,946,984</td>\n",
       "      <td>6.4</td>\n",
       "    </tr>\n",
       "    <tr>\n",
       "      <th>14</th>\n",
       "      <td>Netherlands</td>\n",
       "      <td>56600.0</td>\n",
       "      <td>netherlands</td>\n",
       "      <td>81.7</td>\n",
       "      <td>2023</td>\n",
       "      <td>39</td>\n",
       "      <td>Europe</td>\n",
       "      <td>9.926750e+11</td>\n",
       "      <td>4.01</td>\n",
       "      <td>4.345413e+12</td>\n",
       "      <td>17,463,930</td>\n",
       "      <td>5.3</td>\n",
       "    </tr>\n",
       "  </tbody>\n",
       "</table>\n",
       "</div>"
      ],
      "text/plain": [
       "                    name       gdp                  slug   years  \\\n",
       "0          Liechtenstein  139100.0         liechtenstein    82.8   \n",
       "1             Luxembourg  115700.0            luxembourg    83.2   \n",
       "2              Singapore  106000.0             singapore    86.5   \n",
       "3                Ireland  102500.0               ireland    82.2   \n",
       "4                  Qatar   92900.0                 qatar    80.0   \n",
       "5                Bermuda   80300.0               bermuda    82.3   \n",
       "6            Switzerland   71000.0           switzerland    83.8   \n",
       "7   United Arab Emirates   69700.0  united-arab-emirates    79.8   \n",
       "8                 Norway   67500.0                norway    83.0   \n",
       "9                  Macau   64800.0                 macau    85.2   \n",
       "10         United States   63700.0         united-states    80.8   \n",
       "11                Brunei   60100.0                brunei    78.6   \n",
       "12             Hong Kong   60000.0             hong-kong    83.8   \n",
       "13               Denmark   59900.0               denmark    81.9   \n",
       "14           Netherlands   56600.0           netherlands    81.7   \n",
       "\n",
       "    date_of_information  ranking                   region     total_gdp     %  \\\n",
       "0                  2023       21                   Europe  4.978000e+09  2.40   \n",
       "1                  2023       14                   Europe  7.404500e+10  5.23   \n",
       "2                  2023        2  East and Southeast Asia  5.782540e+11  3.62   \n",
       "3                  2023       29                   Europe  5.158800e+11  6.63   \n",
       "4                  2023       54              Middle East  2.496360e+11  0.26   \n",
       "5                  2023       28            North America  5.127000e+09  7.00   \n",
       "6                  2023        7                   Europe  6.182280e+11  5.32   \n",
       "7                  2023       58              Middle East  6.530670e+11  3.36   \n",
       "8                  2023       16                   Europe  3.681510e+11  4.99   \n",
       "9                  2023        3  East and Southeast Asia  4.449000e+10  3.01   \n",
       "10                 2023       48            North America  2.113200e+13  5.46   \n",
       "11                 2023       71  East and Southeast Asia  2.677900e+10  7.65   \n",
       "12                 2023        8  East and Southeast Asia  4.446240e+11  5.32   \n",
       "13                 2023       36                   Europe  3.537990e+11  4.80   \n",
       "14                 2023       39                   Europe  9.926750e+11  4.01   \n",
       "\n",
       "            debt   population  education_expenditures % of GDP  \n",
       "0   0.000000e+00       39,993                              2.6  \n",
       "1   4.266792e+12      660,924                              5.0  \n",
       "2   1.557646e+12    5,975,383                              2.8  \n",
       "3   2.829000e+12    5,323,991                              3.1  \n",
       "4   1.678000e+11    2,532,104                              3.2  \n",
       "5   2.515000e+09       72,576                              1.9  \n",
       "6   1.909000e+12    8,563,760                              5.2  \n",
       "7   2.376000e+11    9,973,449                              3.9  \n",
       "8   6.510400e+11    5,597,924                              5.9  \n",
       "9   0.000000e+00      639,971                              6.3  \n",
       "10  2.027595e+13  339,665,118                              6.1  \n",
       "11  0.000000e+00      484,991                              4.4  \n",
       "12  1.648409e+12    7,288,167                              4.0  \n",
       "13  5.048080e+11    5,946,984                              6.4  \n",
       "14  4.345413e+12   17,463,930                              5.3  "
      ]
     },
     "execution_count": 96,
     "metadata": {},
     "output_type": "execute_result"
    }
   ],
   "source": [
    "merge_df.head(15)"
   ]
  },
  {
   "cell_type": "code",
   "execution_count": 97,
   "id": "bb5a0e7f-61e5-4edd-b50e-185c7c30390e",
   "metadata": {
    "tags": []
   },
>>>>>>> ea9910d4e4537792dab95d27d06afd5174eec7b8
   "outputs": [
    {
     "name": "stdout",
     "output_type": "stream",
     "text": [
<<<<<<< HEAD
      "Index(['name', 'slug_x', 'value', 'date_of_information_x', 'ranking_x',\n",
      "       'region_x', 'slug_y', ' years', 'date_of_information_y', 'ranking_y',\n",
      "       'region_y'],\n",
=======
      "Index(['name', 'gdp', 'slug', ' years', 'date_of_information', 'ranking',\n",
      "       'region', 'total_gdp', '%', 'debt', 'population',\n",
      "       'education_expenditures % of GDP'],\n",
>>>>>>> ea9910d4e4537792dab95d27d06afd5174eec7b8
      "      dtype='object')\n"
     ]
    }
   ],
   "source": [
    "print(merge_df.columns)"
   ]
  },
  {
   "cell_type": "code",
<<<<<<< HEAD
   "execution_count": 54,
   "id": "77d32d84-1c6a-4cfe-b04b-b2ad32293dde",
   "metadata": {},
   "outputs": [],
   "source": [
    "independent = merge_df['value']"
=======
   "execution_count": 99,
   "id": "77d32d84-1c6a-4cfe-b04b-b2ad32293dde",
   "metadata": {
    "tags": []
   },
   "outputs": [],
   "source": [
    "independent = merge_df['gdp']"
>>>>>>> ea9910d4e4537792dab95d27d06afd5174eec7b8
   ]
  },
  {
   "cell_type": "code",
<<<<<<< HEAD
   "execution_count": 55,
   "id": "90eaf14b-ca46-4fce-bf20-20cfd10c06d0",
   "metadata": {},
=======
   "execution_count": 100,
   "id": "90eaf14b-ca46-4fce-bf20-20cfd10c06d0",
   "metadata": {
    "tags": []
   },
>>>>>>> ea9910d4e4537792dab95d27d06afd5174eec7b8
   "outputs": [],
   "source": [
    "dependent = merge_df[' years']"
   ]
  },
  {
   "cell_type": "code",
<<<<<<< HEAD
   "execution_count": 56,
   "id": "876f83ed-83ac-4e6c-8fe7-873796984f16",
   "metadata": {},
=======
   "execution_count": 101,
   "id": "876f83ed-83ac-4e6c-8fe7-873796984f16",
   "metadata": {
    "tags": []
   },
>>>>>>> ea9910d4e4537792dab95d27d06afd5174eec7b8
   "outputs": [],
   "source": [
    "X = independent.values.reshape(-1,1)"
   ]
  },
  {
   "cell_type": "code",
<<<<<<< HEAD
   "execution_count": 57,
   "id": "0a2b7efd-c00a-4cb6-8046-261b4757928c",
   "metadata": {},
=======
   "execution_count": 102,
   "id": "0a2b7efd-c00a-4cb6-8046-261b4757928c",
   "metadata": {
    "tags": []
   },
>>>>>>> ea9910d4e4537792dab95d27d06afd5174eec7b8
   "outputs": [],
   "source": [
    "y = dependent.values.reshape(-1,1)"
   ]
  },
  {
   "cell_type": "code",
<<<<<<< HEAD
   "execution_count": 41,
=======
   "execution_count": 103,
>>>>>>> ea9910d4e4537792dab95d27d06afd5174eec7b8
   "id": "2442436a-1c7f-40be-970a-73374494d7e6",
   "metadata": {},
   "outputs": [],
   "source": [
    "#data1 = data[data['class'] =='Abnormal']"
   ]
  },
  {
   "cell_type": "code",
<<<<<<< HEAD
   "execution_count": 42,
=======
   "execution_count": 104,
>>>>>>> ea9910d4e4537792dab95d27d06afd5174eec7b8
   "id": "062472bd-830e-4788-afb7-f5c02a1246dd",
   "metadata": {},
   "outputs": [],
   "source": [
<<<<<<< HEAD
    "X = X.flatten() if isinstance(X, np.ndarray) else X\n",
    "y = y.flatten() if isinstance(y, np.ndarray) else y"
=======
    "#X = X.flatten() if isinstance(X, np.ndarray) else X\n",
    "#y = y.flatten() if isinstance(y, np.ndarray) else y"
>>>>>>> ea9910d4e4537792dab95d27d06afd5174eec7b8
   ]
  },
  {
   "cell_type": "code",
<<<<<<< HEAD
   "execution_count": 58,
   "id": "de33e4ed-274d-4d79-9a08-d073dae5b015",
   "metadata": {},
   "outputs": [
    {
     "data": {
      "text/plain": [
       "array([[139100.],\n",
       "       [115700.],\n",
       "       [115700.],\n",
       "       [106000.],\n",
       "       [102500.],\n",
       "       [ 92900.],\n",
       "       [ 84600.],\n",
       "       [ 80300.],\n",
       "       [ 71000.],\n",
       "       [ 69700.],\n",
       "       [ 67500.],\n",
       "       [ 67500.],\n",
       "       [ 64800.],\n",
       "       [ 63700.],\n",
       "       [ 61700.],\n",
       "       [ 60100.],\n",
       "       [ 60000.],\n",
       "       [ 59900.],\n",
       "       [ 56600.],\n",
       "       [ 56600.],\n",
       "       [ 56400.],\n",
       "       [ 55300.],\n",
       "       [ 54100.],\n",
       "       [ 54000.],\n",
       "       [ 53600.],\n",
       "       [ 52500.],\n",
       "       [ 51700.],\n",
       "       [ 49900.],\n",
       "       [ 49800.],\n",
       "       [ 49400.],\n",
       "       [ 49400.],\n",
       "       [ 47900.],\n",
       "       [ 47800.],\n",
       "       [ 46800.],\n",
       "       [ 46200.],\n",
       "       [ 45000.],\n",
       "       [ 44700.],\n",
       "       [ 44300.],\n",
       "       [ 44200.],\n",
       "       [ 43900.],\n",
       "       [ 42900.],\n",
       "       [ 42100.],\n",
       "       [ 41900.],\n",
       "       [ 41800.],\n",
       "       [ 41700.],\n",
       "       [ 40800.],\n",
       "       [ 40700.],\n",
       "       [ 40000.],\n",
       "       [ 40000.],\n",
       "       [ 39300.],\n",
       "       [ 38900.],\n",
       "       [ 38700.],\n",
       "       [ 37900.],\n",
       "       [ 37000.],\n",
       "       [ 35700.],\n",
       "       [ 35600.],\n",
       "       [ 35342.],\n",
       "       [ 34900.],\n",
       "       [ 34300.],\n",
       "       [ 34200.],\n",
       "       [ 34000.],\n",
       "       [ 33700.],\n",
       "       [ 33600.],\n",
       "       [ 33100.],\n",
       "       [ 32600.],\n",
       "       [ 32500.],\n",
       "       [ 32100.],\n",
       "       [ 31900.],\n",
       "       [ 31600.],\n",
       "       [ 30200.],\n",
       "       [ 29500.],\n",
       "       [ 29000.],\n",
       "       [ 28800.],\n",
       "       [ 27500.],\n",
       "       [ 27000.],\n",
       "       [ 26500.],\n",
       "       [ 26300.],\n",
       "       [ 26100.],\n",
       "       [ 25400.],\n",
       "       [ 24500.],\n",
       "       [ 23000.],\n",
       "       [ 22800.],\n",
       "       [ 22000.],\n",
       "       [ 21900.],\n",
       "       [ 21500.],\n",
       "       [ 21200.],\n",
       "       [ 21000.],\n",
       "       [ 20800.],\n",
       "       [ 20600.],\n",
       "       [ 19800.],\n",
       "       [ 19800.],\n",
       "       [ 19300.],\n",
       "       [ 19100.],\n",
       "       [ 19100.],\n",
       "       [ 18800.],\n",
       "       [ 18600.],\n",
       "       [ 18600.],\n",
       "       [ 18500.],\n",
       "       [ 17600.],\n",
       "       [ 17100.],\n",
       "       [ 17100.],\n",
       "       [ 16500.],\n",
       "       [ 15700.],\n",
       "       [ 15600.],\n",
       "       [ 15000.],\n",
       "       [ 15000.],\n",
       "       [ 14800.],\n",
       "       [ 14800.],\n",
       "       [ 14600.],\n",
       "       [ 14600.],\n",
       "       [ 14600.],\n",
       "       [ 14500.],\n",
       "       [ 14400.],\n",
       "       [ 14200.],\n",
       "       [ 13800.],\n",
       "       [ 13800.],\n",
       "       [ 13800.],\n",
       "       [ 13700.],\n",
       "       [ 13700.],\n",
       "       [ 13700.],\n",
       "       [ 13400.],\n",
       "       [ 13300.],\n",
       "       [ 13300.],\n",
       "       [ 13000.],\n",
       "       [ 13000.],\n",
       "       [ 12500.],\n",
       "       [ 12300.],\n",
       "       [ 12200.],\n",
       "       [ 11900.],\n",
       "       [ 11900.],\n",
       "       [ 11900.],\n",
       "       [ 11700.],\n",
       "       [ 11600.],\n",
       "       [ 11200.],\n",
       "       [ 11000.],\n",
       "       [ 10900.],\n",
       "       [ 10900.],\n",
       "       [ 10700.],\n",
       "       [ 10700.],\n",
       "       [ 10600.],\n",
       "       [ 10400.],\n",
       "       [ 10400.],\n",
       "       [  9600.],\n",
       "       [  9200.],\n",
       "       [  9100.],\n",
       "       [  9100.],\n",
       "       [  9000.],\n",
       "       [  8900.],\n",
       "       [  8900.],\n",
       "       [  8800.],\n",
       "       [  8100.],\n",
       "       [  8100.],\n",
       "       [  8100.],\n",
       "       [  7800.],\n",
       "       [  7800.],\n",
       "       [  7704.],\n",
       "       [  7700.],\n",
       "       [  6600.],\n",
       "       [  6100.],\n",
       "       [  6100.],\n",
       "       [  6000.],\n",
       "       [  5900.],\n",
       "       [  5900.],\n",
       "       [  5600.],\n",
       "       [  5600.],\n",
       "       [  5600.],\n",
       "       [  5600.],\n",
       "       [  5500.],\n",
       "       [  5400.],\n",
       "       [  5300.],\n",
       "       [  5300.],\n",
       "       [  5200.],\n",
       "       [  5000.],\n",
       "       [  4900.],\n",
       "       [  4900.],\n",
       "       [  4900.],\n",
       "       [  4800.],\n",
       "       [  4700.],\n",
       "       [  4400.],\n",
       "       [  4100.],\n",
       "       [  4000.],\n",
       "       [  3900.],\n",
       "       [  3800.],\n",
       "       [  3800.],\n",
       "       [  3700.],\n",
       "       [  3700.],\n",
       "       [  3700.],\n",
       "       [  3500.],\n",
       "       [  3300.],\n",
       "       [  3300.],\n",
       "       [  3200.],\n",
       "       [  3200.],\n",
       "       [  3200.],\n",
       "       [  2900.],\n",
       "       [  2900.],\n",
       "       [  2800.],\n",
       "       [  2600.],\n",
       "       [  2600.],\n",
       "       [  2500.],\n",
       "       [  2400.],\n",
       "       [  2300.],\n",
       "       [  2300.],\n",
       "       [  2200.],\n",
       "       [  2200.],\n",
       "       [  2200.],\n",
       "       [  2100.],\n",
       "       [  2100.],\n",
       "       [  2100.],\n",
       "       [  2100.],\n",
       "       [  1900.],\n",
       "       [  1800.],\n",
       "       [  1700.],\n",
       "       [  1600.],\n",
       "       [  1600.],\n",
       "       [  1600.],\n",
       "       [  1500.],\n",
       "       [  1500.],\n",
       "       [  1500.],\n",
       "       [  1400.],\n",
       "       [  1400.],\n",
       "       [  1200.],\n",
       "       [  1200.],\n",
       "       [  1100.],\n",
       "       [  1100.],\n",
       "       [   800.],\n",
       "       [   700.]])"
      ]
     },
     "execution_count": 58,
     "metadata": {},
     "output_type": "execute_result"
    }
   ],
   "source": [
    "X"
   ]
  },
  {
   "cell_type": "code",
   "execution_count": 59,
   "id": "ed70ea4c-c91d-4cb2-8fb8-06e6a2fd6c1c",
   "metadata": {},
   "outputs": [
    {
     "data": {
      "text/plain": [
       "array([[82.8],\n",
       "       [89.6],\n",
       "       [83.2],\n",
       "       [86.5],\n",
       "       [82.2],\n",
       "       [80. ],\n",
       "       [82.3],\n",
       "       [82.3],\n",
       "       [83.8],\n",
       "       [79.8],\n",
       "       [82.3],\n",
       "       [83. ],\n",
       "       [85.2],\n",
       "       [80.8],\n",
       "       [80.7],\n",
       "       [78.6],\n",
       "       [83.8],\n",
       "       [81.9],\n",
       "       [81.7],\n",
       "       [82.8],\n",
       "       [84.1],\n",
       "       [82.8],\n",
       "       [82.5],\n",
       "       [81.7],\n",
       "       [83.8],\n",
       "       [83.4],\n",
       "       [82.1],\n",
       "       [83.6],\n",
       "       [83.3],\n",
       "       [80.1],\n",
       "       [82. ],\n",
       "       [84. ],\n",
       "       [81.4],\n",
       "       [82.1],\n",
       "       [81.6],\n",
       "       [82.5],\n",
       "       [83.4],\n",
       "       [76.9],\n",
       "       [83.2],\n",
       "       [79.4],\n",
       "       [82.7],\n",
       "       [82.2],\n",
       "       [82.8],\n",
       "       [74.3],\n",
       "       [80. ],\n",
       "       [85. ],\n",
       "       [78.3],\n",
       "       [82. ],\n",
       "       [81.5],\n",
       "       [76. ],\n",
       "       [78.3],\n",
       "       [78.1],\n",
       "       [82.8],\n",
       "       [80.5],\n",
       "       [79.1],\n",
       "       [77.7],\n",
       "       [79.5],\n",
       "       [75.8],\n",
       "       [77.2],\n",
       "       [79.9],\n",
       "       [75.9],\n",
       "       [81.7],\n",
       "       [75.3],\n",
       "       [76.5],\n",
       "       [81.9],\n",
       "       [76.3],\n",
       "       [76.2],\n",
       "       [76.6],\n",
       "       [77.5],\n",
       "       [76.2],\n",
       "       [81.7],\n",
       "       [78.4],\n",
       "       [76.4],\n",
       "       [72. ],\n",
       "       [75.8],\n",
       "       [77.3],\n",
       "       [76.4],\n",
       "       [73. ],\n",
       "       [80. ],\n",
       "       [76.8],\n",
       "       [76.2],\n",
       "       [78.7],\n",
       "       [77.4],\n",
       "       [72.2],\n",
       "       [78.6],\n",
       "       [79.6],\n",
       "       [75.1],\n",
       "       [79.7],\n",
       "       [78. ],\n",
       "       [74.6],\n",
       "       [75.1],\n",
       "       [80.8],\n",
       "       [73.5],\n",
       "       [78. ],\n",
       "       [77.2],\n",
       "       [71.9],\n",
       "       [78.7],\n",
       "       [81. ],\n",
       "       [78.2],\n",
       "       [77.9],\n",
       "       [72.3],\n",
       "       [77.1],\n",
       "       [78.2],\n",
       "       [77.4],\n",
       "       [75.4],\n",
       "       [72.1],\n",
       "       [72.6],\n",
       "       [66. ],\n",
       "       [63.8],\n",
       "       [76.1],\n",
       "       [74.9],\n",
       "       [79.7],\n",
       "       [74.9],\n",
       "       [76.4],\n",
       "       [78.8],\n",
       "       [74.9],\n",
       "       [70. ],\n",
       "       [78.6],\n",
       "       [76. ],\n",
       "       [76.9],\n",
       "       [76.6],\n",
       "       [71. ],\n",
       "       [69.7],\n",
       "       [79.2],\n",
       "       [79. ],\n",
       "       [68.9],\n",
       "       [79.9],\n",
       "       [82.4],\n",
       "       [73.3],\n",
       "       [68.3],\n",
       "       [72.2],\n",
       "       [71.7],\n",
       "       [74.7],\n",
       "       [75.6],\n",
       "       [77.8],\n",
       "       [78.5],\n",
       "       [73. ],\n",
       "       [69.8],\n",
       "       [74.9],\n",
       "       [75.8],\n",
       "       [77.1],\n",
       "       [74.5],\n",
       "       [76. ],\n",
       "       [76.3],\n",
       "       [63.7],\n",
       "       [75.6],\n",
       "       [73.5],\n",
       "       [60.2],\n",
       "       [73.2],\n",
       "       [73.7],\n",
       "       [74. ],\n",
       "       [72.5],\n",
       "       [70.5],\n",
       "       [68.6],\n",
       "       [80.7],\n",
       "       [74.3],\n",
       "       [75.8],\n",
       "       [67.7],\n",
       "       [77.8],\n",
       "       [74. ],\n",
       "       [74.9],\n",
       "       [62.5],\n",
       "       [75. ],\n",
       "       [71.9],\n",
       "       [74.5],\n",
       "       [74.8],\n",
       "       [75.9],\n",
       "       [75.5],\n",
       "       [69.7],\n",
       "       [62.7],\n",
       "       [65.6],\n",
       "       [70. ],\n",
       "       [70.2],\n",
       "       [65.6],\n",
       "       [68.7],\n",
       "       [61.8],\n",
       "       [72.6],\n",
       "       [70. ],\n",
       "       [71. ],\n",
       "       [67.4],\n",
       "       [69.8],\n",
       "       [71.1],\n",
       "       [80.9],\n",
       "       [72.7],\n",
       "       [63.7],\n",
       "       [67.5],\n",
       "       [69.7],\n",
       "       [70.3],\n",
       "       [62.6],\n",
       "       [74.7],\n",
       "       [66.6],\n",
       "       [72.2],\n",
       "       [67.5],\n",
       "       [64.8],\n",
       "       [74.6],\n",
       "       [75.4],\n",
       "       [70.5],\n",
       "       [64.3],\n",
       "       [67.8],\n",
       "       [77. ],\n",
       "       [59.9],\n",
       "       [67.1],\n",
       "       [66.2],\n",
       "       [69.3],\n",
       "       [63.8],\n",
       "       [68. ],\n",
       "       [66.8],\n",
       "       [71.7],\n",
       "       [62.8],\n",
       "       [68.2],\n",
       "       [64.1],\n",
       "       [72.9],\n",
       "       [59.7],\n",
       "       [67.2],\n",
       "       [59.1],\n",
       "       [54.1],\n",
       "       [72.7],\n",
       "       [68.5],\n",
       "       [61.3],\n",
       "       [59.6],\n",
       "       [57.7],\n",
       "       [60.5],\n",
       "       [62.2],\n",
       "       [56.1],\n",
       "       [56. ],\n",
       "       [67.8]])"
      ]
     },
     "execution_count": 59,
     "metadata": {},
     "output_type": "execute_result"
    }
   ],
   "source": [
    "y"
   ]
  },
  {
   "cell_type": "code",
   "execution_count": 60,
   "id": "ef8b43f4-3f59-4a64-9451-ecc66a0c2cf6",
   "metadata": {},
   "outputs": [
    {
     "data": {
      "image/png": "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\n",
=======
   "execution_count": 105,
   "id": "ef8b43f4-3f59-4a64-9451-ecc66a0c2cf6",
   "metadata": {
    "tags": []
   },
   "outputs": [
    {
     "data": {
      "image/png": "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",
>>>>>>> ea9910d4e4537792dab95d27d06afd5174eec7b8
      "text/plain": [
       "<Figure size 500x500 with 1 Axes>"
      ]
     },
     "metadata": {},
     "output_type": "display_data"
    }
   ],
   "source": [
    "plt.figure(figsize=[5,5])\n",
    "plt.scatter(x=X,y=y)\n",
    "plt.xlabel('GDP per capita')\n",
    "plt.ylabel('life expectancy')\n",
    "plt.show()"
   ]
  },
  {
   "cell_type": "code",
<<<<<<< HEAD
   "execution_count": 23,
   "id": "645cad15-57db-4e9f-9227-1a5a8cec85a9",
   "metadata": {},
=======
   "execution_count": 106,
   "id": "645cad15-57db-4e9f-9227-1a5a8cec85a9",
   "metadata": {
    "tags": []
   },
>>>>>>> ea9910d4e4537792dab95d27d06afd5174eec7b8
   "outputs": [],
   "source": [
    "from sklearn.linear_model import LinearRegression"
   ]
  },
  {
   "cell_type": "code",
<<<<<<< HEAD
   "execution_count": 25,
   "id": "b78064ae-f188-4836-8710-32ff94217e10",
   "metadata": {},
=======
   "execution_count": 107,
   "id": "b78064ae-f188-4836-8710-32ff94217e10",
   "metadata": {
    "tags": []
   },
>>>>>>> ea9910d4e4537792dab95d27d06afd5174eec7b8
   "outputs": [],
   "source": [
    "reg = LinearRegression()"
   ]
  },
  {
   "cell_type": "code",
<<<<<<< HEAD
   "execution_count": null,
   "id": "b8bf8c11-1109-4750-afd7-60b9cdacebd4",
   "metadata": {},
   "outputs": [],
   "source": [
    "training data, testing data"
=======
   "execution_count": 108,
   "id": "b8bf8c11-1109-4750-afd7-60b9cdacebd4",
   "metadata": {
    "tags": []
   },
   "outputs": [
    {
     "data": {
      "text/html": [
       "<style>#sk-container-id-1 {color: black;}#sk-container-id-1 pre{padding: 0;}#sk-container-id-1 div.sk-toggleable {background-color: white;}#sk-container-id-1 label.sk-toggleable__label {cursor: pointer;display: block;width: 100%;margin-bottom: 0;padding: 0.3em;box-sizing: border-box;text-align: center;}#sk-container-id-1 label.sk-toggleable__label-arrow:before {content: \"▸\";float: left;margin-right: 0.25em;color: #696969;}#sk-container-id-1 label.sk-toggleable__label-arrow:hover:before {color: black;}#sk-container-id-1 div.sk-estimator:hover label.sk-toggleable__label-arrow:before {color: black;}#sk-container-id-1 div.sk-toggleable__content {max-height: 0;max-width: 0;overflow: hidden;text-align: left;background-color: #f0f8ff;}#sk-container-id-1 div.sk-toggleable__content pre {margin: 0.2em;color: black;border-radius: 0.25em;background-color: #f0f8ff;}#sk-container-id-1 input.sk-toggleable__control:checked~div.sk-toggleable__content {max-height: 200px;max-width: 100%;overflow: auto;}#sk-container-id-1 input.sk-toggleable__control:checked~label.sk-toggleable__label-arrow:before {content: \"▾\";}#sk-container-id-1 div.sk-estimator input.sk-toggleable__control:checked~label.sk-toggleable__label {background-color: #d4ebff;}#sk-container-id-1 div.sk-label input.sk-toggleable__control:checked~label.sk-toggleable__label {background-color: #d4ebff;}#sk-container-id-1 input.sk-hidden--visually {border: 0;clip: rect(1px 1px 1px 1px);clip: rect(1px, 1px, 1px, 1px);height: 1px;margin: -1px;overflow: hidden;padding: 0;position: absolute;width: 1px;}#sk-container-id-1 div.sk-estimator {font-family: monospace;background-color: #f0f8ff;border: 1px dotted black;border-radius: 0.25em;box-sizing: border-box;margin-bottom: 0.5em;}#sk-container-id-1 div.sk-estimator:hover {background-color: #d4ebff;}#sk-container-id-1 div.sk-parallel-item::after {content: \"\";width: 100%;border-bottom: 1px solid gray;flex-grow: 1;}#sk-container-id-1 div.sk-label:hover label.sk-toggleable__label {background-color: #d4ebff;}#sk-container-id-1 div.sk-serial::before {content: \"\";position: absolute;border-left: 1px solid gray;box-sizing: border-box;top: 0;bottom: 0;left: 50%;z-index: 0;}#sk-container-id-1 div.sk-serial {display: flex;flex-direction: column;align-items: center;background-color: white;padding-right: 0.2em;padding-left: 0.2em;position: relative;}#sk-container-id-1 div.sk-item {position: relative;z-index: 1;}#sk-container-id-1 div.sk-parallel {display: flex;align-items: stretch;justify-content: center;background-color: white;position: relative;}#sk-container-id-1 div.sk-item::before, #sk-container-id-1 div.sk-parallel-item::before {content: \"\";position: absolute;border-left: 1px solid gray;box-sizing: border-box;top: 0;bottom: 0;left: 50%;z-index: -1;}#sk-container-id-1 div.sk-parallel-item {display: flex;flex-direction: column;z-index: 1;position: relative;background-color: white;}#sk-container-id-1 div.sk-parallel-item:first-child::after {align-self: flex-end;width: 50%;}#sk-container-id-1 div.sk-parallel-item:last-child::after {align-self: flex-start;width: 50%;}#sk-container-id-1 div.sk-parallel-item:only-child::after {width: 0;}#sk-container-id-1 div.sk-dashed-wrapped {border: 1px dashed gray;margin: 0 0.4em 0.5em 0.4em;box-sizing: border-box;padding-bottom: 0.4em;background-color: white;}#sk-container-id-1 div.sk-label label {font-family: monospace;font-weight: bold;display: inline-block;line-height: 1.2em;}#sk-container-id-1 div.sk-label-container {text-align: center;}#sk-container-id-1 div.sk-container {/* jupyter's `normalize.less` sets `[hidden] { display: none; }` but bootstrap.min.css set `[hidden] { display: none !important; }` so we also need the `!important` here to be able to override the default hidden behavior on the sphinx rendered scikit-learn.org. See: https://github.com/scikit-learn/scikit-learn/issues/21755 */display: inline-block !important;position: relative;}#sk-container-id-1 div.sk-text-repr-fallback {display: none;}</style><div id=\"sk-container-id-1\" class=\"sk-top-container\"><div class=\"sk-text-repr-fallback\"><pre>LinearRegression()</pre><b>In a Jupyter environment, please rerun this cell to show the HTML representation or trust the notebook. <br />On GitHub, the HTML representation is unable to render, please try loading this page with nbviewer.org.</b></div><div class=\"sk-container\" hidden><div class=\"sk-item\"><div class=\"sk-estimator sk-toggleable\"><input class=\"sk-toggleable__control sk-hidden--visually\" id=\"sk-estimator-id-1\" type=\"checkbox\" checked><label for=\"sk-estimator-id-1\" class=\"sk-toggleable__label sk-toggleable__label-arrow\">LinearRegression</label><div class=\"sk-toggleable__content\"><pre>LinearRegression()</pre></div></div></div></div></div>"
      ],
      "text/plain": [
       "LinearRegression()"
      ]
     },
     "execution_count": 108,
     "metadata": {},
     "output_type": "execute_result"
    }
   ],
   "source": [
    "reg.fit(X,y)"
   ]
  },
  {
   "cell_type": "code",
   "execution_count": 109,
   "id": "b48f6f75-bdd5-43d6-80e2-a5ef996786e2",
   "metadata": {
    "tags": []
   },
   "outputs": [],
   "source": [
    "predictions = reg.predict(X)"
>>>>>>> ea9910d4e4537792dab95d27d06afd5174eec7b8
   ]
  },
  {
   "cell_type": "code",
<<<<<<< HEAD
=======
   "execution_count": 110,
   "id": "a5856ff5-04c4-488c-aeb5-d19411a1c9c8",
   "metadata": {
    "tags": []
   },
   "outputs": [
    {
     "data": {
      "image/png": "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",
      "text/plain": [
       "<Figure size 640x480 with 1 Axes>"
      ]
     },
     "metadata": {},
     "output_type": "display_data"
    }
   ],
   "source": [
    "plt.scatter(X,y)\n",
    "plt.plot(X, predictions)\n",
    "plt.ylabel(\"life expectancy (years)\")\n",
    "plt.xlabel(\"GDP per capita ($)\")\n",
    "plt.show()"
   ]
  },
  {
   "cell_type": "code",
   "execution_count": null,
   "id": "54ead417-cdf6-4305-b81a-bf1deac8c3f9",
   "metadata": {},
   "outputs": [],
   "source": []
  },
  {
   "cell_type": "code",
>>>>>>> ea9910d4e4537792dab95d27d06afd5174eec7b8
   "execution_count": null,
   "id": "af73439f-2fbd-4dca-ac65-21aa369c5aec",
   "metadata": {},
   "outputs": [],
<<<<<<< HEAD
   "source": [
    "X_train, y_train, X_test, y_test = train_test_split(X,y,test = 0.2, randomNum = 12, some=y)"
   ]
=======
   "source": []
>>>>>>> ea9910d4e4537792dab95d27d06afd5174eec7b8
  },
  {
   "cell_type": "code",
   "execution_count": null,
   "id": "89227b1e-8c59-499e-be9a-141b4ac2cefe",
   "metadata": {},
   "outputs": [],
   "source": []
  }
 ],
 "metadata": {
  "kernelspec": {
   "display_name": "Python 3 (ipykernel)",
   "language": "python",
   "name": "python3"
  },
  "language_info": {
   "codemirror_mode": {
    "name": "ipython",
    "version": 3
   },
   "file_extension": ".py",
   "mimetype": "text/x-python",
   "name": "python",
   "nbconvert_exporter": "python",
   "pygments_lexer": "ipython3",
<<<<<<< HEAD
   "version": "3.9.13"
=======
   "version": "3.11.5"
>>>>>>> ea9910d4e4537792dab95d27d06afd5174eec7b8
  }
 },
 "nbformat": 4,
 "nbformat_minor": 5
}
