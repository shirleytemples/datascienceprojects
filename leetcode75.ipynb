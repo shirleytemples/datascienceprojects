{
 "cells": [
  {
   "cell_type": "markdown",
   "id": "0d10bda5-375f-46c2-aa16-0ffc6f2cc443",
   "metadata": {},
   "source": [
    "## LeetCode 75\n",
    "75 Must problem list for interview prep \n",
    "\n",
    "best for 1-3 months of prep time"
   ]
  },
  {
   "cell_type": "markdown",
   "id": "31e16c81-f6cd-40ab-804c-91559cb50e5d",
   "metadata": {},
   "source": [
    "#### 1768. Merge Strings Alternately"
   ]
  },
  {
   "cell_type": "markdown",
   "id": "30726b33-c491-45e3-b14e-aecae725d5fe",
   "metadata": {},
   "source": [
    "You are given two strings word1 and word2. Merge the strings by adding letters in alternating order, starting with word1. If a string is longer than the other, append the additional letters onto the end of the merged string.\n",
    "\n",
    "Return the merged string.\n",
    "\n",
    " \n"
   ]
  },
  {
   "cell_type": "code",
   "execution_count": 2,
   "id": "38a066d3-5dfb-4aaf-8979-e2b1a74a75b2",
   "metadata": {},
   "outputs": [],
   "source": [
    "class Solution:\n",
    "    def mergeAlternately(self, word1: str, word2: str) -> str:    \n",
    "        if len(word1) == 0:\n",
    "            merged = word2\n",
    "\n",
    "        elif len(word2) == 0:\n",
    "            merged = word1\n",
    "\n",
    "        elif len(word1) == len(word2):\n",
    "            merged = []\n",
    "            for i in range(len(word1)):\n",
    "                merged.append(word1[i])\n",
    "                merged.append(word2[i])\n",
    "        elif len(word1) < len(word2):\n",
    "            merged = []\n",
    "            for i in range(len(word1)):\n",
    "                merged.append(word1[i])\n",
    "                merged.append(word2[i])\n",
    "            merged.append(word2[len(word1):len(word2)])\n",
    "        else:\n",
    "            merged = []\n",
    "            for i in range(len(word2)):\n",
    "                merged.append(word1[i])\n",
    "                merged.append(word2[i])\n",
    "            merged.append(word1[len(word2):len(word1)])\n",
    "        merged = ''.join(merged)\n",
    "        return merged"
   ]
  },
  {
   "cell_type": "markdown",
   "id": "6abeec9a-55d0-4f96-9b39-86b9195211ef",
   "metadata": {},
   "source": [
    "#### 1071. Greatest Common Divisor of Strings"
   ]
  },
  {
   "cell_type": "markdown",
   "id": "661410a3-b21b-4778-91f2-b67302a9e045",
   "metadata": {},
   "source": [
    "For two strings s and t, we say \"t divides s\" if and only if s = t + t + t + ... + t + t (i.e., t is concatenated with itself one or more times).\n",
    "\n",
    "Given two strings str1 and str2, return the largest string x such that x divides both str1 and str2."
   ]
  },
  {
   "cell_type": "code",
   "execution_count": 3,
   "id": "350df2d0-cd46-4eca-abe7-0ac61577adba",
   "metadata": {},
   "outputs": [],
   "source": [
    "class Solution:\n",
    "    def gcdOfStrings(self, str1: str, str2: str) -> str:\n",
    "        ls = ''\n",
    "        if len(str1) == len(str2):\n",
    "            if str1 == str2:\n",
    "                ls = str1\n",
    "            elif (str2[0]*len(str2) == str2) & (str2[0]*len(str1) == str1):\n",
    "                    ls = str1[0]\n",
    "            else:\n",
    "                ls=''\n",
    "\n",
    "        elif len(str2) > len(str1):\n",
    "            str3 = str2\n",
    "            str2 = str1\n",
    "            str1 = str3\n",
    "            if len(str2) < len(str1):\n",
    "                if str1 == str2+str2:\n",
    "                    ls = str2\n",
    "                elif True:\n",
    "                    for i in range(len(str2),0,-1):\n",
    "                        if str2[:i]*(len(str2)//i) == str2:\n",
    "                            if str2[:i]*(len(str1)//i) == str1:\n",
    "                                ls = str2[:i]\n",
    "                                print(ls)\n",
    "                                return ls\n",
    "#                            else:\n",
    "#                                continue\n",
    "#                        else:\n",
    "#                            continue\n",
    "                elif (str2[0]*len(str2) == str2) & (str2[0]*len(str1) == str1):\n",
    "                    ls = str1[0]\n",
    "                else:\n",
    "                    ls=''\n",
    "        else:\n",
    "                if str1 == str2+str2:\n",
    "                    ls = str2\n",
    "                elif True:\n",
    "                    for i in range(len(str2),0,-1):\n",
    "                        if str2[:i]*(len(str2)//i) == str2:\n",
    "                            if str2[:i]*(len(str1)//i) == str1:\n",
    "                                ls = str2[:i]\n",
    "                                return ls\n",
    "                            else:\n",
    "                                continue\n",
    "                        else:\n",
    "                            continue\n",
    "                elif (str2[0]*len(str2) == str2) & (str2[0]*len(str1) == str1):\n",
    "                    ls = str1[0]\n",
    "                else:\n",
    "                    ls=''\n",
    "        return ls"
   ]
  },
  {
   "cell_type": "markdown",
   "id": "f05b9dcd-ae85-4a3e-8de7-3b1c53ddf0b6",
   "metadata": {},
   "source": [
    "### 1431. Kids With the Greatest Number of Candies"
   ]
  },
  {
   "cell_type": "markdown",
   "id": "485285a9-71b0-4e91-a22e-3aa6945c1dd0",
   "metadata": {},
   "source": [
    "There are n kids with candies. You are given an integer array candies, where each candies[i] represents the number of candies the ith kid has, and an integer extraCandies, denoting the number of extra candies that you have.\n",
    "\n",
    "Return a boolean array result of length n, where result[i] is true if, after giving the ith kid all the extraCandies, they will have the greatest number of candies among all the kids, or false otherwise.\n",
    "\n",
    "Note that multiple kids can have the greatest number of candies."
   ]
  },
  {
   "cell_type": "code",
   "execution_count": 19,
   "id": "0254a819-7db2-4d79-815a-5f5b6f9f87eb",
   "metadata": {},
   "outputs": [],
   "source": [
    "candies = [12,1,12]\n",
    "extraCandies = 10"
   ]
  },
  {
   "cell_type": "code",
   "execution_count": 20,
   "id": "4cd0e147-8e94-4341-95e9-503fc4a187aa",
   "metadata": {},
   "outputs": [
    {
     "name": "stdout",
     "output_type": "stream",
     "text": [
      "12\n",
      "1\n",
      "12\n"
     ]
    }
   ],
   "source": [
    "for i in candies:\n",
    "    print(i)"
   ]
  },
  {
   "cell_type": "code",
   "execution_count": 21,
   "id": "3615421a-8f31-4427-b05d-e728e2ff4ee4",
   "metadata": {},
   "outputs": [],
   "source": [
    "def kidsWithCandies(candies, extraCandies):\n",
    "    result = []\n",
    "    for i in candies:\n",
    "        if i + extraCandies >= max(candies):\n",
    "            result.append(\"True\")\n",
    "        else:\n",
    "            result.append(\"False\")\n",
    "    return result"
   ]
  },
  {
   "cell_type": "code",
   "execution_count": 22,
   "id": "f34a0715-59b7-45ef-9a9f-c56c7fdb806c",
   "metadata": {},
   "outputs": [
    {
     "data": {
      "text/plain": [
       "['True', 'False', 'True']"
      ]
     },
     "execution_count": 22,
     "metadata": {},
     "output_type": "execute_result"
    }
   ],
   "source": [
    "kidsWithCandies(candies, extraCandies)"
   ]
  },
  {
   "cell_type": "markdown",
   "id": "59cb5643-0eb9-4c48-a0e3-a53e477381fd",
   "metadata": {},
   "source": [
    "#### 605. Can Place Flowers"
   ]
  },
  {
   "cell_type": "markdown",
   "id": "8c32aec7-419b-4c16-845a-664acae1c40b",
   "metadata": {},
   "source": [
    "You have a long flowerbed in which some of the plots are planted, and some are not. However, flowers cannot be planted in adjacent plots.\n",
    "\n",
    "Given an integer array flowerbed containing 0's and 1's, where 0 means empty and 1 means not empty, and an integer n, return true if n new flowers can be planted in the flowerbed without violating the no-adjacent-flowers rule and false otherwise."
   ]
  },
  {
   "cell_type": "code",
   "execution_count": 142,
   "id": "d08f70fe-5cf3-45e1-8360-c7f5fe55a585",
   "metadata": {},
   "outputs": [],
   "source": [
    "flowerbed =[0,0,1,0]\n",
    "n = 1"
   ]
  },
  {
   "cell_type": "code",
   "execution_count": 143,
   "id": "005f2303-ba81-4705-a44a-1b6b6774d5b4",
   "metadata": {},
   "outputs": [],
   "source": [
    "def canPlaceFlowers(flowerbed, n):\n",
    "        count = 0\n",
    "        flowerbed = [0] + flowerbed + [0] \n",
    "        for i in range(1,len(flowerbed)-1):\n",
    "            if flowerbed[i-1] == 0 and flowerbed[i] == 0 and flowerbed[i+1] == 0:\n",
    "                flowerbed[i] = 1\n",
    "                count+=1\n",
    "        return count>=n\n",
    "            "
   ]
  },
  {
   "cell_type": "code",
   "execution_count": 144,
   "id": "bf209c77-b118-47cc-8a3d-fce51eb84579",
   "metadata": {},
   "outputs": [
    {
     "data": {
      "text/plain": [
       "True"
      ]
     },
     "execution_count": 144,
     "metadata": {},
     "output_type": "execute_result"
    }
   ],
   "source": [
    "canPlaceFlowers(flowerbed, n)"
   ]
  }
 ],
 "metadata": {
  "kernelspec": {
   "display_name": "Python 3 (ipykernel)",
   "language": "python",
   "name": "python3"
  },
  "language_info": {
   "codemirror_mode": {
    "name": "ipython",
    "version": 3
   },
   "file_extension": ".py",
   "mimetype": "text/x-python",
   "name": "python",
   "nbconvert_exporter": "python",
   "pygments_lexer": "ipython3",
   "version": "3.9.13"
  }
 },
 "nbformat": 4,
 "nbformat_minor": 5
}
